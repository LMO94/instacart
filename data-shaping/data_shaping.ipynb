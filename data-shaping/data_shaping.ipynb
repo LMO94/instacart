{
 "metadata": {
  "language_info": {
   "codemirror_mode": {
    "name": "ipython",
    "version": 3
   },
   "file_extension": ".py",
   "mimetype": "text/x-python",
   "name": "python",
   "nbconvert_exporter": "python",
   "pygments_lexer": "ipython3",
   "version": "3.9.2-final"
  },
  "orig_nbformat": 2,
  "kernelspec": {
   "name": "python3",
   "display_name": "Python 3.9.2 64-bit ('sdgintelligence': conda)",
   "metadata": {
    "interpreter": {
     "hash": "4d198db3004a5d782a9b125a9ca7c280e15699d0f763bb373d27ceb8bdaa546a"
    }
   }
  }
 },
 "nbformat": 4,
 "nbformat_minor": 2,
 "cells": [
  {
   "cell_type": "code",
   "execution_count": 2,
   "metadata": {},
   "outputs": [],
   "source": [
    "# Importing libraries\n",
    "import pandas as pd\n",
    "from os import listdir"
   ]
  },
  {
   "cell_type": "code",
   "execution_count": 3,
   "metadata": {},
   "outputs": [],
   "source": [
    "files = [file.split('.')[0] for file in listdir(\"../data\")]"
   ]
  },
  {
   "cell_type": "code",
   "execution_count": 4,
   "metadata": {},
   "outputs": [],
   "source": [
    "eval_expr = ', '.join(f'pd.read_csv(\\'../data/{file}.csv\\')' for file in files)"
   ]
  },
  {
   "cell_type": "code",
   "execution_count": 5,
   "metadata": {},
   "outputs": [],
   "source": [
    "products, orders, departments, order_products_train, aisles, order_products_prior, sample_submission = eval(eval_expr)"
   ]
  },
  {
   "cell_type": "code",
   "execution_count": 6,
   "metadata": {},
   "outputs": [
    {
     "output_type": "execute_result",
     "data": {
      "text/plain": [
       "   order_id  user_id eval_set  order_number  order_dow  order_hour_of_day  \\\n",
       "0   2539329        1    prior             1          2                  8   \n",
       "1   2539329        1    prior             1          2                  8   \n",
       "2   2539329        1    prior             1          2                  8   \n",
       "3   2539329        1    prior             1          2                  8   \n",
       "4   2539329        1    prior             1          2                  8   \n",
       "\n",
       "   days_since_prior_order  product_id  add_to_cart_order  reordered  \n",
       "0                     NaN         196                  1          0  \n",
       "1                     NaN       14084                  2          0  \n",
       "2                     NaN       12427                  3          0  \n",
       "3                     NaN       26088                  4          0  \n",
       "4                     NaN       26405                  5          0  "
      ],
      "text/html": "<div>\n<style scoped>\n    .dataframe tbody tr th:only-of-type {\n        vertical-align: middle;\n    }\n\n    .dataframe tbody tr th {\n        vertical-align: top;\n    }\n\n    .dataframe thead th {\n        text-align: right;\n    }\n</style>\n<table border=\"1\" class=\"dataframe\">\n  <thead>\n    <tr style=\"text-align: right;\">\n      <th></th>\n      <th>order_id</th>\n      <th>user_id</th>\n      <th>eval_set</th>\n      <th>order_number</th>\n      <th>order_dow</th>\n      <th>order_hour_of_day</th>\n      <th>days_since_prior_order</th>\n      <th>product_id</th>\n      <th>add_to_cart_order</th>\n      <th>reordered</th>\n    </tr>\n  </thead>\n  <tbody>\n    <tr>\n      <th>0</th>\n      <td>2539329</td>\n      <td>1</td>\n      <td>prior</td>\n      <td>1</td>\n      <td>2</td>\n      <td>8</td>\n      <td>NaN</td>\n      <td>196</td>\n      <td>1</td>\n      <td>0</td>\n    </tr>\n    <tr>\n      <th>1</th>\n      <td>2539329</td>\n      <td>1</td>\n      <td>prior</td>\n      <td>1</td>\n      <td>2</td>\n      <td>8</td>\n      <td>NaN</td>\n      <td>14084</td>\n      <td>2</td>\n      <td>0</td>\n    </tr>\n    <tr>\n      <th>2</th>\n      <td>2539329</td>\n      <td>1</td>\n      <td>prior</td>\n      <td>1</td>\n      <td>2</td>\n      <td>8</td>\n      <td>NaN</td>\n      <td>12427</td>\n      <td>3</td>\n      <td>0</td>\n    </tr>\n    <tr>\n      <th>3</th>\n      <td>2539329</td>\n      <td>1</td>\n      <td>prior</td>\n      <td>1</td>\n      <td>2</td>\n      <td>8</td>\n      <td>NaN</td>\n      <td>26088</td>\n      <td>4</td>\n      <td>0</td>\n    </tr>\n    <tr>\n      <th>4</th>\n      <td>2539329</td>\n      <td>1</td>\n      <td>prior</td>\n      <td>1</td>\n      <td>2</td>\n      <td>8</td>\n      <td>NaN</td>\n      <td>26405</td>\n      <td>5</td>\n      <td>0</td>\n    </tr>\n  </tbody>\n</table>\n</div>"
     },
     "metadata": {},
     "execution_count": 6
    }
   ],
   "source": [
    "# Shaping the data\n",
    "\n",
    "prior_orders = pd.merge(orders, order_products_prior, on='order_id', how='inner')\n",
    "prior_orders.head()\n"
   ]
  },
  {
   "source": [
    "#Creating predictors\n",
    "\n",
    "#Possible predictor categories:\n",
    "#1. User predictors: How often does a user reorder? \n",
    "#2. Product Predictors: How often is a product reordered?\n",
    "#3. User-Product Predictors: How often does a user buy a specific product?"
   ],
   "cell_type": "code",
   "metadata": {},
   "execution_count": 7,
   "outputs": []
  },
  {
   "cell_type": "code",
   "execution_count": 8,
   "metadata": {},
   "outputs": [],
   "source": [
    "total_orders_feature = prior_orders.groupby('user_id').agg(\n",
    "    total_orders = pd.NamedAgg(column='order_number', aggfunc='max')\n",
    ").reset_index()"
   ]
  },
  {
   "cell_type": "code",
   "execution_count": 9,
   "metadata": {},
   "outputs": [],
   "source": [
    "user_reorder_ratio = prior_orders.groupby('user_id').agg(\n",
    "    reorder_ratio = pd.NamedAgg(column='reordered', aggfunc='mean')\n",
    ").reset_index()"
   ]
  },
  {
   "cell_type": "code",
   "execution_count": 10,
   "metadata": {},
   "outputs": [],
   "source": [
    "# Joining the two user features on id 'user_id'\n",
    "user_features = total_orders_feature.merge(user_reorder_ratio, on='user_id', how='inner')"
   ]
  },
  {
   "cell_type": "code",
   "execution_count": 11,
   "metadata": {},
   "outputs": [],
   "source": [
    "# Product features\n",
    "\n",
    "total_product_purchases = prior_orders.groupby('product_id').agg(\n",
    "    total_product_purchases = pd.NamedAgg(column='order_id', aggfunc='count')\n",
    ").reset_index()"
   ]
  },
  {
   "cell_type": "code",
   "execution_count": 12,
   "metadata": {},
   "outputs": [],
   "source": [
    "product_reorder_ratio = prior_orders.groupby('product_id').agg(\n",
    "    product_reorder_ratio = pd.NamedAgg(column='reordered', aggfunc='mean')\n",
    ").reset_index()"
   ]
  },
  {
   "cell_type": "code",
   "execution_count": 13,
   "metadata": {},
   "outputs": [],
   "source": [
    "product_reorder_ratio_filtered = product_reorder_ratio.loc[product_reorder_ratio['product_reorder_ratio'] > 0.5]"
   ]
  },
  {
   "cell_type": "code",
   "execution_count": 14,
   "metadata": {},
   "outputs": [],
   "source": [
    "# Join product features\n",
    "product_features = total_product_purchases.merge(product_reorder_ratio_filtered, on='product_id', how='left').fillna(0)"
   ]
  },
  {
   "cell_type": "code",
   "execution_count": 15,
   "metadata": {},
   "outputs": [],
   "source": [
    "# User-product predictors\n",
    "total_product_buys = prior_orders.groupby(['user_id', 'product_id']).agg(\n",
    "    total_product_buys = pd.NamedAgg(column='order_id', aggfunc='count')\n",
    ").reset_index()"
   ]
  },
  {
   "cell_type": "code",
   "execution_count": 16,
   "metadata": {},
   "outputs": [],
   "source": [
    "features_user_product = total_product_buys.merge(user_features, on='user_id', how='left')"
   ]
  },
  {
   "cell_type": "code",
   "execution_count": 17,
   "metadata": {},
   "outputs": [],
   "source": [
    "# Combining features\n",
    "\n",
    "features_user_product = features_user_product.merge(product_features, on='product_id', how='inner')"
   ]
  },
  {
   "cell_type": "code",
   "execution_count": 18,
   "metadata": {},
   "outputs": [
    {
     "output_type": "execute_result",
     "data": {
      "text/plain": [
       "   user_id  product_id  total_product_buys  total_orders  reorder_ratio  \\\n",
       "0        1         196                  10            10       0.694915   \n",
       "1       15         196                   5            22       0.819444   \n",
       "2       19         196                   3             9       0.348039   \n",
       "3       21         196                   1            33       0.502439   \n",
       "4       31         196                   2            20       0.364548   \n",
       "5       43         196                   2            11       0.401361   \n",
       "6       52         196                  14            27       0.698225   \n",
       "7       67         196                  19            24       0.716049   \n",
       "8       81         196                   2             7       0.259259   \n",
       "9       82         196                   9            19       0.793893   \n",
       "\n",
       "   total_product_purchases  product_reorder_ratio  \n",
       "0                    35791                0.77648  \n",
       "1                    35791                0.77648  \n",
       "2                    35791                0.77648  \n",
       "3                    35791                0.77648  \n",
       "4                    35791                0.77648  \n",
       "5                    35791                0.77648  \n",
       "6                    35791                0.77648  \n",
       "7                    35791                0.77648  \n",
       "8                    35791                0.77648  \n",
       "9                    35791                0.77648  "
      ],
      "text/html": "<div>\n<style scoped>\n    .dataframe tbody tr th:only-of-type {\n        vertical-align: middle;\n    }\n\n    .dataframe tbody tr th {\n        vertical-align: top;\n    }\n\n    .dataframe thead th {\n        text-align: right;\n    }\n</style>\n<table border=\"1\" class=\"dataframe\">\n  <thead>\n    <tr style=\"text-align: right;\">\n      <th></th>\n      <th>user_id</th>\n      <th>product_id</th>\n      <th>total_product_buys</th>\n      <th>total_orders</th>\n      <th>reorder_ratio</th>\n      <th>total_product_purchases</th>\n      <th>product_reorder_ratio</th>\n    </tr>\n  </thead>\n  <tbody>\n    <tr>\n      <th>0</th>\n      <td>1</td>\n      <td>196</td>\n      <td>10</td>\n      <td>10</td>\n      <td>0.694915</td>\n      <td>35791</td>\n      <td>0.77648</td>\n    </tr>\n    <tr>\n      <th>1</th>\n      <td>15</td>\n      <td>196</td>\n      <td>5</td>\n      <td>22</td>\n      <td>0.819444</td>\n      <td>35791</td>\n      <td>0.77648</td>\n    </tr>\n    <tr>\n      <th>2</th>\n      <td>19</td>\n      <td>196</td>\n      <td>3</td>\n      <td>9</td>\n      <td>0.348039</td>\n      <td>35791</td>\n      <td>0.77648</td>\n    </tr>\n    <tr>\n      <th>3</th>\n      <td>21</td>\n      <td>196</td>\n      <td>1</td>\n      <td>33</td>\n      <td>0.502439</td>\n      <td>35791</td>\n      <td>0.77648</td>\n    </tr>\n    <tr>\n      <th>4</th>\n      <td>31</td>\n      <td>196</td>\n      <td>2</td>\n      <td>20</td>\n      <td>0.364548</td>\n      <td>35791</td>\n      <td>0.77648</td>\n    </tr>\n    <tr>\n      <th>5</th>\n      <td>43</td>\n      <td>196</td>\n      <td>2</td>\n      <td>11</td>\n      <td>0.401361</td>\n      <td>35791</td>\n      <td>0.77648</td>\n    </tr>\n    <tr>\n      <th>6</th>\n      <td>52</td>\n      <td>196</td>\n      <td>14</td>\n      <td>27</td>\n      <td>0.698225</td>\n      <td>35791</td>\n      <td>0.77648</td>\n    </tr>\n    <tr>\n      <th>7</th>\n      <td>67</td>\n      <td>196</td>\n      <td>19</td>\n      <td>24</td>\n      <td>0.716049</td>\n      <td>35791</td>\n      <td>0.77648</td>\n    </tr>\n    <tr>\n      <th>8</th>\n      <td>81</td>\n      <td>196</td>\n      <td>2</td>\n      <td>7</td>\n      <td>0.259259</td>\n      <td>35791</td>\n      <td>0.77648</td>\n    </tr>\n    <tr>\n      <th>9</th>\n      <td>82</td>\n      <td>196</td>\n      <td>9</td>\n      <td>19</td>\n      <td>0.793893</td>\n      <td>35791</td>\n      <td>0.77648</td>\n    </tr>\n  </tbody>\n</table>\n</div>"
     },
     "metadata": {},
     "execution_count": 18
    }
   ],
   "source": [
    "features_user_product.head(10)"
   ]
  },
  {
   "cell_type": "code",
   "execution_count": 19,
   "metadata": {},
   "outputs": [
    {
     "output_type": "execute_result",
     "data": {
      "text/plain": [
       "    user_id eval_set  order_id\n",
       "10        1    train   1187899\n",
       "25        2    train   1492625\n",
       "38        3     test   2774568\n",
       "44        4     test    329954\n",
       "49        5    train   2196797\n",
       "53        6     test   1528013\n",
       "74        7    train    525192\n",
       "78        8    train    880375\n",
       "82        9    train   1094988\n",
       "88       10    train   1822501"
      ],
      "text/html": "<div>\n<style scoped>\n    .dataframe tbody tr th:only-of-type {\n        vertical-align: middle;\n    }\n\n    .dataframe tbody tr th {\n        vertical-align: top;\n    }\n\n    .dataframe thead th {\n        text-align: right;\n    }\n</style>\n<table border=\"1\" class=\"dataframe\">\n  <thead>\n    <tr style=\"text-align: right;\">\n      <th></th>\n      <th>user_id</th>\n      <th>eval_set</th>\n      <th>order_id</th>\n    </tr>\n  </thead>\n  <tbody>\n    <tr>\n      <th>10</th>\n      <td>1</td>\n      <td>train</td>\n      <td>1187899</td>\n    </tr>\n    <tr>\n      <th>25</th>\n      <td>2</td>\n      <td>train</td>\n      <td>1492625</td>\n    </tr>\n    <tr>\n      <th>38</th>\n      <td>3</td>\n      <td>test</td>\n      <td>2774568</td>\n    </tr>\n    <tr>\n      <th>44</th>\n      <td>4</td>\n      <td>test</td>\n      <td>329954</td>\n    </tr>\n    <tr>\n      <th>49</th>\n      <td>5</td>\n      <td>train</td>\n      <td>2196797</td>\n    </tr>\n    <tr>\n      <th>53</th>\n      <td>6</td>\n      <td>test</td>\n      <td>1528013</td>\n    </tr>\n    <tr>\n      <th>74</th>\n      <td>7</td>\n      <td>train</td>\n      <td>525192</td>\n    </tr>\n    <tr>\n      <th>78</th>\n      <td>8</td>\n      <td>train</td>\n      <td>880375</td>\n    </tr>\n    <tr>\n      <th>82</th>\n      <td>9</td>\n      <td>train</td>\n      <td>1094988</td>\n    </tr>\n    <tr>\n      <th>88</th>\n      <td>10</td>\n      <td>train</td>\n      <td>1822501</td>\n    </tr>\n  </tbody>\n</table>\n</div>"
     },
     "metadata": {},
     "execution_count": 19
    }
   ],
   "source": [
    "orders_future = orders[((orders['eval_set']=='train') | (orders['eval_set']=='test'))]\n",
    "orders_future = orders_future[ ['user_id', 'eval_set', 'order_id'] ]\n",
    "orders_future.head(10)"
   ]
  },
  {
   "cell_type": "code",
   "execution_count": 20,
   "metadata": {},
   "outputs": [],
   "source": [
    "data_prep = features_user_product.merge(orders_future, on='user_id', how='left')\n"
   ]
  },
  {
   "cell_type": "code",
   "execution_count": 21,
   "metadata": {},
   "outputs": [],
   "source": [
    "# Curating training dataframe\n",
    "train_data = data_prep[data_prep['eval_set']=='train']"
   ]
  },
  {
   "cell_type": "code",
   "execution_count": 22,
   "metadata": {},
   "outputs": [
    {
     "output_type": "execute_result",
     "data": {
      "text/plain": [
       "   user_id  product_id  total_product_buys  total_orders  reorder_ratio  \\\n",
       "0        1         196                  10            10       0.694915   \n",
       "3       21         196                   1            33       0.502439   \n",
       "5       43         196                   2            11       0.401361   \n",
       "6       52         196                  14            27       0.698225   \n",
       "7       67         196                  19            24       0.716049   \n",
       "\n",
       "   total_product_purchases  product_reorder_ratio eval_set  order_id  \n",
       "0                    35791                0.77648    train   1187899  \n",
       "3                    35791                0.77648    train   1854765  \n",
       "5                    35791                0.77648    train   1864787  \n",
       "6                    35791                0.77648    train   1647290  \n",
       "7                    35791                0.77648    train   2757217  "
      ],
      "text/html": "<div>\n<style scoped>\n    .dataframe tbody tr th:only-of-type {\n        vertical-align: middle;\n    }\n\n    .dataframe tbody tr th {\n        vertical-align: top;\n    }\n\n    .dataframe thead th {\n        text-align: right;\n    }\n</style>\n<table border=\"1\" class=\"dataframe\">\n  <thead>\n    <tr style=\"text-align: right;\">\n      <th></th>\n      <th>user_id</th>\n      <th>product_id</th>\n      <th>total_product_buys</th>\n      <th>total_orders</th>\n      <th>reorder_ratio</th>\n      <th>total_product_purchases</th>\n      <th>product_reorder_ratio</th>\n      <th>eval_set</th>\n      <th>order_id</th>\n    </tr>\n  </thead>\n  <tbody>\n    <tr>\n      <th>0</th>\n      <td>1</td>\n      <td>196</td>\n      <td>10</td>\n      <td>10</td>\n      <td>0.694915</td>\n      <td>35791</td>\n      <td>0.77648</td>\n      <td>train</td>\n      <td>1187899</td>\n    </tr>\n    <tr>\n      <th>3</th>\n      <td>21</td>\n      <td>196</td>\n      <td>1</td>\n      <td>33</td>\n      <td>0.502439</td>\n      <td>35791</td>\n      <td>0.77648</td>\n      <td>train</td>\n      <td>1854765</td>\n    </tr>\n    <tr>\n      <th>5</th>\n      <td>43</td>\n      <td>196</td>\n      <td>2</td>\n      <td>11</td>\n      <td>0.401361</td>\n      <td>35791</td>\n      <td>0.77648</td>\n      <td>train</td>\n      <td>1864787</td>\n    </tr>\n    <tr>\n      <th>6</th>\n      <td>52</td>\n      <td>196</td>\n      <td>14</td>\n      <td>27</td>\n      <td>0.698225</td>\n      <td>35791</td>\n      <td>0.77648</td>\n      <td>train</td>\n      <td>1647290</td>\n    </tr>\n    <tr>\n      <th>7</th>\n      <td>67</td>\n      <td>196</td>\n      <td>19</td>\n      <td>24</td>\n      <td>0.716049</td>\n      <td>35791</td>\n      <td>0.77648</td>\n      <td>train</td>\n      <td>2757217</td>\n    </tr>\n  </tbody>\n</table>\n</div>"
     },
     "metadata": {},
     "execution_count": 22
    }
   ],
   "source": [
    "train_data.head(5)"
   ]
  },
  {
   "cell_type": "code",
   "execution_count": 23,
   "metadata": {},
   "outputs": [],
   "source": [
    "train_data = train_data.merge(order_products_train[['product_id','order_id', 'reordered']], on=['product_id','order_id'], how='left')"
   ]
  },
  {
   "cell_type": "code",
   "execution_count": 25,
   "metadata": {},
   "outputs": [],
   "source": [
    "train_data['reordered'] = train_data['reordered'].fillna(0)"
   ]
  },
  {
   "cell_type": "code",
   "execution_count": null,
   "metadata": {},
   "outputs": [],
   "source": []
  }
 ]
}