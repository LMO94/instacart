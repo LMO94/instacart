{
 "metadata": {
  "language_info": {
   "codemirror_mode": {
    "name": "ipython",
    "version": 3
   },
   "file_extension": ".py",
   "mimetype": "text/x-python",
   "name": "python",
   "nbconvert_exporter": "python",
   "pygments_lexer": "ipython3",
   "version": "3.8.5"
  },
  "orig_nbformat": 2,
  "kernelspec": {
   "name": "python385jvsc74a57bd0e6b5103c7a1adf0bfd16ce87b7ee4efa02299f451c8cd6bb66a99b126000572d",
   "display_name": "Python 3.8.5 64-bit ('base': conda)"
  },
  "metadata": {
   "interpreter": {
    "hash": "e6b5103c7a1adf0bfd16ce87b7ee4efa02299f451c8cd6bb66a99b126000572d"
   }
  }
 },
 "nbformat": 4,
 "nbformat_minor": 2,
 "cells": [
  {
   "cell_type": "code",
   "execution_count": 4,
   "metadata": {},
   "outputs": [],
   "source": [
    "import pandas as pd"
   ]
  },
  {
   "cell_type": "code",
   "execution_count": 5,
   "metadata": {},
   "outputs": [],
   "source": [
    "products = pd.read_csv('../data/products.csv')\n",
    "aisles = pd.read_csv('../data/aisles.csv')\n",
    "departments = pd.read_csv('../data/departments.csv')\n",
    "order_products_prior = pd.read_csv('../data/order_products_prior.csv')\n",
    "order_products_train = pd.read_csv('../data/order_products_train.csv')\n",
    "orders = pd.read_csv('../data/orders.csv')\n",
    "sample_submission = pd.read_csv('../data/sample_submission.csv')"
   ]
  },
  {
   "cell_type": "code",
   "execution_count": null,
   "metadata": {},
   "outputs": [],
   "source": []
  },
  {
   "cell_type": "code",
   "execution_count": 6,
   "metadata": {},
   "outputs": [],
   "source": [
    "#creating one big dataframe called all_orders with most of the features included. \n",
    "all_orders = pd.concat([order_products_prior,order_products_train])\n",
    "all_orders = all_orders.merge(orders[['order_id','user_id']], on='order_id', how='inner')\n",
    "all_orders = all_orders.merge(products, on = 'product_id', how='inner')\n",
    "all_orders = all_orders.merge(departments, on = 'department_id', how='inner')\n",
    "all_orders = all_orders.merge(aisles, on = 'aisle_id', how='inner')\n"
   ]
  },
  {
   "cell_type": "code",
   "execution_count": 7,
   "metadata": {},
   "outputs": [],
   "source": [
    "#How many products the user bought from each aisle \n",
    "cnt_per_aisle = all_orders[['user_id','aisle','product_name']].groupby(['user_id', 'aisle']).count().reset_index() \n",
    "\n",
    "cnt_per_aisle = cnt_per_aisle.rename(columns={'product_name':'product_cnt_per_aisle'})"
   ]
  },
  {
   "cell_type": "code",
   "execution_count": 8,
   "metadata": {},
   "outputs": [
    {
     "output_type": "execute_result",
     "data": {
      "text/plain": [
       "         user_id              aisle  product_cnt_per_aisle\n",
       "0              1    candy chocolate                      2\n",
       "1              1             cereal                      4\n",
       "2              1              cream                      3\n",
       "3              1       fresh fruits                      5\n",
       "4              1               milk                      1\n",
       "...          ...                ...                    ...\n",
       "5919835   206209        soft drinks                     11\n",
       "5919836   206209    soy lactosefree                     10\n",
       "5919837   206209  spices seasonings                      1\n",
       "5919838   206209  trash bags liners                      1\n",
       "5919839   206209             yogurt                      3\n",
       "\n",
       "[5919840 rows x 3 columns]"
      ],
      "text/html": "<div>\n<style scoped>\n    .dataframe tbody tr th:only-of-type {\n        vertical-align: middle;\n    }\n\n    .dataframe tbody tr th {\n        vertical-align: top;\n    }\n\n    .dataframe thead th {\n        text-align: right;\n    }\n</style>\n<table border=\"1\" class=\"dataframe\">\n  <thead>\n    <tr style=\"text-align: right;\">\n      <th></th>\n      <th>user_id</th>\n      <th>aisle</th>\n      <th>product_cnt_per_aisle</th>\n    </tr>\n  </thead>\n  <tbody>\n    <tr>\n      <th>0</th>\n      <td>1</td>\n      <td>candy chocolate</td>\n      <td>2</td>\n    </tr>\n    <tr>\n      <th>1</th>\n      <td>1</td>\n      <td>cereal</td>\n      <td>4</td>\n    </tr>\n    <tr>\n      <th>2</th>\n      <td>1</td>\n      <td>cream</td>\n      <td>3</td>\n    </tr>\n    <tr>\n      <th>3</th>\n      <td>1</td>\n      <td>fresh fruits</td>\n      <td>5</td>\n    </tr>\n    <tr>\n      <th>4</th>\n      <td>1</td>\n      <td>milk</td>\n      <td>1</td>\n    </tr>\n    <tr>\n      <th>...</th>\n      <td>...</td>\n      <td>...</td>\n      <td>...</td>\n    </tr>\n    <tr>\n      <th>5919835</th>\n      <td>206209</td>\n      <td>soft drinks</td>\n      <td>11</td>\n    </tr>\n    <tr>\n      <th>5919836</th>\n      <td>206209</td>\n      <td>soy lactosefree</td>\n      <td>10</td>\n    </tr>\n    <tr>\n      <th>5919837</th>\n      <td>206209</td>\n      <td>spices seasonings</td>\n      <td>1</td>\n    </tr>\n    <tr>\n      <th>5919838</th>\n      <td>206209</td>\n      <td>trash bags liners</td>\n      <td>1</td>\n    </tr>\n    <tr>\n      <th>5919839</th>\n      <td>206209</td>\n      <td>yogurt</td>\n      <td>3</td>\n    </tr>\n  </tbody>\n</table>\n<p>5919840 rows × 3 columns</p>\n</div>"
     },
     "metadata": {},
     "execution_count": 8
    }
   ],
   "source": [
    "cnt_per_aisle"
   ]
  },
  {
   "cell_type": "code",
   "execution_count": 9,
   "metadata": {},
   "outputs": [
    {
     "output_type": "execute_result",
     "data": {
      "text/plain": [
       "         product_cnt_per_aisle\n",
       "user_id                       \n",
       "1                           70\n",
       "2                          226\n",
       "3                           88\n",
       "4                           18\n",
       "5                           46\n",
       "...                        ...\n",
       "206205                      51\n",
       "206206                     285\n",
       "206207                     223\n",
       "206208                     677\n",
       "206209                     137\n",
       "\n",
       "[206209 rows x 1 columns]"
      ],
      "text/html": "<div>\n<style scoped>\n    .dataframe tbody tr th:only-of-type {\n        vertical-align: middle;\n    }\n\n    .dataframe tbody tr th {\n        vertical-align: top;\n    }\n\n    .dataframe thead th {\n        text-align: right;\n    }\n</style>\n<table border=\"1\" class=\"dataframe\">\n  <thead>\n    <tr style=\"text-align: right;\">\n      <th></th>\n      <th>product_cnt_per_aisle</th>\n    </tr>\n    <tr>\n      <th>user_id</th>\n      <th></th>\n    </tr>\n  </thead>\n  <tbody>\n    <tr>\n      <th>1</th>\n      <td>70</td>\n    </tr>\n    <tr>\n      <th>2</th>\n      <td>226</td>\n    </tr>\n    <tr>\n      <th>3</th>\n      <td>88</td>\n    </tr>\n    <tr>\n      <th>4</th>\n      <td>18</td>\n    </tr>\n    <tr>\n      <th>5</th>\n      <td>46</td>\n    </tr>\n    <tr>\n      <th>...</th>\n      <td>...</td>\n    </tr>\n    <tr>\n      <th>206205</th>\n      <td>51</td>\n    </tr>\n    <tr>\n      <th>206206</th>\n      <td>285</td>\n    </tr>\n    <tr>\n      <th>206207</th>\n      <td>223</td>\n    </tr>\n    <tr>\n      <th>206208</th>\n      <td>677</td>\n    </tr>\n    <tr>\n      <th>206209</th>\n      <td>137</td>\n    </tr>\n  </tbody>\n</table>\n<p>206209 rows × 1 columns</p>\n</div>"
     },
     "metadata": {},
     "execution_count": 9
    }
   ],
   "source": [
    "#Total product purchased by user id \n",
    "ttl_per_user = cnt_per_aisle.groupby([\"user_id\"]).sum()\n",
    "ttl_per_user"
   ]
  },
  {
   "cell_type": "code",
   "execution_count": 10,
   "metadata": {},
   "outputs": [
    {
     "output_type": "execute_result",
     "data": {
      "text/plain": [
       "         user_id              aisle  aisle_share\n",
       "0              1    candy chocolate     0.028571\n",
       "1              1             cereal     0.057143\n",
       "2              1              cream     0.042857\n",
       "3              1       fresh fruits     0.071429\n",
       "4              1               milk     0.014286\n",
       "...          ...                ...          ...\n",
       "5919835   206209        soft drinks     0.080292\n",
       "5919836   206209    soy lactosefree     0.072993\n",
       "5919837   206209  spices seasonings     0.007299\n",
       "5919838   206209  trash bags liners     0.007299\n",
       "5919839   206209             yogurt     0.021898\n",
       "\n",
       "[5919840 rows x 3 columns]"
      ],
      "text/html": "<div>\n<style scoped>\n    .dataframe tbody tr th:only-of-type {\n        vertical-align: middle;\n    }\n\n    .dataframe tbody tr th {\n        vertical-align: top;\n    }\n\n    .dataframe thead th {\n        text-align: right;\n    }\n</style>\n<table border=\"1\" class=\"dataframe\">\n  <thead>\n    <tr style=\"text-align: right;\">\n      <th></th>\n      <th>user_id</th>\n      <th>aisle</th>\n      <th>aisle_share</th>\n    </tr>\n  </thead>\n  <tbody>\n    <tr>\n      <th>0</th>\n      <td>1</td>\n      <td>candy chocolate</td>\n      <td>0.028571</td>\n    </tr>\n    <tr>\n      <th>1</th>\n      <td>1</td>\n      <td>cereal</td>\n      <td>0.057143</td>\n    </tr>\n    <tr>\n      <th>2</th>\n      <td>1</td>\n      <td>cream</td>\n      <td>0.042857</td>\n    </tr>\n    <tr>\n      <th>3</th>\n      <td>1</td>\n      <td>fresh fruits</td>\n      <td>0.071429</td>\n    </tr>\n    <tr>\n      <th>4</th>\n      <td>1</td>\n      <td>milk</td>\n      <td>0.014286</td>\n    </tr>\n    <tr>\n      <th>...</th>\n      <td>...</td>\n      <td>...</td>\n      <td>...</td>\n    </tr>\n    <tr>\n      <th>5919835</th>\n      <td>206209</td>\n      <td>soft drinks</td>\n      <td>0.080292</td>\n    </tr>\n    <tr>\n      <th>5919836</th>\n      <td>206209</td>\n      <td>soy lactosefree</td>\n      <td>0.072993</td>\n    </tr>\n    <tr>\n      <th>5919837</th>\n      <td>206209</td>\n      <td>spices seasonings</td>\n      <td>0.007299</td>\n    </tr>\n    <tr>\n      <th>5919838</th>\n      <td>206209</td>\n      <td>trash bags liners</td>\n      <td>0.007299</td>\n    </tr>\n    <tr>\n      <th>5919839</th>\n      <td>206209</td>\n      <td>yogurt</td>\n      <td>0.021898</td>\n    </tr>\n  </tbody>\n</table>\n<p>5919840 rows × 3 columns</p>\n</div>"
     },
     "metadata": {},
     "execution_count": 10
    }
   ],
   "source": [
    "#calculating the aisle share by user id \n",
    "aisle_share_per_user = cnt_per_aisle.merge(ttl_per_user, how=\"left\", on=\"user_id\")\n",
    "aisle_share_per_user[\"aisle_share\"] = aisle_share_per_user[\"product_cnt_per_aisle_x\"] / aisle_share_per_user[\"product_cnt_per_aisle_y\"]\n",
    "aisle_share_per_user.drop([\"product_cnt_per_aisle_x\", \"product_cnt_per_aisle_y\"], axis=1, inplace=True)\n",
    "aisle_share_per_user"
   ]
  },
  {
   "cell_type": "code",
   "execution_count": 11,
   "metadata": {},
   "outputs": [
    {
     "output_type": "execute_result",
     "data": {
      "text/plain": [
       "aisle    air fresheners candles  asian foods  baby accessories  \\\n",
       "user_id                                                          \n",
       "1                           NaN          NaN               NaN   \n",
       "2                           NaN     0.013274               NaN   \n",
       "3                           NaN          NaN               NaN   \n",
       "4                           NaN          NaN               NaN   \n",
       "5                      0.021739     0.086957               NaN   \n",
       "...                         ...          ...               ...   \n",
       "206205                      NaN          NaN          0.019608   \n",
       "206206                      NaN     0.014035               NaN   \n",
       "206207                      NaN          NaN               NaN   \n",
       "206208                      NaN     0.004431               NaN   \n",
       "206209                      NaN     0.007299               NaN   \n",
       "\n",
       "aisle    baby bath body care  baby food formula  bakery desserts  \\\n",
       "user_id                                                            \n",
       "1                        NaN                NaN              NaN   \n",
       "2                        NaN                NaN              NaN   \n",
       "3                        NaN                NaN              NaN   \n",
       "4                        NaN                NaN              NaN   \n",
       "5                        NaN                NaN              NaN   \n",
       "...                      ...                ...              ...   \n",
       "206205                   NaN                NaN              NaN   \n",
       "206206                   NaN                NaN              NaN   \n",
       "206207                   NaN           0.004484              NaN   \n",
       "206208                   NaN           0.004431              NaN   \n",
       "206209                   NaN                NaN              NaN   \n",
       "\n",
       "aisle    baking ingredients  baking supplies decor  beauty  beers coolers  \\\n",
       "user_id                                                                     \n",
       "1                       NaN                    NaN     NaN            NaN   \n",
       "2                  0.008850                    NaN     NaN            NaN   \n",
       "3                       NaN                    NaN     NaN            NaN   \n",
       "4                       NaN                    NaN     NaN            NaN   \n",
       "5                       NaN                    NaN     NaN            NaN   \n",
       "...                     ...                    ...     ...            ...   \n",
       "206205                  NaN                    NaN     NaN            NaN   \n",
       "206206             0.014035               0.003509     NaN            NaN   \n",
       "206207                  NaN                    NaN     NaN            NaN   \n",
       "206208             0.005908                    NaN     NaN            NaN   \n",
       "206209                  NaN                    NaN     NaN            NaN   \n",
       "\n",
       "aisle    ...   spreads       tea  tofu meat alternatives  \\\n",
       "user_id  ...                                               \n",
       "1        ...  0.014286       NaN                     NaN   \n",
       "2        ...  0.013274  0.004425                0.004425   \n",
       "3        ...  0.045455  0.011364                     NaN   \n",
       "4        ...       NaN       NaN                     NaN   \n",
       "5        ...       NaN       NaN                     NaN   \n",
       "...      ...       ...       ...                     ...   \n",
       "206205   ...       NaN       NaN                     NaN   \n",
       "206206   ...  0.003509       NaN                     NaN   \n",
       "206207   ...  0.013453  0.017937                     NaN   \n",
       "206208   ...  0.007386       NaN                     NaN   \n",
       "206209   ...       NaN       NaN                     NaN   \n",
       "\n",
       "aisle    tortillas flat bread  trail mix snack mix  trash bags liners  \\\n",
       "user_id                                                                 \n",
       "1                         NaN                  NaN                NaN   \n",
       "2                         NaN                  NaN                NaN   \n",
       "3                         NaN                  NaN                NaN   \n",
       "4                    0.055556                  NaN                NaN   \n",
       "5                         NaN                  NaN                NaN   \n",
       "...                       ...                  ...                ...   \n",
       "206205                    NaN                  NaN                NaN   \n",
       "206206                    NaN                  NaN           0.003509   \n",
       "206207               0.008969             0.004484                NaN   \n",
       "206208               0.010340                  NaN                NaN   \n",
       "206209                    NaN                  NaN           0.007299   \n",
       "\n",
       "aisle    vitamins supplements  water seltzer sparkling water  white wines  \\\n",
       "user_id                                                                     \n",
       "1                         NaN                            NaN          NaN   \n",
       "2                         NaN                       0.008850          NaN   \n",
       "3                         NaN                       0.022727          NaN   \n",
       "4                         NaN                       0.055556          NaN   \n",
       "5                         NaN                            NaN          NaN   \n",
       "...                       ...                            ...          ...   \n",
       "206205                    NaN                            NaN          NaN   \n",
       "206206                    NaN                       0.003509          NaN   \n",
       "206207                    NaN                       0.049327          NaN   \n",
       "206208                    NaN                            NaN          NaN   \n",
       "206209                    NaN                            NaN          NaN   \n",
       "\n",
       "aisle      yogurt  \n",
       "user_id            \n",
       "1        0.028571  \n",
       "2        0.185841  \n",
       "3             NaN  \n",
       "4             NaN  \n",
       "5        0.065217  \n",
       "...           ...  \n",
       "206205   0.176471  \n",
       "206206        NaN  \n",
       "206207   0.067265  \n",
       "206208   0.048744  \n",
       "206209   0.021898  \n",
       "\n",
       "[206209 rows x 134 columns]"
      ],
      "text/html": "<div>\n<style scoped>\n    .dataframe tbody tr th:only-of-type {\n        vertical-align: middle;\n    }\n\n    .dataframe tbody tr th {\n        vertical-align: top;\n    }\n\n    .dataframe thead th {\n        text-align: right;\n    }\n</style>\n<table border=\"1\" class=\"dataframe\">\n  <thead>\n    <tr style=\"text-align: right;\">\n      <th>aisle</th>\n      <th>air fresheners candles</th>\n      <th>asian foods</th>\n      <th>baby accessories</th>\n      <th>baby bath body care</th>\n      <th>baby food formula</th>\n      <th>bakery desserts</th>\n      <th>baking ingredients</th>\n      <th>baking supplies decor</th>\n      <th>beauty</th>\n      <th>beers coolers</th>\n      <th>...</th>\n      <th>spreads</th>\n      <th>tea</th>\n      <th>tofu meat alternatives</th>\n      <th>tortillas flat bread</th>\n      <th>trail mix snack mix</th>\n      <th>trash bags liners</th>\n      <th>vitamins supplements</th>\n      <th>water seltzer sparkling water</th>\n      <th>white wines</th>\n      <th>yogurt</th>\n    </tr>\n    <tr>\n      <th>user_id</th>\n      <th></th>\n      <th></th>\n      <th></th>\n      <th></th>\n      <th></th>\n      <th></th>\n      <th></th>\n      <th></th>\n      <th></th>\n      <th></th>\n      <th></th>\n      <th></th>\n      <th></th>\n      <th></th>\n      <th></th>\n      <th></th>\n      <th></th>\n      <th></th>\n      <th></th>\n      <th></th>\n      <th></th>\n    </tr>\n  </thead>\n  <tbody>\n    <tr>\n      <th>1</th>\n      <td>NaN</td>\n      <td>NaN</td>\n      <td>NaN</td>\n      <td>NaN</td>\n      <td>NaN</td>\n      <td>NaN</td>\n      <td>NaN</td>\n      <td>NaN</td>\n      <td>NaN</td>\n      <td>NaN</td>\n      <td>...</td>\n      <td>0.014286</td>\n      <td>NaN</td>\n      <td>NaN</td>\n      <td>NaN</td>\n      <td>NaN</td>\n      <td>NaN</td>\n      <td>NaN</td>\n      <td>NaN</td>\n      <td>NaN</td>\n      <td>0.028571</td>\n    </tr>\n    <tr>\n      <th>2</th>\n      <td>NaN</td>\n      <td>0.013274</td>\n      <td>NaN</td>\n      <td>NaN</td>\n      <td>NaN</td>\n      <td>NaN</td>\n      <td>0.008850</td>\n      <td>NaN</td>\n      <td>NaN</td>\n      <td>NaN</td>\n      <td>...</td>\n      <td>0.013274</td>\n      <td>0.004425</td>\n      <td>0.004425</td>\n      <td>NaN</td>\n      <td>NaN</td>\n      <td>NaN</td>\n      <td>NaN</td>\n      <td>0.008850</td>\n      <td>NaN</td>\n      <td>0.185841</td>\n    </tr>\n    <tr>\n      <th>3</th>\n      <td>NaN</td>\n      <td>NaN</td>\n      <td>NaN</td>\n      <td>NaN</td>\n      <td>NaN</td>\n      <td>NaN</td>\n      <td>NaN</td>\n      <td>NaN</td>\n      <td>NaN</td>\n      <td>NaN</td>\n      <td>...</td>\n      <td>0.045455</td>\n      <td>0.011364</td>\n      <td>NaN</td>\n      <td>NaN</td>\n      <td>NaN</td>\n      <td>NaN</td>\n      <td>NaN</td>\n      <td>0.022727</td>\n      <td>NaN</td>\n      <td>NaN</td>\n    </tr>\n    <tr>\n      <th>4</th>\n      <td>NaN</td>\n      <td>NaN</td>\n      <td>NaN</td>\n      <td>NaN</td>\n      <td>NaN</td>\n      <td>NaN</td>\n      <td>NaN</td>\n      <td>NaN</td>\n      <td>NaN</td>\n      <td>NaN</td>\n      <td>...</td>\n      <td>NaN</td>\n      <td>NaN</td>\n      <td>NaN</td>\n      <td>0.055556</td>\n      <td>NaN</td>\n      <td>NaN</td>\n      <td>NaN</td>\n      <td>0.055556</td>\n      <td>NaN</td>\n      <td>NaN</td>\n    </tr>\n    <tr>\n      <th>5</th>\n      <td>0.021739</td>\n      <td>0.086957</td>\n      <td>NaN</td>\n      <td>NaN</td>\n      <td>NaN</td>\n      <td>NaN</td>\n      <td>NaN</td>\n      <td>NaN</td>\n      <td>NaN</td>\n      <td>NaN</td>\n      <td>...</td>\n      <td>NaN</td>\n      <td>NaN</td>\n      <td>NaN</td>\n      <td>NaN</td>\n      <td>NaN</td>\n      <td>NaN</td>\n      <td>NaN</td>\n      <td>NaN</td>\n      <td>NaN</td>\n      <td>0.065217</td>\n    </tr>\n    <tr>\n      <th>...</th>\n      <td>...</td>\n      <td>...</td>\n      <td>...</td>\n      <td>...</td>\n      <td>...</td>\n      <td>...</td>\n      <td>...</td>\n      <td>...</td>\n      <td>...</td>\n      <td>...</td>\n      <td>...</td>\n      <td>...</td>\n      <td>...</td>\n      <td>...</td>\n      <td>...</td>\n      <td>...</td>\n      <td>...</td>\n      <td>...</td>\n      <td>...</td>\n      <td>...</td>\n      <td>...</td>\n    </tr>\n    <tr>\n      <th>206205</th>\n      <td>NaN</td>\n      <td>NaN</td>\n      <td>0.019608</td>\n      <td>NaN</td>\n      <td>NaN</td>\n      <td>NaN</td>\n      <td>NaN</td>\n      <td>NaN</td>\n      <td>NaN</td>\n      <td>NaN</td>\n      <td>...</td>\n      <td>NaN</td>\n      <td>NaN</td>\n      <td>NaN</td>\n      <td>NaN</td>\n      <td>NaN</td>\n      <td>NaN</td>\n      <td>NaN</td>\n      <td>NaN</td>\n      <td>NaN</td>\n      <td>0.176471</td>\n    </tr>\n    <tr>\n      <th>206206</th>\n      <td>NaN</td>\n      <td>0.014035</td>\n      <td>NaN</td>\n      <td>NaN</td>\n      <td>NaN</td>\n      <td>NaN</td>\n      <td>0.014035</td>\n      <td>0.003509</td>\n      <td>NaN</td>\n      <td>NaN</td>\n      <td>...</td>\n      <td>0.003509</td>\n      <td>NaN</td>\n      <td>NaN</td>\n      <td>NaN</td>\n      <td>NaN</td>\n      <td>0.003509</td>\n      <td>NaN</td>\n      <td>0.003509</td>\n      <td>NaN</td>\n      <td>NaN</td>\n    </tr>\n    <tr>\n      <th>206207</th>\n      <td>NaN</td>\n      <td>NaN</td>\n      <td>NaN</td>\n      <td>NaN</td>\n      <td>0.004484</td>\n      <td>NaN</td>\n      <td>NaN</td>\n      <td>NaN</td>\n      <td>NaN</td>\n      <td>NaN</td>\n      <td>...</td>\n      <td>0.013453</td>\n      <td>0.017937</td>\n      <td>NaN</td>\n      <td>0.008969</td>\n      <td>0.004484</td>\n      <td>NaN</td>\n      <td>NaN</td>\n      <td>0.049327</td>\n      <td>NaN</td>\n      <td>0.067265</td>\n    </tr>\n    <tr>\n      <th>206208</th>\n      <td>NaN</td>\n      <td>0.004431</td>\n      <td>NaN</td>\n      <td>NaN</td>\n      <td>0.004431</td>\n      <td>NaN</td>\n      <td>0.005908</td>\n      <td>NaN</td>\n      <td>NaN</td>\n      <td>NaN</td>\n      <td>...</td>\n      <td>0.007386</td>\n      <td>NaN</td>\n      <td>NaN</td>\n      <td>0.010340</td>\n      <td>NaN</td>\n      <td>NaN</td>\n      <td>NaN</td>\n      <td>NaN</td>\n      <td>NaN</td>\n      <td>0.048744</td>\n    </tr>\n    <tr>\n      <th>206209</th>\n      <td>NaN</td>\n      <td>0.007299</td>\n      <td>NaN</td>\n      <td>NaN</td>\n      <td>NaN</td>\n      <td>NaN</td>\n      <td>NaN</td>\n      <td>NaN</td>\n      <td>NaN</td>\n      <td>NaN</td>\n      <td>...</td>\n      <td>NaN</td>\n      <td>NaN</td>\n      <td>NaN</td>\n      <td>NaN</td>\n      <td>NaN</td>\n      <td>0.007299</td>\n      <td>NaN</td>\n      <td>NaN</td>\n      <td>NaN</td>\n      <td>0.021898</td>\n    </tr>\n  </tbody>\n</table>\n<p>206209 rows × 134 columns</p>\n</div>"
     },
     "metadata": {},
     "execution_count": 11
    }
   ],
   "source": [
    "#Setting aisles as columns by user id using pivot. \n",
    "aisle_share_pivot = aisle_share_per_user.pivot(index=\"user_id\", columns=\"aisle\", values=\"aisle_share\")\n",
    "aisle_share_pivot"
   ]
  },
  {
   "cell_type": "code",
   "execution_count": 12,
   "metadata": {},
   "outputs": [],
   "source": [
    "from sklearn.decomposition import PCA\n",
    "import matplotlib.pyplot as plt\n",
    "import numpy as np"
   ]
  },
  {
   "cell_type": "code",
   "execution_count": 13,
   "metadata": {},
   "outputs": [
    {
     "output_type": "execute_result",
     "data": {
      "text/plain": [
       "aisle    air fresheners candles  asian foods  baby accessories  \\\n",
       "user_id                                                          \n",
       "1                      0.000000     0.000000          0.000000   \n",
       "2                      0.000000     0.013274          0.000000   \n",
       "3                      0.000000     0.000000          0.000000   \n",
       "4                      0.000000     0.000000          0.000000   \n",
       "5                      0.021739     0.086957          0.000000   \n",
       "...                         ...          ...               ...   \n",
       "206205                 0.000000     0.000000          0.019608   \n",
       "206206                 0.000000     0.014035          0.000000   \n",
       "206207                 0.000000     0.000000          0.000000   \n",
       "206208                 0.000000     0.004431          0.000000   \n",
       "206209                 0.000000     0.007299          0.000000   \n",
       "\n",
       "aisle    baby bath body care  baby food formula  bakery desserts  \\\n",
       "user_id                                                            \n",
       "1                        0.0           0.000000              0.0   \n",
       "2                        0.0           0.000000              0.0   \n",
       "3                        0.0           0.000000              0.0   \n",
       "4                        0.0           0.000000              0.0   \n",
       "5                        0.0           0.000000              0.0   \n",
       "...                      ...                ...              ...   \n",
       "206205                   0.0           0.000000              0.0   \n",
       "206206                   0.0           0.000000              0.0   \n",
       "206207                   0.0           0.004484              0.0   \n",
       "206208                   0.0           0.004431              0.0   \n",
       "206209                   0.0           0.000000              0.0   \n",
       "\n",
       "aisle    baking ingredients  baking supplies decor  beauty  beers coolers  \\\n",
       "user_id                                                                     \n",
       "1                  0.000000               0.000000     0.0            0.0   \n",
       "2                  0.008850               0.000000     0.0            0.0   \n",
       "3                  0.000000               0.000000     0.0            0.0   \n",
       "4                  0.000000               0.000000     0.0            0.0   \n",
       "5                  0.000000               0.000000     0.0            0.0   \n",
       "...                     ...                    ...     ...            ...   \n",
       "206205             0.000000               0.000000     0.0            0.0   \n",
       "206206             0.014035               0.003509     0.0            0.0   \n",
       "206207             0.000000               0.000000     0.0            0.0   \n",
       "206208             0.005908               0.000000     0.0            0.0   \n",
       "206209             0.000000               0.000000     0.0            0.0   \n",
       "\n",
       "aisle    ...   spreads       tea  tofu meat alternatives  \\\n",
       "user_id  ...                                               \n",
       "1        ...  0.014286  0.000000                0.000000   \n",
       "2        ...  0.013274  0.004425                0.004425   \n",
       "3        ...  0.045455  0.011364                0.000000   \n",
       "4        ...  0.000000  0.000000                0.000000   \n",
       "5        ...  0.000000  0.000000                0.000000   \n",
       "...      ...       ...       ...                     ...   \n",
       "206205   ...  0.000000  0.000000                0.000000   \n",
       "206206   ...  0.003509  0.000000                0.000000   \n",
       "206207   ...  0.013453  0.017937                0.000000   \n",
       "206208   ...  0.007386  0.000000                0.000000   \n",
       "206209   ...  0.000000  0.000000                0.000000   \n",
       "\n",
       "aisle    tortillas flat bread  trail mix snack mix  trash bags liners  \\\n",
       "user_id                                                                 \n",
       "1                    0.000000             0.000000           0.000000   \n",
       "2                    0.000000             0.000000           0.000000   \n",
       "3                    0.000000             0.000000           0.000000   \n",
       "4                    0.055556             0.000000           0.000000   \n",
       "5                    0.000000             0.000000           0.000000   \n",
       "...                       ...                  ...                ...   \n",
       "206205               0.000000             0.000000           0.000000   \n",
       "206206               0.000000             0.000000           0.003509   \n",
       "206207               0.008969             0.004484           0.000000   \n",
       "206208               0.010340             0.000000           0.000000   \n",
       "206209               0.000000             0.000000           0.007299   \n",
       "\n",
       "aisle    vitamins supplements  water seltzer sparkling water  white wines  \\\n",
       "user_id                                                                     \n",
       "1                         0.0                       0.000000          0.0   \n",
       "2                         0.0                       0.008850          0.0   \n",
       "3                         0.0                       0.022727          0.0   \n",
       "4                         0.0                       0.055556          0.0   \n",
       "5                         0.0                       0.000000          0.0   \n",
       "...                       ...                            ...          ...   \n",
       "206205                    0.0                       0.000000          0.0   \n",
       "206206                    0.0                       0.003509          0.0   \n",
       "206207                    0.0                       0.049327          0.0   \n",
       "206208                    0.0                       0.000000          0.0   \n",
       "206209                    0.0                       0.000000          0.0   \n",
       "\n",
       "aisle      yogurt  \n",
       "user_id            \n",
       "1        0.028571  \n",
       "2        0.185841  \n",
       "3        0.000000  \n",
       "4        0.000000  \n",
       "5        0.065217  \n",
       "...           ...  \n",
       "206205   0.176471  \n",
       "206206   0.000000  \n",
       "206207   0.067265  \n",
       "206208   0.048744  \n",
       "206209   0.021898  \n",
       "\n",
       "[206209 rows x 134 columns]"
      ],
      "text/html": "<div>\n<style scoped>\n    .dataframe tbody tr th:only-of-type {\n        vertical-align: middle;\n    }\n\n    .dataframe tbody tr th {\n        vertical-align: top;\n    }\n\n    .dataframe thead th {\n        text-align: right;\n    }\n</style>\n<table border=\"1\" class=\"dataframe\">\n  <thead>\n    <tr style=\"text-align: right;\">\n      <th>aisle</th>\n      <th>air fresheners candles</th>\n      <th>asian foods</th>\n      <th>baby accessories</th>\n      <th>baby bath body care</th>\n      <th>baby food formula</th>\n      <th>bakery desserts</th>\n      <th>baking ingredients</th>\n      <th>baking supplies decor</th>\n      <th>beauty</th>\n      <th>beers coolers</th>\n      <th>...</th>\n      <th>spreads</th>\n      <th>tea</th>\n      <th>tofu meat alternatives</th>\n      <th>tortillas flat bread</th>\n      <th>trail mix snack mix</th>\n      <th>trash bags liners</th>\n      <th>vitamins supplements</th>\n      <th>water seltzer sparkling water</th>\n      <th>white wines</th>\n      <th>yogurt</th>\n    </tr>\n    <tr>\n      <th>user_id</th>\n      <th></th>\n      <th></th>\n      <th></th>\n      <th></th>\n      <th></th>\n      <th></th>\n      <th></th>\n      <th></th>\n      <th></th>\n      <th></th>\n      <th></th>\n      <th></th>\n      <th></th>\n      <th></th>\n      <th></th>\n      <th></th>\n      <th></th>\n      <th></th>\n      <th></th>\n      <th></th>\n      <th></th>\n    </tr>\n  </thead>\n  <tbody>\n    <tr>\n      <th>1</th>\n      <td>0.000000</td>\n      <td>0.000000</td>\n      <td>0.000000</td>\n      <td>0.0</td>\n      <td>0.000000</td>\n      <td>0.0</td>\n      <td>0.000000</td>\n      <td>0.000000</td>\n      <td>0.0</td>\n      <td>0.0</td>\n      <td>...</td>\n      <td>0.014286</td>\n      <td>0.000000</td>\n      <td>0.000000</td>\n      <td>0.000000</td>\n      <td>0.000000</td>\n      <td>0.000000</td>\n      <td>0.0</td>\n      <td>0.000000</td>\n      <td>0.0</td>\n      <td>0.028571</td>\n    </tr>\n    <tr>\n      <th>2</th>\n      <td>0.000000</td>\n      <td>0.013274</td>\n      <td>0.000000</td>\n      <td>0.0</td>\n      <td>0.000000</td>\n      <td>0.0</td>\n      <td>0.008850</td>\n      <td>0.000000</td>\n      <td>0.0</td>\n      <td>0.0</td>\n      <td>...</td>\n      <td>0.013274</td>\n      <td>0.004425</td>\n      <td>0.004425</td>\n      <td>0.000000</td>\n      <td>0.000000</td>\n      <td>0.000000</td>\n      <td>0.0</td>\n      <td>0.008850</td>\n      <td>0.0</td>\n      <td>0.185841</td>\n    </tr>\n    <tr>\n      <th>3</th>\n      <td>0.000000</td>\n      <td>0.000000</td>\n      <td>0.000000</td>\n      <td>0.0</td>\n      <td>0.000000</td>\n      <td>0.0</td>\n      <td>0.000000</td>\n      <td>0.000000</td>\n      <td>0.0</td>\n      <td>0.0</td>\n      <td>...</td>\n      <td>0.045455</td>\n      <td>0.011364</td>\n      <td>0.000000</td>\n      <td>0.000000</td>\n      <td>0.000000</td>\n      <td>0.000000</td>\n      <td>0.0</td>\n      <td>0.022727</td>\n      <td>0.0</td>\n      <td>0.000000</td>\n    </tr>\n    <tr>\n      <th>4</th>\n      <td>0.000000</td>\n      <td>0.000000</td>\n      <td>0.000000</td>\n      <td>0.0</td>\n      <td>0.000000</td>\n      <td>0.0</td>\n      <td>0.000000</td>\n      <td>0.000000</td>\n      <td>0.0</td>\n      <td>0.0</td>\n      <td>...</td>\n      <td>0.000000</td>\n      <td>0.000000</td>\n      <td>0.000000</td>\n      <td>0.055556</td>\n      <td>0.000000</td>\n      <td>0.000000</td>\n      <td>0.0</td>\n      <td>0.055556</td>\n      <td>0.0</td>\n      <td>0.000000</td>\n    </tr>\n    <tr>\n      <th>5</th>\n      <td>0.021739</td>\n      <td>0.086957</td>\n      <td>0.000000</td>\n      <td>0.0</td>\n      <td>0.000000</td>\n      <td>0.0</td>\n      <td>0.000000</td>\n      <td>0.000000</td>\n      <td>0.0</td>\n      <td>0.0</td>\n      <td>...</td>\n      <td>0.000000</td>\n      <td>0.000000</td>\n      <td>0.000000</td>\n      <td>0.000000</td>\n      <td>0.000000</td>\n      <td>0.000000</td>\n      <td>0.0</td>\n      <td>0.000000</td>\n      <td>0.0</td>\n      <td>0.065217</td>\n    </tr>\n    <tr>\n      <th>...</th>\n      <td>...</td>\n      <td>...</td>\n      <td>...</td>\n      <td>...</td>\n      <td>...</td>\n      <td>...</td>\n      <td>...</td>\n      <td>...</td>\n      <td>...</td>\n      <td>...</td>\n      <td>...</td>\n      <td>...</td>\n      <td>...</td>\n      <td>...</td>\n      <td>...</td>\n      <td>...</td>\n      <td>...</td>\n      <td>...</td>\n      <td>...</td>\n      <td>...</td>\n      <td>...</td>\n    </tr>\n    <tr>\n      <th>206205</th>\n      <td>0.000000</td>\n      <td>0.000000</td>\n      <td>0.019608</td>\n      <td>0.0</td>\n      <td>0.000000</td>\n      <td>0.0</td>\n      <td>0.000000</td>\n      <td>0.000000</td>\n      <td>0.0</td>\n      <td>0.0</td>\n      <td>...</td>\n      <td>0.000000</td>\n      <td>0.000000</td>\n      <td>0.000000</td>\n      <td>0.000000</td>\n      <td>0.000000</td>\n      <td>0.000000</td>\n      <td>0.0</td>\n      <td>0.000000</td>\n      <td>0.0</td>\n      <td>0.176471</td>\n    </tr>\n    <tr>\n      <th>206206</th>\n      <td>0.000000</td>\n      <td>0.014035</td>\n      <td>0.000000</td>\n      <td>0.0</td>\n      <td>0.000000</td>\n      <td>0.0</td>\n      <td>0.014035</td>\n      <td>0.003509</td>\n      <td>0.0</td>\n      <td>0.0</td>\n      <td>...</td>\n      <td>0.003509</td>\n      <td>0.000000</td>\n      <td>0.000000</td>\n      <td>0.000000</td>\n      <td>0.000000</td>\n      <td>0.003509</td>\n      <td>0.0</td>\n      <td>0.003509</td>\n      <td>0.0</td>\n      <td>0.000000</td>\n    </tr>\n    <tr>\n      <th>206207</th>\n      <td>0.000000</td>\n      <td>0.000000</td>\n      <td>0.000000</td>\n      <td>0.0</td>\n      <td>0.004484</td>\n      <td>0.0</td>\n      <td>0.000000</td>\n      <td>0.000000</td>\n      <td>0.0</td>\n      <td>0.0</td>\n      <td>...</td>\n      <td>0.013453</td>\n      <td>0.017937</td>\n      <td>0.000000</td>\n      <td>0.008969</td>\n      <td>0.004484</td>\n      <td>0.000000</td>\n      <td>0.0</td>\n      <td>0.049327</td>\n      <td>0.0</td>\n      <td>0.067265</td>\n    </tr>\n    <tr>\n      <th>206208</th>\n      <td>0.000000</td>\n      <td>0.004431</td>\n      <td>0.000000</td>\n      <td>0.0</td>\n      <td>0.004431</td>\n      <td>0.0</td>\n      <td>0.005908</td>\n      <td>0.000000</td>\n      <td>0.0</td>\n      <td>0.0</td>\n      <td>...</td>\n      <td>0.007386</td>\n      <td>0.000000</td>\n      <td>0.000000</td>\n      <td>0.010340</td>\n      <td>0.000000</td>\n      <td>0.000000</td>\n      <td>0.0</td>\n      <td>0.000000</td>\n      <td>0.0</td>\n      <td>0.048744</td>\n    </tr>\n    <tr>\n      <th>206209</th>\n      <td>0.000000</td>\n      <td>0.007299</td>\n      <td>0.000000</td>\n      <td>0.0</td>\n      <td>0.000000</td>\n      <td>0.0</td>\n      <td>0.000000</td>\n      <td>0.000000</td>\n      <td>0.0</td>\n      <td>0.0</td>\n      <td>...</td>\n      <td>0.000000</td>\n      <td>0.000000</td>\n      <td>0.000000</td>\n      <td>0.000000</td>\n      <td>0.000000</td>\n      <td>0.007299</td>\n      <td>0.0</td>\n      <td>0.000000</td>\n      <td>0.0</td>\n      <td>0.021898</td>\n    </tr>\n  </tbody>\n</table>\n<p>206209 rows × 134 columns</p>\n</div>"
     },
     "metadata": {},
     "execution_count": 13
    }
   ],
   "source": [
    "#filling in nan with 0 \n",
    "aisle_share_pivot.fillna(0)"
   ]
  },
  {
   "cell_type": "code",
   "execution_count": 14,
   "metadata": {},
   "outputs": [],
   "source": [
    "#transforming our using PCA and finding the optimal explained variance with a given threshold of 50\n",
    "pca = PCA()\n",
    "pca.fit_transform(aisle_share_pivot.fillna(0))\n",
    "cumsum = np.cumsum(pca.explained_variance_ratio_)\n",
    "threshold = 0.50\n",
    "d = np.argmax(cumsum >= threshold) + 1"
   ]
  },
  {
   "cell_type": "code",
   "execution_count": 15,
   "metadata": {},
   "outputs": [
    {
     "output_type": "display_data",
     "data": {
      "text/plain": "<Figure size 720x432 with 1 Axes>",
      "image/png": "[encoded data removed]"
     },
     "metadata": {}
    }
   ],
   "source": [
    "#graphically displaying the optimal components \n",
    "plt.style.use(\"fivethirtyeight\")\n",
    "plt.figure(figsize=(10,6))\n",
    "plt.plot(cumsum, linewidth=3)\n",
    "plt.title(\"Elbow curve\")\n",
    "plt.xlabel(\"Dimensions\")\n",
    "plt.ylabel(\"Explained Variance\")\n",
    "plt.plot([d, d], [0, threshold], \"k:\", linewidth=2)\n",
    "plt.plot([0, d], [threshold, threshold], \"k:\",linewidth=2)\n",
    "plt.plot(d, threshold, \"ko\")\n",
    "plt.grid(True)\n",
    "plt.show()"
   ]
  },
  {
   "cell_type": "code",
   "execution_count": 16,
   "metadata": {},
   "outputs": [
    {
     "output_type": "execute_result",
     "data": {
      "text/plain": [
       "8"
      ]
     },
     "metadata": {},
     "execution_count": 16
    }
   ],
   "source": [
    "d"
   ]
  },
  {
   "source": [
    "#creating a dataframe with d number of components. \n",
    "pca = PCA(n_components=d)\n",
    "prinicpalComponents = pca.fit_transform(aisle_share_pivot.fillna(0))\n",
    "\n",
    "PCA_components = pd.DataFrame(prinicpalComponents)"
   ],
   "cell_type": "code",
   "metadata": {},
   "execution_count": 17,
   "outputs": []
  },
  {
   "cell_type": "code",
   "execution_count": 18,
   "metadata": {},
   "outputs": [
    {
     "output_type": "execute_result",
     "data": {
      "text/plain": [
       "               0         1         2         3         4         5         6  \\\n",
       "0      -0.122382  0.028613 -0.047848  0.012765 -0.075246 -0.111782 -0.100802   \n",
       "1      -0.034421  0.111616 -0.064131 -0.109468  0.073279 -0.029583 -0.049184   \n",
       "2       0.063256  0.104112  0.000496 -0.014157 -0.047738  0.111123 -0.031845   \n",
       "3      -0.094301  0.052755  0.001039 -0.005059 -0.071592 -0.017788 -0.025101   \n",
       "4       0.089432 -0.031068 -0.022805 -0.011825  0.042322  0.111461 -0.015733   \n",
       "...          ...       ...       ...       ...       ...       ...       ...   \n",
       "206204  0.001716  0.084855 -0.065398 -0.068636  0.114985 -0.028533  0.020666   \n",
       "206205 -0.089658 -0.046734 -0.048290  0.012790 -0.059579 -0.000557 -0.013947   \n",
       "206206 -0.024827 -0.013520 -0.003968 -0.030920  0.032989  0.020690  0.037643   \n",
       "206207 -0.009310 -0.003375 -0.045595 -0.012231  0.013761  0.055675  0.008073   \n",
       "206208 -0.066755  0.044041 -0.049675 -0.005735 -0.045210 -0.019111 -0.009878   \n",
       "\n",
       "               7  \n",
       "0       0.088193  \n",
       "1      -0.058638  \n",
       "2       0.012987  \n",
       "3      -0.039019  \n",
       "4       0.100949  \n",
       "...          ...  \n",
       "206204  0.023949  \n",
       "206205 -0.042961  \n",
       "206206  0.032906  \n",
       "206207  0.029545  \n",
       "206208  0.040121  \n",
       "\n",
       "[206209 rows x 8 columns]"
      ],
      "text/html": "<div>\n<style scoped>\n    .dataframe tbody tr th:only-of-type {\n        vertical-align: middle;\n    }\n\n    .dataframe tbody tr th {\n        vertical-align: top;\n    }\n\n    .dataframe thead th {\n        text-align: right;\n    }\n</style>\n<table border=\"1\" class=\"dataframe\">\n  <thead>\n    <tr style=\"text-align: right;\">\n      <th></th>\n      <th>0</th>\n      <th>1</th>\n      <th>2</th>\n      <th>3</th>\n      <th>4</th>\n      <th>5</th>\n      <th>6</th>\n      <th>7</th>\n    </tr>\n  </thead>\n  <tbody>\n    <tr>\n      <th>0</th>\n      <td>-0.122382</td>\n      <td>0.028613</td>\n      <td>-0.047848</td>\n      <td>0.012765</td>\n      <td>-0.075246</td>\n      <td>-0.111782</td>\n      <td>-0.100802</td>\n      <td>0.088193</td>\n    </tr>\n    <tr>\n      <th>1</th>\n      <td>-0.034421</td>\n      <td>0.111616</td>\n      <td>-0.064131</td>\n      <td>-0.109468</td>\n      <td>0.073279</td>\n      <td>-0.029583</td>\n      <td>-0.049184</td>\n      <td>-0.058638</td>\n    </tr>\n    <tr>\n      <th>2</th>\n      <td>0.063256</td>\n      <td>0.104112</td>\n      <td>0.000496</td>\n      <td>-0.014157</td>\n      <td>-0.047738</td>\n      <td>0.111123</td>\n      <td>-0.031845</td>\n      <td>0.012987</td>\n    </tr>\n    <tr>\n      <th>3</th>\n      <td>-0.094301</td>\n      <td>0.052755</td>\n      <td>0.001039</td>\n      <td>-0.005059</td>\n      <td>-0.071592</td>\n      <td>-0.017788</td>\n      <td>-0.025101</td>\n      <td>-0.039019</td>\n    </tr>\n    <tr>\n      <th>4</th>\n      <td>0.089432</td>\n      <td>-0.031068</td>\n      <td>-0.022805</td>\n      <td>-0.011825</td>\n      <td>0.042322</td>\n      <td>0.111461</td>\n      <td>-0.015733</td>\n      <td>0.100949</td>\n    </tr>\n    <tr>\n      <th>...</th>\n      <td>...</td>\n      <td>...</td>\n      <td>...</td>\n      <td>...</td>\n      <td>...</td>\n      <td>...</td>\n      <td>...</td>\n      <td>...</td>\n    </tr>\n    <tr>\n      <th>206204</th>\n      <td>0.001716</td>\n      <td>0.084855</td>\n      <td>-0.065398</td>\n      <td>-0.068636</td>\n      <td>0.114985</td>\n      <td>-0.028533</td>\n      <td>0.020666</td>\n      <td>0.023949</td>\n    </tr>\n    <tr>\n      <th>206205</th>\n      <td>-0.089658</td>\n      <td>-0.046734</td>\n      <td>-0.048290</td>\n      <td>0.012790</td>\n      <td>-0.059579</td>\n      <td>-0.000557</td>\n      <td>-0.013947</td>\n      <td>-0.042961</td>\n    </tr>\n    <tr>\n      <th>206206</th>\n      <td>-0.024827</td>\n      <td>-0.013520</td>\n      <td>-0.003968</td>\n      <td>-0.030920</td>\n      <td>0.032989</td>\n      <td>0.020690</td>\n      <td>0.037643</td>\n      <td>0.032906</td>\n    </tr>\n    <tr>\n      <th>206207</th>\n      <td>-0.009310</td>\n      <td>-0.003375</td>\n      <td>-0.045595</td>\n      <td>-0.012231</td>\n      <td>0.013761</td>\n      <td>0.055675</td>\n      <td>0.008073</td>\n      <td>0.029545</td>\n    </tr>\n    <tr>\n      <th>206208</th>\n      <td>-0.066755</td>\n      <td>0.044041</td>\n      <td>-0.049675</td>\n      <td>-0.005735</td>\n      <td>-0.045210</td>\n      <td>-0.019111</td>\n      <td>-0.009878</td>\n      <td>0.040121</td>\n    </tr>\n  </tbody>\n</table>\n<p>206209 rows × 8 columns</p>\n</div>"
     },
     "metadata": {},
     "execution_count": 18
    }
   ],
   "source": [
    "PCA_components"
   ]
  },
  {
   "cell_type": "code",
   "execution_count": 19,
   "metadata": {},
   "outputs": [],
   "source": [
    "import seaborn as sns"
   ]
  },
  {
   "cell_type": "code",
   "execution_count": 20,
   "metadata": {},
   "outputs": [],
   "source": [
    "#sns.pairplot(PCA_components[range(d)])"
   ]
  },
  {
   "cell_type": "code",
   "execution_count": 21,
   "metadata": {},
   "outputs": [],
   "source": [
    "from sklearn.cluster import KMeans"
   ]
  },
  {
   "cell_type": "code",
   "execution_count": 22,
   "metadata": {},
   "outputs": [],
   "source": [
    "#Figuring out optimal n for epsilon\n",
    "from sklearn.neighbors import NearestNeighbors\n",
    "neigh = NearestNeighbors(n_neighbors=2)\n",
    "nbrs = neigh.fit(PCA_components[range(d)])\n",
    "distances, indices = nbrs.kneighbors(PCA_components[range(d)])"
   ]
  },
  {
   "cell_type": "code",
   "execution_count": 23,
   "metadata": {},
   "outputs": [
    {
     "output_type": "execute_result",
     "data": {
      "text/plain": [
       "[<matplotlib.lines.Line2D at 0x7fab1a2db520>]"
      ]
     },
     "metadata": {},
     "execution_count": 23
    },
    {
     "output_type": "display_data",
     "data": {
      "text/plain": "<Figure size 432x288 with 1 Axes>",
      "image/png": "[encoded data removed]"
     },
     "metadata": {}
    }
   ],
   "source": [
    "#elbow measuring the optimal epsilon for our DBSCAN\n",
    "distances = np.sort(distances, axis=0)\n",
    "distances = distances[:,1]\n",
    "plt.plot(distances)"
   ]
  },
  {
   "cell_type": "code",
   "execution_count": 27,
   "metadata": {},
   "outputs": [],
   "source": [
    "epsilon = 0.01\n",
    "ms = 5"
   ]
  },
  {
   "cell_type": "code",
   "execution_count": 29,
   "metadata": {},
   "outputs": [
    {
     "output_type": "execute_result",
     "data": {
      "text/plain": [
       "16"
      ]
     },
     "metadata": {},
     "execution_count": 29
    }
   ],
   "source": [
    "2*d"
   ]
  },
  {
   "cell_type": "code",
   "execution_count": 28,
   "metadata": {},
   "outputs": [
    {
     "output_type": "error",
     "ename": "TypeError",
     "evalue": "fit() got an unexpected keyword argument 'n_jobs'",
     "traceback": [
      "\u001b[0;31m---------------------------------------------------------------------------\u001b[0m",
      "\u001b[0;31mTypeError\u001b[0m                                 Traceback (most recent call last)",
      "\u001b[0;32m<ipython-input-28-b66f4b39fa80>\u001b[0m in \u001b[0;36m<module>\u001b[0;34m\u001b[0m\n\u001b[1;32m      1\u001b[0m \u001b[0;32mfrom\u001b[0m \u001b[0msklearn\u001b[0m\u001b[0;34m.\u001b[0m\u001b[0mcluster\u001b[0m \u001b[0;32mimport\u001b[0m \u001b[0mOPTICS\u001b[0m\u001b[0;34m\u001b[0m\u001b[0;34m\u001b[0m\u001b[0m\n\u001b[0;32m----> 2\u001b[0;31m \u001b[0mdb\u001b[0m \u001b[0;34m=\u001b[0m \u001b[0mOPTICS\u001b[0m\u001b[0;34m(\u001b[0m\u001b[0meps\u001b[0m\u001b[0;34m=\u001b[0m\u001b[0mepsilon\u001b[0m\u001b[0;34m,\u001b[0m \u001b[0mmin_samples\u001b[0m\u001b[0;34m=\u001b[0m\u001b[0mms\u001b[0m\u001b[0;34m)\u001b[0m\u001b[0;34m.\u001b[0m\u001b[0mfit\u001b[0m\u001b[0;34m(\u001b[0m\u001b[0mPCA_components\u001b[0m\u001b[0;34m[\u001b[0m\u001b[0mrange\u001b[0m\u001b[0;34m(\u001b[0m\u001b[0md\u001b[0m\u001b[0;34m)\u001b[0m\u001b[0;34m]\u001b[0m\u001b[0;34m,\u001b[0m \u001b[0mn_jobs\u001b[0m \u001b[0;34m=\u001b[0m \u001b[0;34m-\u001b[0m\u001b[0;36m1\u001b[0m\u001b[0;34m)\u001b[0m\u001b[0;34m\u001b[0m\u001b[0;34m\u001b[0m\u001b[0m\n\u001b[0m\u001b[1;32m      3\u001b[0m \u001b[0mlabels\u001b[0m \u001b[0;34m=\u001b[0m \u001b[0mdb\u001b[0m\u001b[0;34m.\u001b[0m\u001b[0mlabels_\u001b[0m\u001b[0;34m\u001b[0m\u001b[0;34m\u001b[0m\u001b[0m\n",
      "\u001b[0;31mTypeError\u001b[0m: fit() got an unexpected keyword argument 'n_jobs'"
     ]
    }
   ],
   "source": [
    "from sklearn.cluster import OPTICS\n",
    "db = OPTICS(eps=epsilon, min_samples=ms, n_jobs = -1).fit(PCA_components[range(d)])\n",
    "labels = db.labels_"
   ]
  },
  {
   "cell_type": "code",
   "execution_count": 1,
   "metadata": {},
   "outputs": [
    {
     "output_type": "error",
     "ename": "NameError",
     "evalue": "name 'epsilon' is not defined",
     "traceback": [
      "\u001b[0;31m---------------------------------------------------------------------------\u001b[0m",
      "\u001b[0;31mNameError\u001b[0m                                 Traceback (most recent call last)",
      "\u001b[0;32m<ipython-input-1-89d308b24dee>\u001b[0m in \u001b[0;36m<module>\u001b[0;34m\u001b[0m\n\u001b[1;32m      1\u001b[0m \u001b[0;32mfrom\u001b[0m \u001b[0msklearn\u001b[0m\u001b[0;34m.\u001b[0m\u001b[0mcluster\u001b[0m \u001b[0;32mimport\u001b[0m \u001b[0mDBSCAN\u001b[0m\u001b[0;34m\u001b[0m\u001b[0;34m\u001b[0m\u001b[0m\n\u001b[0;32m----> 2\u001b[0;31m \u001b[0mdb\u001b[0m \u001b[0;34m=\u001b[0m \u001b[0mDBSCAN\u001b[0m\u001b[0;34m(\u001b[0m\u001b[0meps\u001b[0m\u001b[0;34m=\u001b[0m\u001b[0mepsilon\u001b[0m\u001b[0;34m,\u001b[0m \u001b[0mmin_samples\u001b[0m\u001b[0;34m=\u001b[0m\u001b[0mms\u001b[0m\u001b[0;34m)\u001b[0m\u001b[0;34m.\u001b[0m\u001b[0mfit\u001b[0m\u001b[0;34m(\u001b[0m\u001b[0mPCA_components\u001b[0m\u001b[0;34m[\u001b[0m\u001b[0mrange\u001b[0m\u001b[0;34m(\u001b[0m\u001b[0md\u001b[0m\u001b[0;34m)\u001b[0m\u001b[0;34m]\u001b[0m\u001b[0;34m)\u001b[0m\u001b[0;34m\u001b[0m\u001b[0;34m\u001b[0m\u001b[0m\n\u001b[0m\u001b[1;32m      3\u001b[0m \u001b[0mlabels\u001b[0m \u001b[0;34m=\u001b[0m \u001b[0mdb\u001b[0m\u001b[0;34m.\u001b[0m\u001b[0mlabels_\u001b[0m\u001b[0;34m\u001b[0m\u001b[0;34m\u001b[0m\u001b[0m\n\u001b[1;32m      4\u001b[0m \u001b[0;34m\u001b[0m\u001b[0m\n\u001b[1;32m      5\u001b[0m \u001b[0;31m#number of clusters in labels, ignoring noise if present.\u001b[0m\u001b[0;34m\u001b[0m\u001b[0;34m\u001b[0m\u001b[0;34m\u001b[0m\u001b[0m\n",
      "\u001b[0;31mNameError\u001b[0m: name 'epsilon' is not defined"
     ]
    }
   ],
   "source": [
    "'''\n",
    "from sklearn.cluster import DBSCAN\n",
    "db = DBSCAN(eps=epsilon, min_samples=ms).fit(PCA_components[range(d)])\n",
    "labels = db.labels_\n",
    "\n",
    "#number of clusters in labels, ignoring noise if present. \n",
    "n_clusters = len(set(labels))-(1 if -1 in labels else 0)\n",
    "n_noise_ = list(labels).count(-1)\n",
    "\n",
    "print('Estimated number of clusters: %d' % n_clusters_)\n",
    "print('Estimated number of noise points: %d' % n_noise_)\n",
    "print(\"Silhouette Coefficient: %0.3f\" % metrics.silhouette_score(pca_df, labels))\n",
    "'''"
   ]
  },
  {
   "cell_type": "code",
   "execution_count": 18,
   "metadata": {},
   "outputs": [],
   "source": [
    "'''\n",
    "import itertools\n",
    "from sklearn.cluster import DBSCAN\n",
    "import numpy as np\n",
    "pca_eps_values = np.arange(0.4,1.0,0.1) \n",
    "pca_min_samples = np.arange(7,10) \n",
    "pca_dbscan_params = list(itertools.product(pca_eps_values, pca_min_samples))\n",
    "pca_no_of_clusters = []\n",
    "pca_sil_score = []\n",
    "pca_epsvalues = []\n",
    "pca_min_samp = []\n",
    "for p in pca_dbscan_params:\n",
    "    pca_dbscan_cluster = DBSCAN(eps=p[0], min_samples=p[1]).fit(PCA_components[range(d)])\n",
    "    pca_epsvalues.append(p[0])\n",
    "    pca_min_samp.append(p[1]).pca_no_of_clusters.append(\n",
    "len(np.unique(pca_dbscan_cluster.labels_)))\n",
    "    pca_sil_score.append(silhouette_score(pca_df, pca_dbscan_cluster.labels_))\n",
    "pca_eps_min = list(zip(pca_no_of_clusters, pca_sil_score, pca_epsvalues, pca_min_samp))\n",
    "pca_eps_min_df = pd.DataFrame(pca_eps_min, columns=['no_of_clusters', 'silhouette_score', 'epsilon_values', 'minimum_points'])\n",
    "pca_ep_min_df\n",
    "'''"
   ]
  },
  {
   "cell_type": "code",
   "execution_count": 1,
   "metadata": {},
   "outputs": [
    {
     "output_type": "error",
     "ename": "NameError",
     "evalue": "name 'pca_ep_min_df' is not defined",
     "traceback": [
      "\u001b[0;31m---------------------------------------------------------------------------\u001b[0m",
      "\u001b[0;31mNameError\u001b[0m                                 Traceback (most recent call last)",
      "\u001b[0;32m<ipython-input-1-746a119860bd>\u001b[0m in \u001b[0;36m<module>\u001b[0;34m\u001b[0m\n\u001b[0;32m----> 1\u001b[0;31m \u001b[0mpca_ep_min_df\u001b[0m\u001b[0;34m\u001b[0m\u001b[0;34m\u001b[0m\u001b[0m\n\u001b[0m",
      "\u001b[0;31mNameError\u001b[0m: name 'pca_ep_min_df' is not defined"
     ]
    }
   ],
   "source": [
    "pca_ep_min_df"
   ]
  },
  {
   "source": [
    "#info on how to use elbow methodhttps://stats.stackexchange.com/questions/79470/how-to-compare-dbscan-clusters-choose-epsilon-parameter\n",
    "\n",
    "#follow this for elbow method https://towardsdatascience.com/explaining-dbscan-clustering-18eaf5c83b31\n",
    "\n",
    "db = DBSCAN(eps=0.2, min_samples=6).fit(pca_df)\n",
    "labels = db.labels_\n",
    "# Number of clusters in labels, ignoring noise if present.\n",
    "n_clusters_ = len(set(labels)) - (1 if -1 in labels else 0)\n",
    "n_noise_ = list(labels).count(-1)\n",
    "print('Estimated number of clusters: %d' % n_clusters_)\n",
    "print('Estimated number of noise points: %d' % n_noise_)\n",
    "print(\"Silhouette Coefficient: %0.3f\" % metrics.silhouette_score(pca_df, labels))"
   ],
   "cell_type": "markdown",
   "metadata": {}
  },
  {
   "cell_type": "code",
   "execution_count": null,
   "metadata": {},
   "outputs": [],
   "source": []
  },
  {
   "cell_type": "code",
   "execution_count": null,
   "metadata": {},
   "outputs": [],
   "source": [
    "db = DBSCAN(eps=0.2, min_samples=6).fit(pca_df)\n",
    "labels = db.labels_\n",
    "# Number of clusters in labels, ignoring noise if present.\n",
    "n_clusters_ = len(set(labels)) - (1 if -1 in labels else 0)\n",
    "n_noise_ = list(labels).count(-1)\n",
    "print('Estimated number of clusters: %d' % n_clusters_)\n",
    "print('Estimated number of noise points: %d' % n_noise_)\n",
    "print(\"Silhouette Coefficient: %0.3f\" % metrics.silhouette_score(pca_df, labels))"
   ]
  },
  {
   "cell_type": "code",
   "execution_count": 24,
   "metadata": {},
   "outputs": [
    {
     "output_type": "error",
     "ename": "AttributeError",
     "evalue": "type object 'DBSCAN' has no attribute 'inertia_'",
     "traceback": [
      "\u001b[0;31m---------------------------------------------------------------------------\u001b[0m",
      "\u001b[0;31mAttributeError\u001b[0m                            Traceback (most recent call last)",
      "\u001b[0;32m<ipython-input-24-b25df2e94e2a>\u001b[0m in \u001b[0;36m<module>\u001b[0;34m\u001b[0m\n\u001b[1;32m      5\u001b[0m \u001b[0;32mfor\u001b[0m \u001b[0mms\u001b[0m \u001b[0;32min\u001b[0m \u001b[0mrange\u001b[0m\u001b[0;34m(\u001b[0m\u001b[0;36m2\u001b[0m\u001b[0;34m,\u001b[0m\u001b[0;36m20\u001b[0m\u001b[0;34m)\u001b[0m\u001b[0;34m:\u001b[0m\u001b[0;34m\u001b[0m\u001b[0;34m\u001b[0m\u001b[0m\n\u001b[1;32m      6\u001b[0m     \u001b[0mdb_scan\u001b[0m \u001b[0;34m=\u001b[0m \u001b[0mDBSCAN\u001b[0m\u001b[0;34m(\u001b[0m\u001b[0mmin_samples\u001b[0m \u001b[0;34m=\u001b[0m \u001b[0mms\u001b[0m\u001b[0;34m,\u001b[0m \u001b[0meps\u001b[0m\u001b[0;34m=\u001b[0m\u001b[0mepsilon\u001b[0m\u001b[0;34m,\u001b[0m \u001b[0mn_jobs\u001b[0m\u001b[0;34m=\u001b[0m\u001b[0;34m-\u001b[0m\u001b[0;36m1\u001b[0m\u001b[0;34m)\u001b[0m\u001b[0;34m.\u001b[0m\u001b[0mfit\u001b[0m\u001b[0;34m(\u001b[0m\u001b[0mPCA_components\u001b[0m\u001b[0;34m[\u001b[0m\u001b[0mrange\u001b[0m\u001b[0;34m(\u001b[0m\u001b[0md\u001b[0m\u001b[0;34m)\u001b[0m\u001b[0;34m]\u001b[0m\u001b[0;34m)\u001b[0m\u001b[0;34m\u001b[0m\u001b[0;34m\u001b[0m\u001b[0m\n\u001b[0;32m----> 7\u001b[0;31m     \u001b[0msse\u001b[0m\u001b[0;34m[\u001b[0m\u001b[0mms\u001b[0m\u001b[0;34m]\u001b[0m \u001b[0;34m=\u001b[0m \u001b[0mDBSCAN\u001b[0m\u001b[0;34m.\u001b[0m\u001b[0minertia_\u001b[0m\u001b[0;34m\u001b[0m\u001b[0;34m\u001b[0m\u001b[0m\n\u001b[0m\u001b[1;32m      8\u001b[0m     \u001b[0mlabels\u001b[0m\u001b[0;34m[\u001b[0m\u001b[0mms\u001b[0m\u001b[0;34m]\u001b[0m \u001b[0;34m=\u001b[0m \u001b[0mDBSCAN\u001b[0m\u001b[0;34m.\u001b[0m\u001b[0mlabels_\u001b[0m\u001b[0;34m\u001b[0m\u001b[0;34m\u001b[0m\u001b[0m\n\u001b[1;32m      9\u001b[0m \u001b[0mplt\u001b[0m\u001b[0;34m.\u001b[0m\u001b[0mfigure\u001b[0m\u001b[0;34m(\u001b[0m\u001b[0;34m)\u001b[0m\u001b[0;34m\u001b[0m\u001b[0;34m\u001b[0m\u001b[0m\n",
      "\u001b[0;31mAttributeError\u001b[0m: type object 'DBSCAN' has no attribute 'inertia_'"
     ]
    }
   ],
   "source": [
    "#DBSCAN clustering\n",
    "from sklearn.cluster import DBSCAN\n",
    "sse = {}\n",
    "labels = {}\n",
    "for ms in range(2,20):\n",
    "    db_scan = DBSCAN(min_samples = ms, eps=epsilon, n_jobs=-1).fit(PCA_components[range(d)])\n",
    "    sse[ms] = DBSCAN.inertia_ #what's the equivalent to this in DBSCAN? \n",
    "    labels[ms] = DBSCAN.labels_\n",
    "plt.figure()\n",
    "plt.plot(list(sse.keys()), list(sse.values()))\n",
    "plt.xlabel(\"Number of cluster\")\n",
    "plt.ylabel(\"SSE\")\n",
    "plt.show()"
   ]
  },
  {
   "cell_type": "code",
   "execution_count": 20,
   "metadata": {},
   "outputs": [],
   "source": [
    "#finding optimal number of clusters using kmeans\n",
    "sse = {}\n",
    "labels = {}\n",
    "for k in range(2,20):\n",
    "    kmeans = KMeans(n_clusters = k).fit(PCA_components[range(d)])\n",
    "    sse[k] = kmeans.inertia_\n",
    "    labels[k] = kmeans.labels_\n",
    "plt.figure()\n",
    "plt.plot(list(sse.keys()), list(sse.values()))\n",
    "plt.xlabel(\"Number of cluster\")\n",
    "plt.ylabel(\"SSE\")\n",
    "plt.show()"
   ]
  },
  {
   "cell_type": "code",
   "execution_count": 61,
   "metadata": {},
   "outputs": [],
   "source": [
    "aisle_share_pivot = aisle_share_pivot.fillna(0)"
   ]
  },
  {
   "cell_type": "code",
   "execution_count": 67,
   "metadata": {},
   "outputs": [],
   "source": [
    "#concatting cluster onto \n",
    "cluster_df = pd.concat([PCA_components[range(d)],pd.Series(labels[d]).rename('cluster')], axis = 1)\n",
    "\n",
    "cluster_df = pd.concat([pd.Series(aisle_share_pivot.index),cluster_df],axis = 1)"
   ]
  },
  {
   "cell_type": "code",
   "execution_count": 68,
   "metadata": {},
   "outputs": [
    {
     "output_type": "execute_result",
     "data": {
      "text/plain": [
       "        user_id         0         1         2         3         4         5  \\\n",
       "0             1 -0.122382  0.028613 -0.047848  0.012766 -0.075257 -0.111785   \n",
       "1             2 -0.034421  0.111616 -0.064131 -0.109468  0.073279 -0.029573   \n",
       "2             3  0.063256  0.104112  0.000496 -0.014155 -0.047741  0.111124   \n",
       "3             4 -0.094301  0.052755  0.001040 -0.005059 -0.071587 -0.017777   \n",
       "4             5  0.089432 -0.031068 -0.022805 -0.011826  0.042320  0.111463   \n",
       "...         ...       ...       ...       ...       ...       ...       ...   \n",
       "206204   206205  0.001716  0.084855 -0.065398 -0.068637  0.114987 -0.028526   \n",
       "206205   206206 -0.089658 -0.046734 -0.048290  0.012790 -0.059584 -0.000555   \n",
       "206206   206207 -0.024827 -0.013520 -0.003968 -0.030920  0.032991  0.020688   \n",
       "206207   206208 -0.009310 -0.003375 -0.045594 -0.012232  0.013767  0.055678   \n",
       "206208   206209 -0.066755  0.044041 -0.049676 -0.005734 -0.045205 -0.019118   \n",
       "\n",
       "               6         7  cluster  \n",
       "0      -0.100875  0.088398        6  \n",
       "1      -0.049181 -0.058611        2  \n",
       "2      -0.031866  0.013089        4  \n",
       "3      -0.025033 -0.039054        1  \n",
       "4      -0.015768  0.100988        0  \n",
       "...          ...       ...      ...  \n",
       "206204  0.020659  0.023901        2  \n",
       "206205 -0.013935 -0.042941        1  \n",
       "206206  0.037651  0.032849        0  \n",
       "206207  0.008144  0.029488        0  \n",
       "206208 -0.009830  0.040129        1  \n",
       "\n",
       "[206209 rows x 10 columns]"
      ],
      "text/html": "<div>\n<style scoped>\n    .dataframe tbody tr th:only-of-type {\n        vertical-align: middle;\n    }\n\n    .dataframe tbody tr th {\n        vertical-align: top;\n    }\n\n    .dataframe thead th {\n        text-align: right;\n    }\n</style>\n<table border=\"1\" class=\"dataframe\">\n  <thead>\n    <tr style=\"text-align: right;\">\n      <th></th>\n      <th>user_id</th>\n      <th>0</th>\n      <th>1</th>\n      <th>2</th>\n      <th>3</th>\n      <th>4</th>\n      <th>5</th>\n      <th>6</th>\n      <th>7</th>\n      <th>cluster</th>\n    </tr>\n  </thead>\n  <tbody>\n    <tr>\n      <th>0</th>\n      <td>1</td>\n      <td>-0.122382</td>\n      <td>0.028613</td>\n      <td>-0.047848</td>\n      <td>0.012766</td>\n      <td>-0.075257</td>\n      <td>-0.111785</td>\n      <td>-0.100875</td>\n      <td>0.088398</td>\n      <td>6</td>\n    </tr>\n    <tr>\n      <th>1</th>\n      <td>2</td>\n      <td>-0.034421</td>\n      <td>0.111616</td>\n      <td>-0.064131</td>\n      <td>-0.109468</td>\n      <td>0.073279</td>\n      <td>-0.029573</td>\n      <td>-0.049181</td>\n      <td>-0.058611</td>\n      <td>2</td>\n    </tr>\n    <tr>\n      <th>2</th>\n      <td>3</td>\n      <td>0.063256</td>\n      <td>0.104112</td>\n      <td>0.000496</td>\n      <td>-0.014155</td>\n      <td>-0.047741</td>\n      <td>0.111124</td>\n      <td>-0.031866</td>\n      <td>0.013089</td>\n      <td>4</td>\n    </tr>\n    <tr>\n      <th>3</th>\n      <td>4</td>\n      <td>-0.094301</td>\n      <td>0.052755</td>\n      <td>0.001040</td>\n      <td>-0.005059</td>\n      <td>-0.071587</td>\n      <td>-0.017777</td>\n      <td>-0.025033</td>\n      <td>-0.039054</td>\n      <td>1</td>\n    </tr>\n    <tr>\n      <th>4</th>\n      <td>5</td>\n      <td>0.089432</td>\n      <td>-0.031068</td>\n      <td>-0.022805</td>\n      <td>-0.011826</td>\n      <td>0.042320</td>\n      <td>0.111463</td>\n      <td>-0.015768</td>\n      <td>0.100988</td>\n      <td>0</td>\n    </tr>\n    <tr>\n      <th>...</th>\n      <td>...</td>\n      <td>...</td>\n      <td>...</td>\n      <td>...</td>\n      <td>...</td>\n      <td>...</td>\n      <td>...</td>\n      <td>...</td>\n      <td>...</td>\n      <td>...</td>\n    </tr>\n    <tr>\n      <th>206204</th>\n      <td>206205</td>\n      <td>0.001716</td>\n      <td>0.084855</td>\n      <td>-0.065398</td>\n      <td>-0.068637</td>\n      <td>0.114987</td>\n      <td>-0.028526</td>\n      <td>0.020659</td>\n      <td>0.023901</td>\n      <td>2</td>\n    </tr>\n    <tr>\n      <th>206205</th>\n      <td>206206</td>\n      <td>-0.089658</td>\n      <td>-0.046734</td>\n      <td>-0.048290</td>\n      <td>0.012790</td>\n      <td>-0.059584</td>\n      <td>-0.000555</td>\n      <td>-0.013935</td>\n      <td>-0.042941</td>\n      <td>1</td>\n    </tr>\n    <tr>\n      <th>206206</th>\n      <td>206207</td>\n      <td>-0.024827</td>\n      <td>-0.013520</td>\n      <td>-0.003968</td>\n      <td>-0.030920</td>\n      <td>0.032991</td>\n      <td>0.020688</td>\n      <td>0.037651</td>\n      <td>0.032849</td>\n      <td>0</td>\n    </tr>\n    <tr>\n      <th>206207</th>\n      <td>206208</td>\n      <td>-0.009310</td>\n      <td>-0.003375</td>\n      <td>-0.045594</td>\n      <td>-0.012232</td>\n      <td>0.013767</td>\n      <td>0.055678</td>\n      <td>0.008144</td>\n      <td>0.029488</td>\n      <td>0</td>\n    </tr>\n    <tr>\n      <th>206208</th>\n      <td>206209</td>\n      <td>-0.066755</td>\n      <td>0.044041</td>\n      <td>-0.049676</td>\n      <td>-0.005734</td>\n      <td>-0.045205</td>\n      <td>-0.019118</td>\n      <td>-0.009830</td>\n      <td>0.040129</td>\n      <td>1</td>\n    </tr>\n  </tbody>\n</table>\n<p>206209 rows × 10 columns</p>\n</div>"
     },
     "metadata": {},
     "execution_count": 68
    }
   ],
   "source": [
    "cluster_df"
   ]
  },
  {
   "cell_type": "code",
   "execution_count": 66,
   "metadata": {},
   "outputs": [
    {
     "output_type": "execute_result",
     "data": {
      "text/plain": [
       "        user_id  user_id         0         1         2         3         4  \\\n",
       "0             1        1 -0.122382  0.028613 -0.047848  0.012766 -0.075257   \n",
       "1             2        2 -0.034421  0.111616 -0.064131 -0.109468  0.073279   \n",
       "2             3        3  0.063256  0.104112  0.000496 -0.014155 -0.047741   \n",
       "3             4        4 -0.094301  0.052755  0.001040 -0.005059 -0.071587   \n",
       "4             5        5  0.089432 -0.031068 -0.022805 -0.011826  0.042320   \n",
       "...         ...      ...       ...       ...       ...       ...       ...   \n",
       "206204   206205   206205  0.001716  0.084855 -0.065398 -0.068637  0.114987   \n",
       "206205   206206   206206 -0.089658 -0.046734 -0.048290  0.012790 -0.059584   \n",
       "206206   206207   206207 -0.024827 -0.013520 -0.003968 -0.030920  0.032991   \n",
       "206207   206208   206208 -0.009310 -0.003375 -0.045594 -0.012232  0.013767   \n",
       "206208   206209   206209 -0.066755  0.044041 -0.049676 -0.005734 -0.045205   \n",
       "\n",
       "               5         6         7  cluster  \n",
       "0      -0.111785 -0.100875  0.088398        6  \n",
       "1      -0.029573 -0.049181 -0.058611        2  \n",
       "2       0.111124 -0.031866  0.013089        4  \n",
       "3      -0.017777 -0.025033 -0.039054        1  \n",
       "4       0.111463 -0.015768  0.100988        0  \n",
       "...          ...       ...       ...      ...  \n",
       "206204 -0.028526  0.020659  0.023901        2  \n",
       "206205 -0.000555 -0.013935 -0.042941        1  \n",
       "206206  0.020688  0.037651  0.032849        0  \n",
       "206207  0.055678  0.008144  0.029488        0  \n",
       "206208 -0.019118 -0.009830  0.040129        1  \n",
       "\n",
       "[206209 rows x 11 columns]"
      ],
      "text/html": "<div>\n<style scoped>\n    .dataframe tbody tr th:only-of-type {\n        vertical-align: middle;\n    }\n\n    .dataframe tbody tr th {\n        vertical-align: top;\n    }\n\n    .dataframe thead th {\n        text-align: right;\n    }\n</style>\n<table border=\"1\" class=\"dataframe\">\n  <thead>\n    <tr style=\"text-align: right;\">\n      <th></th>\n      <th>user_id</th>\n      <th>user_id</th>\n      <th>0</th>\n      <th>1</th>\n      <th>2</th>\n      <th>3</th>\n      <th>4</th>\n      <th>5</th>\n      <th>6</th>\n      <th>7</th>\n      <th>cluster</th>\n    </tr>\n  </thead>\n  <tbody>\n    <tr>\n      <th>0</th>\n      <td>1</td>\n      <td>1</td>\n      <td>-0.122382</td>\n      <td>0.028613</td>\n      <td>-0.047848</td>\n      <td>0.012766</td>\n      <td>-0.075257</td>\n      <td>-0.111785</td>\n      <td>-0.100875</td>\n      <td>0.088398</td>\n      <td>6</td>\n    </tr>\n    <tr>\n      <th>1</th>\n      <td>2</td>\n      <td>2</td>\n      <td>-0.034421</td>\n      <td>0.111616</td>\n      <td>-0.064131</td>\n      <td>-0.109468</td>\n      <td>0.073279</td>\n      <td>-0.029573</td>\n      <td>-0.049181</td>\n      <td>-0.058611</td>\n      <td>2</td>\n    </tr>\n    <tr>\n      <th>2</th>\n      <td>3</td>\n      <td>3</td>\n      <td>0.063256</td>\n      <td>0.104112</td>\n      <td>0.000496</td>\n      <td>-0.014155</td>\n      <td>-0.047741</td>\n      <td>0.111124</td>\n      <td>-0.031866</td>\n      <td>0.013089</td>\n      <td>4</td>\n    </tr>\n    <tr>\n      <th>3</th>\n      <td>4</td>\n      <td>4</td>\n      <td>-0.094301</td>\n      <td>0.052755</td>\n      <td>0.001040</td>\n      <td>-0.005059</td>\n      <td>-0.071587</td>\n      <td>-0.017777</td>\n      <td>-0.025033</td>\n      <td>-0.039054</td>\n      <td>1</td>\n    </tr>\n    <tr>\n      <th>4</th>\n      <td>5</td>\n      <td>5</td>\n      <td>0.089432</td>\n      <td>-0.031068</td>\n      <td>-0.022805</td>\n      <td>-0.011826</td>\n      <td>0.042320</td>\n      <td>0.111463</td>\n      <td>-0.015768</td>\n      <td>0.100988</td>\n      <td>0</td>\n    </tr>\n    <tr>\n      <th>...</th>\n      <td>...</td>\n      <td>...</td>\n      <td>...</td>\n      <td>...</td>\n      <td>...</td>\n      <td>...</td>\n      <td>...</td>\n      <td>...</td>\n      <td>...</td>\n      <td>...</td>\n      <td>...</td>\n    </tr>\n    <tr>\n      <th>206204</th>\n      <td>206205</td>\n      <td>206205</td>\n      <td>0.001716</td>\n      <td>0.084855</td>\n      <td>-0.065398</td>\n      <td>-0.068637</td>\n      <td>0.114987</td>\n      <td>-0.028526</td>\n      <td>0.020659</td>\n      <td>0.023901</td>\n      <td>2</td>\n    </tr>\n    <tr>\n      <th>206205</th>\n      <td>206206</td>\n      <td>206206</td>\n      <td>-0.089658</td>\n      <td>-0.046734</td>\n      <td>-0.048290</td>\n      <td>0.012790</td>\n      <td>-0.059584</td>\n      <td>-0.000555</td>\n      <td>-0.013935</td>\n      <td>-0.042941</td>\n      <td>1</td>\n    </tr>\n    <tr>\n      <th>206206</th>\n      <td>206207</td>\n      <td>206207</td>\n      <td>-0.024827</td>\n      <td>-0.013520</td>\n      <td>-0.003968</td>\n      <td>-0.030920</td>\n      <td>0.032991</td>\n      <td>0.020688</td>\n      <td>0.037651</td>\n      <td>0.032849</td>\n      <td>0</td>\n    </tr>\n    <tr>\n      <th>206207</th>\n      <td>206208</td>\n      <td>206208</td>\n      <td>-0.009310</td>\n      <td>-0.003375</td>\n      <td>-0.045594</td>\n      <td>-0.012232</td>\n      <td>0.013767</td>\n      <td>0.055678</td>\n      <td>0.008144</td>\n      <td>0.029488</td>\n      <td>0</td>\n    </tr>\n    <tr>\n      <th>206208</th>\n      <td>206209</td>\n      <td>206209</td>\n      <td>-0.066755</td>\n      <td>0.044041</td>\n      <td>-0.049676</td>\n      <td>-0.005734</td>\n      <td>-0.045205</td>\n      <td>-0.019118</td>\n      <td>-0.009830</td>\n      <td>0.040129</td>\n      <td>1</td>\n    </tr>\n  </tbody>\n</table>\n<p>206209 rows × 11 columns</p>\n</div>"
     },
     "metadata": {},
     "execution_count": 66
    }
   ],
   "source": [
    "cluster_df"
   ]
  },
  {
   "cell_type": "code",
   "execution_count": 70,
   "metadata": {},
   "outputs": [],
   "source": [
    "#Adding cluster number to our asile share per user dataframe \n",
    "cluster_aisle_br = aisle_share_per_user.merge(cluster_df[['user_id','cluster']], on = 'user_id')"
   ]
  },
  {
   "cell_type": "code",
   "execution_count": 71,
   "metadata": {},
   "outputs": [
    {
     "output_type": "execute_result",
     "data": {
      "text/plain": [
       "         user_id              aisle  aisle_share  cluster\n",
       "0              1    candy chocolate     0.028571        6\n",
       "1              1             cereal     0.057143        6\n",
       "2              1              cream     0.042857        6\n",
       "3              1       fresh fruits     0.071429        6\n",
       "4              1               milk     0.014286        6\n",
       "...          ...                ...          ...      ...\n",
       "5919835   206209        soft drinks     0.080292        1\n",
       "5919836   206209    soy lactosefree     0.072993        1\n",
       "5919837   206209  spices seasonings     0.007299        1\n",
       "5919838   206209  trash bags liners     0.007299        1\n",
       "5919839   206209             yogurt     0.021898        1\n",
       "\n",
       "[5919840 rows x 4 columns]"
      ],
      "text/html": "<div>\n<style scoped>\n    .dataframe tbody tr th:only-of-type {\n        vertical-align: middle;\n    }\n\n    .dataframe tbody tr th {\n        vertical-align: top;\n    }\n\n    .dataframe thead th {\n        text-align: right;\n    }\n</style>\n<table border=\"1\" class=\"dataframe\">\n  <thead>\n    <tr style=\"text-align: right;\">\n      <th></th>\n      <th>user_id</th>\n      <th>aisle</th>\n      <th>aisle_share</th>\n      <th>cluster</th>\n    </tr>\n  </thead>\n  <tbody>\n    <tr>\n      <th>0</th>\n      <td>1</td>\n      <td>candy chocolate</td>\n      <td>0.028571</td>\n      <td>6</td>\n    </tr>\n    <tr>\n      <th>1</th>\n      <td>1</td>\n      <td>cereal</td>\n      <td>0.057143</td>\n      <td>6</td>\n    </tr>\n    <tr>\n      <th>2</th>\n      <td>1</td>\n      <td>cream</td>\n      <td>0.042857</td>\n      <td>6</td>\n    </tr>\n    <tr>\n      <th>3</th>\n      <td>1</td>\n      <td>fresh fruits</td>\n      <td>0.071429</td>\n      <td>6</td>\n    </tr>\n    <tr>\n      <th>4</th>\n      <td>1</td>\n      <td>milk</td>\n      <td>0.014286</td>\n      <td>6</td>\n    </tr>\n    <tr>\n      <th>...</th>\n      <td>...</td>\n      <td>...</td>\n      <td>...</td>\n      <td>...</td>\n    </tr>\n    <tr>\n      <th>5919835</th>\n      <td>206209</td>\n      <td>soft drinks</td>\n      <td>0.080292</td>\n      <td>1</td>\n    </tr>\n    <tr>\n      <th>5919836</th>\n      <td>206209</td>\n      <td>soy lactosefree</td>\n      <td>0.072993</td>\n      <td>1</td>\n    </tr>\n    <tr>\n      <th>5919837</th>\n      <td>206209</td>\n      <td>spices seasonings</td>\n      <td>0.007299</td>\n      <td>1</td>\n    </tr>\n    <tr>\n      <th>5919838</th>\n      <td>206209</td>\n      <td>trash bags liners</td>\n      <td>0.007299</td>\n      <td>1</td>\n    </tr>\n    <tr>\n      <th>5919839</th>\n      <td>206209</td>\n      <td>yogurt</td>\n      <td>0.021898</td>\n      <td>1</td>\n    </tr>\n  </tbody>\n</table>\n<p>5919840 rows × 4 columns</p>\n</div>"
     },
     "metadata": {},
     "execution_count": 71
    }
   ],
   "source": [
    "cluster_aisle_br"
   ]
  },
  {
   "cell_type": "code",
   "execution_count": 72,
   "metadata": {},
   "outputs": [],
   "source": [
    "all_orders_cluster = all_orders.merge(cluster_df[['user_id','cluster']], on = 'user_id')"
   ]
  },
  {
   "cell_type": "code",
   "execution_count": 73,
   "metadata": {},
   "outputs": [
    {
     "output_type": "execute_result",
     "data": {
      "text/plain": [
       "          order_id  product_id  add_to_cart_order  reordered  user_id  \\\n",
       "0                2       33120                  1          1   202279   \n",
       "1           104690       33120                  2          1   202279   \n",
       "2           132412       33120                  1          1   202279   \n",
       "3          2808715       33120                  1          1   202279   \n",
       "4          2894949       33120                  5          0   202279   \n",
       "...            ...         ...                ...        ...      ...   \n",
       "33819101   2942910       36885                  1          1    95228   \n",
       "33819102     77392       47713                  1          1    95228   \n",
       "33819103    679020       47713                  1          1    95228   \n",
       "33819104   1264096       47713                  1          1    95228   \n",
       "33819105   1751525       47713                  1          0    95228   \n",
       "\n",
       "                product_name  aisle_id  department_id  department  \\\n",
       "0         Organic Egg Whites        86             16  dairy eggs   \n",
       "1         Organic Egg Whites        86             16  dairy eggs   \n",
       "2         Organic Egg Whites        86             16  dairy eggs   \n",
       "3         Organic Egg Whites        86             16  dairy eggs   \n",
       "4         Organic Egg Whites        86             16  dairy eggs   \n",
       "...                      ...       ...            ...         ...   \n",
       "33819101                Rose       134              5     alcohol   \n",
       "33819102      Sparkling Rose       134              5     alcohol   \n",
       "33819103      Sparkling Rose       134              5     alcohol   \n",
       "33819104      Sparkling Rose       134              5     alcohol   \n",
       "33819105      Sparkling Rose       134              5     alcohol   \n",
       "\n",
       "                               aisle  cluster  \n",
       "0                               eggs        0  \n",
       "1                               eggs        0  \n",
       "2                               eggs        0  \n",
       "3                               eggs        0  \n",
       "4                               eggs        0  \n",
       "...                              ...      ...  \n",
       "33819101  specialty wines champagnes        1  \n",
       "33819102  specialty wines champagnes        1  \n",
       "33819103  specialty wines champagnes        1  \n",
       "33819104  specialty wines champagnes        1  \n",
       "33819105  specialty wines champagnes        1  \n",
       "\n",
       "[33819106 rows x 11 columns]"
      ],
      "text/html": "<div>\n<style scoped>\n    .dataframe tbody tr th:only-of-type {\n        vertical-align: middle;\n    }\n\n    .dataframe tbody tr th {\n        vertical-align: top;\n    }\n\n    .dataframe thead th {\n        text-align: right;\n    }\n</style>\n<table border=\"1\" class=\"dataframe\">\n  <thead>\n    <tr style=\"text-align: right;\">\n      <th></th>\n      <th>order_id</th>\n      <th>product_id</th>\n      <th>add_to_cart_order</th>\n      <th>reordered</th>\n      <th>user_id</th>\n      <th>product_name</th>\n      <th>aisle_id</th>\n      <th>department_id</th>\n      <th>department</th>\n      <th>aisle</th>\n      <th>cluster</th>\n    </tr>\n  </thead>\n  <tbody>\n    <tr>\n      <th>0</th>\n      <td>2</td>\n      <td>33120</td>\n      <td>1</td>\n      <td>1</td>\n      <td>202279</td>\n      <td>Organic Egg Whites</td>\n      <td>86</td>\n      <td>16</td>\n      <td>dairy eggs</td>\n      <td>eggs</td>\n      <td>0</td>\n    </tr>\n    <tr>\n      <th>1</th>\n      <td>104690</td>\n      <td>33120</td>\n      <td>2</td>\n      <td>1</td>\n      <td>202279</td>\n      <td>Organic Egg Whites</td>\n      <td>86</td>\n      <td>16</td>\n      <td>dairy eggs</td>\n      <td>eggs</td>\n      <td>0</td>\n    </tr>\n    <tr>\n      <th>2</th>\n      <td>132412</td>\n      <td>33120</td>\n      <td>1</td>\n      <td>1</td>\n      <td>202279</td>\n      <td>Organic Egg Whites</td>\n      <td>86</td>\n      <td>16</td>\n      <td>dairy eggs</td>\n      <td>eggs</td>\n      <td>0</td>\n    </tr>\n    <tr>\n      <th>3</th>\n      <td>2808715</td>\n      <td>33120</td>\n      <td>1</td>\n      <td>1</td>\n      <td>202279</td>\n      <td>Organic Egg Whites</td>\n      <td>86</td>\n      <td>16</td>\n      <td>dairy eggs</td>\n      <td>eggs</td>\n      <td>0</td>\n    </tr>\n    <tr>\n      <th>4</th>\n      <td>2894949</td>\n      <td>33120</td>\n      <td>5</td>\n      <td>0</td>\n      <td>202279</td>\n      <td>Organic Egg Whites</td>\n      <td>86</td>\n      <td>16</td>\n      <td>dairy eggs</td>\n      <td>eggs</td>\n      <td>0</td>\n    </tr>\n    <tr>\n      <th>...</th>\n      <td>...</td>\n      <td>...</td>\n      <td>...</td>\n      <td>...</td>\n      <td>...</td>\n      <td>...</td>\n      <td>...</td>\n      <td>...</td>\n      <td>...</td>\n      <td>...</td>\n      <td>...</td>\n    </tr>\n    <tr>\n      <th>33819101</th>\n      <td>2942910</td>\n      <td>36885</td>\n      <td>1</td>\n      <td>1</td>\n      <td>95228</td>\n      <td>Rose</td>\n      <td>134</td>\n      <td>5</td>\n      <td>alcohol</td>\n      <td>specialty wines champagnes</td>\n      <td>1</td>\n    </tr>\n    <tr>\n      <th>33819102</th>\n      <td>77392</td>\n      <td>47713</td>\n      <td>1</td>\n      <td>1</td>\n      <td>95228</td>\n      <td>Sparkling Rose</td>\n      <td>134</td>\n      <td>5</td>\n      <td>alcohol</td>\n      <td>specialty wines champagnes</td>\n      <td>1</td>\n    </tr>\n    <tr>\n      <th>33819103</th>\n      <td>679020</td>\n      <td>47713</td>\n      <td>1</td>\n      <td>1</td>\n      <td>95228</td>\n      <td>Sparkling Rose</td>\n      <td>134</td>\n      <td>5</td>\n      <td>alcohol</td>\n      <td>specialty wines champagnes</td>\n      <td>1</td>\n    </tr>\n    <tr>\n      <th>33819104</th>\n      <td>1264096</td>\n      <td>47713</td>\n      <td>1</td>\n      <td>1</td>\n      <td>95228</td>\n      <td>Sparkling Rose</td>\n      <td>134</td>\n      <td>5</td>\n      <td>alcohol</td>\n      <td>specialty wines champagnes</td>\n      <td>1</td>\n    </tr>\n    <tr>\n      <th>33819105</th>\n      <td>1751525</td>\n      <td>47713</td>\n      <td>1</td>\n      <td>0</td>\n      <td>95228</td>\n      <td>Sparkling Rose</td>\n      <td>134</td>\n      <td>5</td>\n      <td>alcohol</td>\n      <td>specialty wines champagnes</td>\n      <td>1</td>\n    </tr>\n  </tbody>\n</table>\n<p>33819106 rows × 11 columns</p>\n</div>"
     },
     "metadata": {},
     "execution_count": 73
    }
   ],
   "source": [
    "all_orders_cluster"
   ]
  },
  {
   "cell_type": "code",
   "execution_count": null,
   "metadata": {},
   "outputs": [],
   "source": []
  }
 ]
}