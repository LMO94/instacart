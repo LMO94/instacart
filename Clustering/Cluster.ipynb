{
 "metadata": {
  "language_info": {
   "codemirror_mode": {
    "name": "ipython",
    "version": 3
   },
   "file_extension": ".py",
   "mimetype": "text/x-python",
   "name": "python",
   "nbconvert_exporter": "python",
   "pygments_lexer": "ipython3",
   "version": "3.8.5"
  },
  "orig_nbformat": 2,
  "kernelspec": {
   "name": "python385jvsc74a57bd0e6b5103c7a1adf0bfd16ce87b7ee4efa02299f451c8cd6bb66a99b126000572d",
   "display_name": "Python 3.8.5 64-bit ('base': conda)"
  },
  "metadata": {
   "interpreter": {
    "hash": "e6b5103c7a1adf0bfd16ce87b7ee4efa02299f451c8cd6bb66a99b126000572d"
   }
  }
 },
 "nbformat": 4,
 "nbformat_minor": 2,
 "cells": [
  {
   "cell_type": "code",
   "execution_count": 1,
   "metadata": {},
   "outputs": [],
   "source": [
    "import pandas as pd"
   ]
  },
  {
   "cell_type": "code",
   "execution_count": 2,
   "metadata": {},
   "outputs": [],
   "source": [
    "products = pd.read_csv('../data/products.csv')\n",
    "aisles = pd.read_csv('../data/aisles.csv')\n",
    "departments = pd.read_csv('../data/departments.csv')\n",
    "order_products_prior = pd.read_csv('../data/order_products_prior.csv')\n",
    "order_products_train = pd.read_csv('../data/order_products_train.csv')\n",
    "orders = pd.read_csv('../data/orders.csv')\n",
    "sample_submission = pd.read_csv('../data/sample_submission.csv')"
   ]
  },
  {
   "cell_type": "code",
   "execution_count": null,
   "metadata": {},
   "outputs": [],
   "source": []
  },
  {
   "cell_type": "code",
   "execution_count": 3,
   "metadata": {},
   "outputs": [],
   "source": [
    "#creating one big dataframe called all_orders with most of the features included. \n",
    "all_orders = pd.concat([order_products_prior,order_products_train])\n",
    "all_orders = all_orders.merge(orders[['order_id','user_id']], on='order_id', how='inner')\n",
    "all_orders = all_orders.merge(products, on = 'product_id', how='inner')\n",
    "all_orders = all_orders.merge(departments, on = 'department_id', how='inner')\n",
    "all_orders = all_orders.merge(aisles, on = 'aisle_id', how='inner')\n"
   ]
  },
  {
   "cell_type": "code",
   "execution_count": 4,
   "metadata": {},
   "outputs": [],
   "source": [
    "#How many products the user bought from each aisle \n",
    "cnt_per_aisle = all_orders[['user_id','aisle','product_name']].groupby(['user_id', 'aisle']).count().reset_index() \n",
    "\n",
    "cnt_per_aisle = cnt_per_aisle.rename(columns={'product_name':'product_cnt_per_aisle'})"
   ]
  },
  {
   "cell_type": "code",
   "execution_count": 5,
   "metadata": {},
   "outputs": [
    {
     "output_type": "execute_result",
     "data": {
      "text/plain": [
       "         user_id              aisle  product_cnt_per_aisle\n",
       "0              1    candy chocolate                      2\n",
       "1              1             cereal                      4\n",
       "2              1              cream                      3\n",
       "3              1       fresh fruits                      5\n",
       "4              1               milk                      1\n",
       "...          ...                ...                    ...\n",
       "5919835   206209        soft drinks                     11\n",
       "5919836   206209    soy lactosefree                     10\n",
       "5919837   206209  spices seasonings                      1\n",
       "5919838   206209  trash bags liners                      1\n",
       "5919839   206209             yogurt                      3\n",
       "\n",
       "[5919840 rows x 3 columns]"
      ],
      "text/html": "<div>\n<style scoped>\n    .dataframe tbody tr th:only-of-type {\n        vertical-align: middle;\n    }\n\n    .dataframe tbody tr th {\n        vertical-align: top;\n    }\n\n    .dataframe thead th {\n        text-align: right;\n    }\n</style>\n<table border=\"1\" class=\"dataframe\">\n  <thead>\n    <tr style=\"text-align: right;\">\n      <th></th>\n      <th>user_id</th>\n      <th>aisle</th>\n      <th>product_cnt_per_aisle</th>\n    </tr>\n  </thead>\n  <tbody>\n    <tr>\n      <th>0</th>\n      <td>1</td>\n      <td>candy chocolate</td>\n      <td>2</td>\n    </tr>\n    <tr>\n      <th>1</th>\n      <td>1</td>\n      <td>cereal</td>\n      <td>4</td>\n    </tr>\n    <tr>\n      <th>2</th>\n      <td>1</td>\n      <td>cream</td>\n      <td>3</td>\n    </tr>\n    <tr>\n      <th>3</th>\n      <td>1</td>\n      <td>fresh fruits</td>\n      <td>5</td>\n    </tr>\n    <tr>\n      <th>4</th>\n      <td>1</td>\n      <td>milk</td>\n      <td>1</td>\n    </tr>\n    <tr>\n      <th>...</th>\n      <td>...</td>\n      <td>...</td>\n      <td>...</td>\n    </tr>\n    <tr>\n      <th>5919835</th>\n      <td>206209</td>\n      <td>soft drinks</td>\n      <td>11</td>\n    </tr>\n    <tr>\n      <th>5919836</th>\n      <td>206209</td>\n      <td>soy lactosefree</td>\n      <td>10</td>\n    </tr>\n    <tr>\n      <th>5919837</th>\n      <td>206209</td>\n      <td>spices seasonings</td>\n      <td>1</td>\n    </tr>\n    <tr>\n      <th>5919838</th>\n      <td>206209</td>\n      <td>trash bags liners</td>\n      <td>1</td>\n    </tr>\n    <tr>\n      <th>5919839</th>\n      <td>206209</td>\n      <td>yogurt</td>\n      <td>3</td>\n    </tr>\n  </tbody>\n</table>\n<p>5919840 rows × 3 columns</p>\n</div>"
     },
     "metadata": {},
     "execution_count": 5
    }
   ],
   "source": [
    "cnt_per_aisle"
   ]
  },
  {
   "cell_type": "code",
   "execution_count": 6,
   "metadata": {},
   "outputs": [
    {
     "output_type": "execute_result",
     "data": {
      "text/plain": [
       "         product_cnt_per_aisle\n",
       "user_id                       \n",
       "1                           70\n",
       "2                          226\n",
       "3                           88\n",
       "4                           18\n",
       "5                           46\n",
       "...                        ...\n",
       "206205                      51\n",
       "206206                     285\n",
       "206207                     223\n",
       "206208                     677\n",
       "206209                     137\n",
       "\n",
       "[206209 rows x 1 columns]"
      ],
      "text/html": "<div>\n<style scoped>\n    .dataframe tbody tr th:only-of-type {\n        vertical-align: middle;\n    }\n\n    .dataframe tbody tr th {\n        vertical-align: top;\n    }\n\n    .dataframe thead th {\n        text-align: right;\n    }\n</style>\n<table border=\"1\" class=\"dataframe\">\n  <thead>\n    <tr style=\"text-align: right;\">\n      <th></th>\n      <th>product_cnt_per_aisle</th>\n    </tr>\n    <tr>\n      <th>user_id</th>\n      <th></th>\n    </tr>\n  </thead>\n  <tbody>\n    <tr>\n      <th>1</th>\n      <td>70</td>\n    </tr>\n    <tr>\n      <th>2</th>\n      <td>226</td>\n    </tr>\n    <tr>\n      <th>3</th>\n      <td>88</td>\n    </tr>\n    <tr>\n      <th>4</th>\n      <td>18</td>\n    </tr>\n    <tr>\n      <th>5</th>\n      <td>46</td>\n    </tr>\n    <tr>\n      <th>...</th>\n      <td>...</td>\n    </tr>\n    <tr>\n      <th>206205</th>\n      <td>51</td>\n    </tr>\n    <tr>\n      <th>206206</th>\n      <td>285</td>\n    </tr>\n    <tr>\n      <th>206207</th>\n      <td>223</td>\n    </tr>\n    <tr>\n      <th>206208</th>\n      <td>677</td>\n    </tr>\n    <tr>\n      <th>206209</th>\n      <td>137</td>\n    </tr>\n  </tbody>\n</table>\n<p>206209 rows × 1 columns</p>\n</div>"
     },
     "metadata": {},
     "execution_count": 6
    }
   ],
   "source": [
    "#Total product purchased by user id \n",
    "ttl_per_user = cnt_per_aisle.groupby([\"user_id\"]).sum()\n",
    "ttl_per_user"
   ]
  },
  {
   "cell_type": "code",
   "execution_count": 7,
   "metadata": {},
   "outputs": [
    {
     "output_type": "execute_result",
     "data": {
      "text/plain": [
       "         user_id              aisle  aisle_share\n",
       "0              1    candy chocolate     0.028571\n",
       "1              1             cereal     0.057143\n",
       "2              1              cream     0.042857\n",
       "3              1       fresh fruits     0.071429\n",
       "4              1               milk     0.014286\n",
       "...          ...                ...          ...\n",
       "5919835   206209        soft drinks     0.080292\n",
       "5919836   206209    soy lactosefree     0.072993\n",
       "5919837   206209  spices seasonings     0.007299\n",
       "5919838   206209  trash bags liners     0.007299\n",
       "5919839   206209             yogurt     0.021898\n",
       "\n",
       "[5919840 rows x 3 columns]"
      ],
      "text/html": "<div>\n<style scoped>\n    .dataframe tbody tr th:only-of-type {\n        vertical-align: middle;\n    }\n\n    .dataframe tbody tr th {\n        vertical-align: top;\n    }\n\n    .dataframe thead th {\n        text-align: right;\n    }\n</style>\n<table border=\"1\" class=\"dataframe\">\n  <thead>\n    <tr style=\"text-align: right;\">\n      <th></th>\n      <th>user_id</th>\n      <th>aisle</th>\n      <th>aisle_share</th>\n    </tr>\n  </thead>\n  <tbody>\n    <tr>\n      <th>0</th>\n      <td>1</td>\n      <td>candy chocolate</td>\n      <td>0.028571</td>\n    </tr>\n    <tr>\n      <th>1</th>\n      <td>1</td>\n      <td>cereal</td>\n      <td>0.057143</td>\n    </tr>\n    <tr>\n      <th>2</th>\n      <td>1</td>\n      <td>cream</td>\n      <td>0.042857</td>\n    </tr>\n    <tr>\n      <th>3</th>\n      <td>1</td>\n      <td>fresh fruits</td>\n      <td>0.071429</td>\n    </tr>\n    <tr>\n      <th>4</th>\n      <td>1</td>\n      <td>milk</td>\n      <td>0.014286</td>\n    </tr>\n    <tr>\n      <th>...</th>\n      <td>...</td>\n      <td>...</td>\n      <td>...</td>\n    </tr>\n    <tr>\n      <th>5919835</th>\n      <td>206209</td>\n      <td>soft drinks</td>\n      <td>0.080292</td>\n    </tr>\n    <tr>\n      <th>5919836</th>\n      <td>206209</td>\n      <td>soy lactosefree</td>\n      <td>0.072993</td>\n    </tr>\n    <tr>\n      <th>5919837</th>\n      <td>206209</td>\n      <td>spices seasonings</td>\n      <td>0.007299</td>\n    </tr>\n    <tr>\n      <th>5919838</th>\n      <td>206209</td>\n      <td>trash bags liners</td>\n      <td>0.007299</td>\n    </tr>\n    <tr>\n      <th>5919839</th>\n      <td>206209</td>\n      <td>yogurt</td>\n      <td>0.021898</td>\n    </tr>\n  </tbody>\n</table>\n<p>5919840 rows × 3 columns</p>\n</div>"
     },
     "metadata": {},
     "execution_count": 7
    }
   ],
   "source": [
    "#calculating the aisle share by user id \n",
    "aisle_share_per_user = cnt_per_aisle.merge(ttl_per_user, how=\"left\", on=\"user_id\")\n",
    "aisle_share_per_user[\"aisle_share\"] = aisle_share_per_user[\"product_cnt_per_aisle_x\"] / aisle_share_per_user[\"product_cnt_per_aisle_y\"]\n",
    "aisle_share_per_user.drop([\"product_cnt_per_aisle_x\", \"product_cnt_per_aisle_y\"], axis=1, inplace=True)\n",
    "aisle_share_per_user"
   ]
  },
  {
   "cell_type": "code",
   "execution_count": 8,
   "metadata": {},
   "outputs": [
    {
     "output_type": "execute_result",
     "data": {
      "text/plain": [
       "aisle    air fresheners candles  asian foods  baby accessories  \\\n",
       "user_id                                                          \n",
       "1                           NaN          NaN               NaN   \n",
       "2                           NaN     0.013274               NaN   \n",
       "3                           NaN          NaN               NaN   \n",
       "4                           NaN          NaN               NaN   \n",
       "5                      0.021739     0.086957               NaN   \n",
       "...                         ...          ...               ...   \n",
       "206205                      NaN          NaN          0.019608   \n",
       "206206                      NaN     0.014035               NaN   \n",
       "206207                      NaN          NaN               NaN   \n",
       "206208                      NaN     0.004431               NaN   \n",
       "206209                      NaN     0.007299               NaN   \n",
       "\n",
       "aisle    baby bath body care  baby food formula  bakery desserts  \\\n",
       "user_id                                                            \n",
       "1                        NaN                NaN              NaN   \n",
       "2                        NaN                NaN              NaN   \n",
       "3                        NaN                NaN              NaN   \n",
       "4                        NaN                NaN              NaN   \n",
       "5                        NaN                NaN              NaN   \n",
       "...                      ...                ...              ...   \n",
       "206205                   NaN                NaN              NaN   \n",
       "206206                   NaN                NaN              NaN   \n",
       "206207                   NaN           0.004484              NaN   \n",
       "206208                   NaN           0.004431              NaN   \n",
       "206209                   NaN                NaN              NaN   \n",
       "\n",
       "aisle    baking ingredients  baking supplies decor  beauty  beers coolers  \\\n",
       "user_id                                                                     \n",
       "1                       NaN                    NaN     NaN            NaN   \n",
       "2                  0.008850                    NaN     NaN            NaN   \n",
       "3                       NaN                    NaN     NaN            NaN   \n",
       "4                       NaN                    NaN     NaN            NaN   \n",
       "5                       NaN                    NaN     NaN            NaN   \n",
       "...                     ...                    ...     ...            ...   \n",
       "206205                  NaN                    NaN     NaN            NaN   \n",
       "206206             0.014035               0.003509     NaN            NaN   \n",
       "206207                  NaN                    NaN     NaN            NaN   \n",
       "206208             0.005908                    NaN     NaN            NaN   \n",
       "206209                  NaN                    NaN     NaN            NaN   \n",
       "\n",
       "aisle    ...   spreads       tea  tofu meat alternatives  \\\n",
       "user_id  ...                                               \n",
       "1        ...  0.014286       NaN                     NaN   \n",
       "2        ...  0.013274  0.004425                0.004425   \n",
       "3        ...  0.045455  0.011364                     NaN   \n",
       "4        ...       NaN       NaN                     NaN   \n",
       "5        ...       NaN       NaN                     NaN   \n",
       "...      ...       ...       ...                     ...   \n",
       "206205   ...       NaN       NaN                     NaN   \n",
       "206206   ...  0.003509       NaN                     NaN   \n",
       "206207   ...  0.013453  0.017937                     NaN   \n",
       "206208   ...  0.007386       NaN                     NaN   \n",
       "206209   ...       NaN       NaN                     NaN   \n",
       "\n",
       "aisle    tortillas flat bread  trail mix snack mix  trash bags liners  \\\n",
       "user_id                                                                 \n",
       "1                         NaN                  NaN                NaN   \n",
       "2                         NaN                  NaN                NaN   \n",
       "3                         NaN                  NaN                NaN   \n",
       "4                    0.055556                  NaN                NaN   \n",
       "5                         NaN                  NaN                NaN   \n",
       "...                       ...                  ...                ...   \n",
       "206205                    NaN                  NaN                NaN   \n",
       "206206                    NaN                  NaN           0.003509   \n",
       "206207               0.008969             0.004484                NaN   \n",
       "206208               0.010340                  NaN                NaN   \n",
       "206209                    NaN                  NaN           0.007299   \n",
       "\n",
       "aisle    vitamins supplements  water seltzer sparkling water  white wines  \\\n",
       "user_id                                                                     \n",
       "1                         NaN                            NaN          NaN   \n",
       "2                         NaN                       0.008850          NaN   \n",
       "3                         NaN                       0.022727          NaN   \n",
       "4                         NaN                       0.055556          NaN   \n",
       "5                         NaN                            NaN          NaN   \n",
       "...                       ...                            ...          ...   \n",
       "206205                    NaN                            NaN          NaN   \n",
       "206206                    NaN                       0.003509          NaN   \n",
       "206207                    NaN                       0.049327          NaN   \n",
       "206208                    NaN                            NaN          NaN   \n",
       "206209                    NaN                            NaN          NaN   \n",
       "\n",
       "aisle      yogurt  \n",
       "user_id            \n",
       "1        0.028571  \n",
       "2        0.185841  \n",
       "3             NaN  \n",
       "4             NaN  \n",
       "5        0.065217  \n",
       "...           ...  \n",
       "206205   0.176471  \n",
       "206206        NaN  \n",
       "206207   0.067265  \n",
       "206208   0.048744  \n",
       "206209   0.021898  \n",
       "\n",
       "[206209 rows x 134 columns]"
      ],
      "text/html": "<div>\n<style scoped>\n    .dataframe tbody tr th:only-of-type {\n        vertical-align: middle;\n    }\n\n    .dataframe tbody tr th {\n        vertical-align: top;\n    }\n\n    .dataframe thead th {\n        text-align: right;\n    }\n</style>\n<table border=\"1\" class=\"dataframe\">\n  <thead>\n    <tr style=\"text-align: right;\">\n      <th>aisle</th>\n      <th>air fresheners candles</th>\n      <th>asian foods</th>\n      <th>baby accessories</th>\n      <th>baby bath body care</th>\n      <th>baby food formula</th>\n      <th>bakery desserts</th>\n      <th>baking ingredients</th>\n      <th>baking supplies decor</th>\n      <th>beauty</th>\n      <th>beers coolers</th>\n      <th>...</th>\n      <th>spreads</th>\n      <th>tea</th>\n      <th>tofu meat alternatives</th>\n      <th>tortillas flat bread</th>\n      <th>trail mix snack mix</th>\n      <th>trash bags liners</th>\n      <th>vitamins supplements</th>\n      <th>water seltzer sparkling water</th>\n      <th>white wines</th>\n      <th>yogurt</th>\n    </tr>\n    <tr>\n      <th>user_id</th>\n      <th></th>\n      <th></th>\n      <th></th>\n      <th></th>\n      <th></th>\n      <th></th>\n      <th></th>\n      <th></th>\n      <th></th>\n      <th></th>\n      <th></th>\n      <th></th>\n      <th></th>\n      <th></th>\n      <th></th>\n      <th></th>\n      <th></th>\n      <th></th>\n      <th></th>\n      <th></th>\n      <th></th>\n    </tr>\n  </thead>\n  <tbody>\n    <tr>\n      <th>1</th>\n      <td>NaN</td>\n      <td>NaN</td>\n      <td>NaN</td>\n      <td>NaN</td>\n      <td>NaN</td>\n      <td>NaN</td>\n      <td>NaN</td>\n      <td>NaN</td>\n      <td>NaN</td>\n      <td>NaN</td>\n      <td>...</td>\n      <td>0.014286</td>\n      <td>NaN</td>\n      <td>NaN</td>\n      <td>NaN</td>\n      <td>NaN</td>\n      <td>NaN</td>\n      <td>NaN</td>\n      <td>NaN</td>\n      <td>NaN</td>\n      <td>0.028571</td>\n    </tr>\n    <tr>\n      <th>2</th>\n      <td>NaN</td>\n      <td>0.013274</td>\n      <td>NaN</td>\n      <td>NaN</td>\n      <td>NaN</td>\n      <td>NaN</td>\n      <td>0.008850</td>\n      <td>NaN</td>\n      <td>NaN</td>\n      <td>NaN</td>\n      <td>...</td>\n      <td>0.013274</td>\n      <td>0.004425</td>\n      <td>0.004425</td>\n      <td>NaN</td>\n      <td>NaN</td>\n      <td>NaN</td>\n      <td>NaN</td>\n      <td>0.008850</td>\n      <td>NaN</td>\n      <td>0.185841</td>\n    </tr>\n    <tr>\n      <th>3</th>\n      <td>NaN</td>\n      <td>NaN</td>\n      <td>NaN</td>\n      <td>NaN</td>\n      <td>NaN</td>\n      <td>NaN</td>\n      <td>NaN</td>\n      <td>NaN</td>\n      <td>NaN</td>\n      <td>NaN</td>\n      <td>...</td>\n      <td>0.045455</td>\n      <td>0.011364</td>\n      <td>NaN</td>\n      <td>NaN</td>\n      <td>NaN</td>\n      <td>NaN</td>\n      <td>NaN</td>\n      <td>0.022727</td>\n      <td>NaN</td>\n      <td>NaN</td>\n    </tr>\n    <tr>\n      <th>4</th>\n      <td>NaN</td>\n      <td>NaN</td>\n      <td>NaN</td>\n      <td>NaN</td>\n      <td>NaN</td>\n      <td>NaN</td>\n      <td>NaN</td>\n      <td>NaN</td>\n      <td>NaN</td>\n      <td>NaN</td>\n      <td>...</td>\n      <td>NaN</td>\n      <td>NaN</td>\n      <td>NaN</td>\n      <td>0.055556</td>\n      <td>NaN</td>\n      <td>NaN</td>\n      <td>NaN</td>\n      <td>0.055556</td>\n      <td>NaN</td>\n      <td>NaN</td>\n    </tr>\n    <tr>\n      <th>5</th>\n      <td>0.021739</td>\n      <td>0.086957</td>\n      <td>NaN</td>\n      <td>NaN</td>\n      <td>NaN</td>\n      <td>NaN</td>\n      <td>NaN</td>\n      <td>NaN</td>\n      <td>NaN</td>\n      <td>NaN</td>\n      <td>...</td>\n      <td>NaN</td>\n      <td>NaN</td>\n      <td>NaN</td>\n      <td>NaN</td>\n      <td>NaN</td>\n      <td>NaN</td>\n      <td>NaN</td>\n      <td>NaN</td>\n      <td>NaN</td>\n      <td>0.065217</td>\n    </tr>\n    <tr>\n      <th>...</th>\n      <td>...</td>\n      <td>...</td>\n      <td>...</td>\n      <td>...</td>\n      <td>...</td>\n      <td>...</td>\n      <td>...</td>\n      <td>...</td>\n      <td>...</td>\n      <td>...</td>\n      <td>...</td>\n      <td>...</td>\n      <td>...</td>\n      <td>...</td>\n      <td>...</td>\n      <td>...</td>\n      <td>...</td>\n      <td>...</td>\n      <td>...</td>\n      <td>...</td>\n      <td>...</td>\n    </tr>\n    <tr>\n      <th>206205</th>\n      <td>NaN</td>\n      <td>NaN</td>\n      <td>0.019608</td>\n      <td>NaN</td>\n      <td>NaN</td>\n      <td>NaN</td>\n      <td>NaN</td>\n      <td>NaN</td>\n      <td>NaN</td>\n      <td>NaN</td>\n      <td>...</td>\n      <td>NaN</td>\n      <td>NaN</td>\n      <td>NaN</td>\n      <td>NaN</td>\n      <td>NaN</td>\n      <td>NaN</td>\n      <td>NaN</td>\n      <td>NaN</td>\n      <td>NaN</td>\n      <td>0.176471</td>\n    </tr>\n    <tr>\n      <th>206206</th>\n      <td>NaN</td>\n      <td>0.014035</td>\n      <td>NaN</td>\n      <td>NaN</td>\n      <td>NaN</td>\n      <td>NaN</td>\n      <td>0.014035</td>\n      <td>0.003509</td>\n      <td>NaN</td>\n      <td>NaN</td>\n      <td>...</td>\n      <td>0.003509</td>\n      <td>NaN</td>\n      <td>NaN</td>\n      <td>NaN</td>\n      <td>NaN</td>\n      <td>0.003509</td>\n      <td>NaN</td>\n      <td>0.003509</td>\n      <td>NaN</td>\n      <td>NaN</td>\n    </tr>\n    <tr>\n      <th>206207</th>\n      <td>NaN</td>\n      <td>NaN</td>\n      <td>NaN</td>\n      <td>NaN</td>\n      <td>0.004484</td>\n      <td>NaN</td>\n      <td>NaN</td>\n      <td>NaN</td>\n      <td>NaN</td>\n      <td>NaN</td>\n      <td>...</td>\n      <td>0.013453</td>\n      <td>0.017937</td>\n      <td>NaN</td>\n      <td>0.008969</td>\n      <td>0.004484</td>\n      <td>NaN</td>\n      <td>NaN</td>\n      <td>0.049327</td>\n      <td>NaN</td>\n      <td>0.067265</td>\n    </tr>\n    <tr>\n      <th>206208</th>\n      <td>NaN</td>\n      <td>0.004431</td>\n      <td>NaN</td>\n      <td>NaN</td>\n      <td>0.004431</td>\n      <td>NaN</td>\n      <td>0.005908</td>\n      <td>NaN</td>\n      <td>NaN</td>\n      <td>NaN</td>\n      <td>...</td>\n      <td>0.007386</td>\n      <td>NaN</td>\n      <td>NaN</td>\n      <td>0.010340</td>\n      <td>NaN</td>\n      <td>NaN</td>\n      <td>NaN</td>\n      <td>NaN</td>\n      <td>NaN</td>\n      <td>0.048744</td>\n    </tr>\n    <tr>\n      <th>206209</th>\n      <td>NaN</td>\n      <td>0.007299</td>\n      <td>NaN</td>\n      <td>NaN</td>\n      <td>NaN</td>\n      <td>NaN</td>\n      <td>NaN</td>\n      <td>NaN</td>\n      <td>NaN</td>\n      <td>NaN</td>\n      <td>...</td>\n      <td>NaN</td>\n      <td>NaN</td>\n      <td>NaN</td>\n      <td>NaN</td>\n      <td>NaN</td>\n      <td>0.007299</td>\n      <td>NaN</td>\n      <td>NaN</td>\n      <td>NaN</td>\n      <td>0.021898</td>\n    </tr>\n  </tbody>\n</table>\n<p>206209 rows × 134 columns</p>\n</div>"
     },
     "metadata": {},
     "execution_count": 8
    }
   ],
   "source": [
    "#Setting aisles as columns by user id using pivot. \n",
    "aisle_share_pivot = aisle_share_per_user.pivot(index=\"user_id\", columns=\"aisle\", values=\"aisle_share\")\n",
    "aisle_share_pivot"
   ]
  },
  {
   "cell_type": "code",
   "execution_count": 9,
   "metadata": {},
   "outputs": [],
   "source": [
    "from sklearn.decomposition import PCA\n",
    "import matplotlib.pyplot as plt\n",
    "import numpy as np"
   ]
  },
  {
   "cell_type": "code",
   "execution_count": 10,
   "metadata": {},
   "outputs": [
    {
     "output_type": "execute_result",
     "data": {
      "text/plain": [
       "aisle    air fresheners candles  asian foods  baby accessories  \\\n",
       "user_id                                                          \n",
       "1                      0.000000     0.000000          0.000000   \n",
       "2                      0.000000     0.013274          0.000000   \n",
       "3                      0.000000     0.000000          0.000000   \n",
       "4                      0.000000     0.000000          0.000000   \n",
       "5                      0.021739     0.086957          0.000000   \n",
       "...                         ...          ...               ...   \n",
       "206205                 0.000000     0.000000          0.019608   \n",
       "206206                 0.000000     0.014035          0.000000   \n",
       "206207                 0.000000     0.000000          0.000000   \n",
       "206208                 0.000000     0.004431          0.000000   \n",
       "206209                 0.000000     0.007299          0.000000   \n",
       "\n",
       "aisle    baby bath body care  baby food formula  bakery desserts  \\\n",
       "user_id                                                            \n",
       "1                        0.0           0.000000              0.0   \n",
       "2                        0.0           0.000000              0.0   \n",
       "3                        0.0           0.000000              0.0   \n",
       "4                        0.0           0.000000              0.0   \n",
       "5                        0.0           0.000000              0.0   \n",
       "...                      ...                ...              ...   \n",
       "206205                   0.0           0.000000              0.0   \n",
       "206206                   0.0           0.000000              0.0   \n",
       "206207                   0.0           0.004484              0.0   \n",
       "206208                   0.0           0.004431              0.0   \n",
       "206209                   0.0           0.000000              0.0   \n",
       "\n",
       "aisle    baking ingredients  baking supplies decor  beauty  beers coolers  \\\n",
       "user_id                                                                     \n",
       "1                  0.000000               0.000000     0.0            0.0   \n",
       "2                  0.008850               0.000000     0.0            0.0   \n",
       "3                  0.000000               0.000000     0.0            0.0   \n",
       "4                  0.000000               0.000000     0.0            0.0   \n",
       "5                  0.000000               0.000000     0.0            0.0   \n",
       "...                     ...                    ...     ...            ...   \n",
       "206205             0.000000               0.000000     0.0            0.0   \n",
       "206206             0.014035               0.003509     0.0            0.0   \n",
       "206207             0.000000               0.000000     0.0            0.0   \n",
       "206208             0.005908               0.000000     0.0            0.0   \n",
       "206209             0.000000               0.000000     0.0            0.0   \n",
       "\n",
       "aisle    ...   spreads       tea  tofu meat alternatives  \\\n",
       "user_id  ...                                               \n",
       "1        ...  0.014286  0.000000                0.000000   \n",
       "2        ...  0.013274  0.004425                0.004425   \n",
       "3        ...  0.045455  0.011364                0.000000   \n",
       "4        ...  0.000000  0.000000                0.000000   \n",
       "5        ...  0.000000  0.000000                0.000000   \n",
       "...      ...       ...       ...                     ...   \n",
       "206205   ...  0.000000  0.000000                0.000000   \n",
       "206206   ...  0.003509  0.000000                0.000000   \n",
       "206207   ...  0.013453  0.017937                0.000000   \n",
       "206208   ...  0.007386  0.000000                0.000000   \n",
       "206209   ...  0.000000  0.000000                0.000000   \n",
       "\n",
       "aisle    tortillas flat bread  trail mix snack mix  trash bags liners  \\\n",
       "user_id                                                                 \n",
       "1                    0.000000             0.000000           0.000000   \n",
       "2                    0.000000             0.000000           0.000000   \n",
       "3                    0.000000             0.000000           0.000000   \n",
       "4                    0.055556             0.000000           0.000000   \n",
       "5                    0.000000             0.000000           0.000000   \n",
       "...                       ...                  ...                ...   \n",
       "206205               0.000000             0.000000           0.000000   \n",
       "206206               0.000000             0.000000           0.003509   \n",
       "206207               0.008969             0.004484           0.000000   \n",
       "206208               0.010340             0.000000           0.000000   \n",
       "206209               0.000000             0.000000           0.007299   \n",
       "\n",
       "aisle    vitamins supplements  water seltzer sparkling water  white wines  \\\n",
       "user_id                                                                     \n",
       "1                         0.0                       0.000000          0.0   \n",
       "2                         0.0                       0.008850          0.0   \n",
       "3                         0.0                       0.022727          0.0   \n",
       "4                         0.0                       0.055556          0.0   \n",
       "5                         0.0                       0.000000          0.0   \n",
       "...                       ...                            ...          ...   \n",
       "206205                    0.0                       0.000000          0.0   \n",
       "206206                    0.0                       0.003509          0.0   \n",
       "206207                    0.0                       0.049327          0.0   \n",
       "206208                    0.0                       0.000000          0.0   \n",
       "206209                    0.0                       0.000000          0.0   \n",
       "\n",
       "aisle      yogurt  \n",
       "user_id            \n",
       "1        0.028571  \n",
       "2        0.185841  \n",
       "3        0.000000  \n",
       "4        0.000000  \n",
       "5        0.065217  \n",
       "...           ...  \n",
       "206205   0.176471  \n",
       "206206   0.000000  \n",
       "206207   0.067265  \n",
       "206208   0.048744  \n",
       "206209   0.021898  \n",
       "\n",
       "[206209 rows x 134 columns]"
      ],
      "text/html": "<div>\n<style scoped>\n    .dataframe tbody tr th:only-of-type {\n        vertical-align: middle;\n    }\n\n    .dataframe tbody tr th {\n        vertical-align: top;\n    }\n\n    .dataframe thead th {\n        text-align: right;\n    }\n</style>\n<table border=\"1\" class=\"dataframe\">\n  <thead>\n    <tr style=\"text-align: right;\">\n      <th>aisle</th>\n      <th>air fresheners candles</th>\n      <th>asian foods</th>\n      <th>baby accessories</th>\n      <th>baby bath body care</th>\n      <th>baby food formula</th>\n      <th>bakery desserts</th>\n      <th>baking ingredients</th>\n      <th>baking supplies decor</th>\n      <th>beauty</th>\n      <th>beers coolers</th>\n      <th>...</th>\n      <th>spreads</th>\n      <th>tea</th>\n      <th>tofu meat alternatives</th>\n      <th>tortillas flat bread</th>\n      <th>trail mix snack mix</th>\n      <th>trash bags liners</th>\n      <th>vitamins supplements</th>\n      <th>water seltzer sparkling water</th>\n      <th>white wines</th>\n      <th>yogurt</th>\n    </tr>\n    <tr>\n      <th>user_id</th>\n      <th></th>\n      <th></th>\n      <th></th>\n      <th></th>\n      <th></th>\n      <th></th>\n      <th></th>\n      <th></th>\n      <th></th>\n      <th></th>\n      <th></th>\n      <th></th>\n      <th></th>\n      <th></th>\n      <th></th>\n      <th></th>\n      <th></th>\n      <th></th>\n      <th></th>\n      <th></th>\n      <th></th>\n    </tr>\n  </thead>\n  <tbody>\n    <tr>\n      <th>1</th>\n      <td>0.000000</td>\n      <td>0.000000</td>\n      <td>0.000000</td>\n      <td>0.0</td>\n      <td>0.000000</td>\n      <td>0.0</td>\n      <td>0.000000</td>\n      <td>0.000000</td>\n      <td>0.0</td>\n      <td>0.0</td>\n      <td>...</td>\n      <td>0.014286</td>\n      <td>0.000000</td>\n      <td>0.000000</td>\n      <td>0.000000</td>\n      <td>0.000000</td>\n      <td>0.000000</td>\n      <td>0.0</td>\n      <td>0.000000</td>\n      <td>0.0</td>\n      <td>0.028571</td>\n    </tr>\n    <tr>\n      <th>2</th>\n      <td>0.000000</td>\n      <td>0.013274</td>\n      <td>0.000000</td>\n      <td>0.0</td>\n      <td>0.000000</td>\n      <td>0.0</td>\n      <td>0.008850</td>\n      <td>0.000000</td>\n      <td>0.0</td>\n      <td>0.0</td>\n      <td>...</td>\n      <td>0.013274</td>\n      <td>0.004425</td>\n      <td>0.004425</td>\n      <td>0.000000</td>\n      <td>0.000000</td>\n      <td>0.000000</td>\n      <td>0.0</td>\n      <td>0.008850</td>\n      <td>0.0</td>\n      <td>0.185841</td>\n    </tr>\n    <tr>\n      <th>3</th>\n      <td>0.000000</td>\n      <td>0.000000</td>\n      <td>0.000000</td>\n      <td>0.0</td>\n      <td>0.000000</td>\n      <td>0.0</td>\n      <td>0.000000</td>\n      <td>0.000000</td>\n      <td>0.0</td>\n      <td>0.0</td>\n      <td>...</td>\n      <td>0.045455</td>\n      <td>0.011364</td>\n      <td>0.000000</td>\n      <td>0.000000</td>\n      <td>0.000000</td>\n      <td>0.000000</td>\n      <td>0.0</td>\n      <td>0.022727</td>\n      <td>0.0</td>\n      <td>0.000000</td>\n    </tr>\n    <tr>\n      <th>4</th>\n      <td>0.000000</td>\n      <td>0.000000</td>\n      <td>0.000000</td>\n      <td>0.0</td>\n      <td>0.000000</td>\n      <td>0.0</td>\n      <td>0.000000</td>\n      <td>0.000000</td>\n      <td>0.0</td>\n      <td>0.0</td>\n      <td>...</td>\n      <td>0.000000</td>\n      <td>0.000000</td>\n      <td>0.000000</td>\n      <td>0.055556</td>\n      <td>0.000000</td>\n      <td>0.000000</td>\n      <td>0.0</td>\n      <td>0.055556</td>\n      <td>0.0</td>\n      <td>0.000000</td>\n    </tr>\n    <tr>\n      <th>5</th>\n      <td>0.021739</td>\n      <td>0.086957</td>\n      <td>0.000000</td>\n      <td>0.0</td>\n      <td>0.000000</td>\n      <td>0.0</td>\n      <td>0.000000</td>\n      <td>0.000000</td>\n      <td>0.0</td>\n      <td>0.0</td>\n      <td>...</td>\n      <td>0.000000</td>\n      <td>0.000000</td>\n      <td>0.000000</td>\n      <td>0.000000</td>\n      <td>0.000000</td>\n      <td>0.000000</td>\n      <td>0.0</td>\n      <td>0.000000</td>\n      <td>0.0</td>\n      <td>0.065217</td>\n    </tr>\n    <tr>\n      <th>...</th>\n      <td>...</td>\n      <td>...</td>\n      <td>...</td>\n      <td>...</td>\n      <td>...</td>\n      <td>...</td>\n      <td>...</td>\n      <td>...</td>\n      <td>...</td>\n      <td>...</td>\n      <td>...</td>\n      <td>...</td>\n      <td>...</td>\n      <td>...</td>\n      <td>...</td>\n      <td>...</td>\n      <td>...</td>\n      <td>...</td>\n      <td>...</td>\n      <td>...</td>\n      <td>...</td>\n    </tr>\n    <tr>\n      <th>206205</th>\n      <td>0.000000</td>\n      <td>0.000000</td>\n      <td>0.019608</td>\n      <td>0.0</td>\n      <td>0.000000</td>\n      <td>0.0</td>\n      <td>0.000000</td>\n      <td>0.000000</td>\n      <td>0.0</td>\n      <td>0.0</td>\n      <td>...</td>\n      <td>0.000000</td>\n      <td>0.000000</td>\n      <td>0.000000</td>\n      <td>0.000000</td>\n      <td>0.000000</td>\n      <td>0.000000</td>\n      <td>0.0</td>\n      <td>0.000000</td>\n      <td>0.0</td>\n      <td>0.176471</td>\n    </tr>\n    <tr>\n      <th>206206</th>\n      <td>0.000000</td>\n      <td>0.014035</td>\n      <td>0.000000</td>\n      <td>0.0</td>\n      <td>0.000000</td>\n      <td>0.0</td>\n      <td>0.014035</td>\n      <td>0.003509</td>\n      <td>0.0</td>\n      <td>0.0</td>\n      <td>...</td>\n      <td>0.003509</td>\n      <td>0.000000</td>\n      <td>0.000000</td>\n      <td>0.000000</td>\n      <td>0.000000</td>\n      <td>0.003509</td>\n      <td>0.0</td>\n      <td>0.003509</td>\n      <td>0.0</td>\n      <td>0.000000</td>\n    </tr>\n    <tr>\n      <th>206207</th>\n      <td>0.000000</td>\n      <td>0.000000</td>\n      <td>0.000000</td>\n      <td>0.0</td>\n      <td>0.004484</td>\n      <td>0.0</td>\n      <td>0.000000</td>\n      <td>0.000000</td>\n      <td>0.0</td>\n      <td>0.0</td>\n      <td>...</td>\n      <td>0.013453</td>\n      <td>0.017937</td>\n      <td>0.000000</td>\n      <td>0.008969</td>\n      <td>0.004484</td>\n      <td>0.000000</td>\n      <td>0.0</td>\n      <td>0.049327</td>\n      <td>0.0</td>\n      <td>0.067265</td>\n    </tr>\n    <tr>\n      <th>206208</th>\n      <td>0.000000</td>\n      <td>0.004431</td>\n      <td>0.000000</td>\n      <td>0.0</td>\n      <td>0.004431</td>\n      <td>0.0</td>\n      <td>0.005908</td>\n      <td>0.000000</td>\n      <td>0.0</td>\n      <td>0.0</td>\n      <td>...</td>\n      <td>0.007386</td>\n      <td>0.000000</td>\n      <td>0.000000</td>\n      <td>0.010340</td>\n      <td>0.000000</td>\n      <td>0.000000</td>\n      <td>0.0</td>\n      <td>0.000000</td>\n      <td>0.0</td>\n      <td>0.048744</td>\n    </tr>\n    <tr>\n      <th>206209</th>\n      <td>0.000000</td>\n      <td>0.007299</td>\n      <td>0.000000</td>\n      <td>0.0</td>\n      <td>0.000000</td>\n      <td>0.0</td>\n      <td>0.000000</td>\n      <td>0.000000</td>\n      <td>0.0</td>\n      <td>0.0</td>\n      <td>...</td>\n      <td>0.000000</td>\n      <td>0.000000</td>\n      <td>0.000000</td>\n      <td>0.000000</td>\n      <td>0.000000</td>\n      <td>0.007299</td>\n      <td>0.0</td>\n      <td>0.000000</td>\n      <td>0.0</td>\n      <td>0.021898</td>\n    </tr>\n  </tbody>\n</table>\n<p>206209 rows × 134 columns</p>\n</div>"
     },
     "metadata": {},
     "execution_count": 10
    }
   ],
   "source": [
    "#filling in nan with 0 \n",
    "aisle_share_pivot.fillna(0)"
   ]
  },
  {
   "cell_type": "code",
   "execution_count": 11,
   "metadata": {},
   "outputs": [],
   "source": [
    "#transforming our using PCA and finding the optimal explained variance with a given threshold of 50\n",
    "pca = PCA()\n",
    "pca.fit_transform(aisle_share_pivot.fillna(0))\n",
    "cumsum = np.cumsum(pca.explained_variance_ratio_)\n",
    "threshold = 0.50\n",
    "d = np.argmax(cumsum >= threshold) + 1"
   ]
  },
  {
   "cell_type": "code",
   "execution_count": 12,
   "metadata": {},
   "outputs": [
    {
     "output_type": "display_data",
     "data": {
      "text/plain": "<Figure size 720x432 with 1 Axes>",
      "image/svg+xml": "<?xml version=\"1.0\" encoding=\"utf-8\" standalone=\"no\"?>\n<!DOCTYPE svg PUBLIC \"-//W3C//DTD SVG 1.1//EN\"\n  \"http://www.w3.org/Graphics/SVG/1.1/DTD/svg11.dtd\">\n<!-- Created with matplotlib (https://matplotlib.org/) -->\n<svg height=\"422.947075pt\" version=\"1.1\" viewBox=\"0 0 686.823625 422.947075\" width=\"686.823625pt\" xmlns=\"http://www.w3.org/2000/svg\" xmlns:xlink=\"http://www.w3.org/1999/xlink\">\n <metadata>\n  <rdf:RDF xmlns:cc=\"http://creativecommons.org/ns#\" xmlns:dc=\"http://purl.org/dc/elements/1.1/\" xmlns:rdf=\"http://www.w3.org/1999/02/22-rdf-syntax-ns#\">\n   <cc:Work>\n    <dc:type rdf:resource=\"http://purl.org/dc/dcmitype/StillImage\"/>\n    <dc:date>2021-04-29T14:58:05.930118</dc:date>\n    <dc:format>image/svg+xml</dc:format>\n    <dc:creator>\n     <cc:Agent>\n      <dc:title>Matplotlib v3.3.4, https://matplotlib.org/</dc:title>\n     </cc:Agent>\n    </dc:creator>\n   </cc:Work>\n  </rdf:RDF>\n </metadata>\n <defs>\n  <style type=\"text/css\">*{stroke-linecap:butt;stroke-linejoin:round;}</style>\n </defs>\n <g id=\"figure_1\">\n  <g id=\"patch_1\">\n   <path d=\"M 0 422.947075 \nL 686.823625 422.947075 \nL 686.823625 0 \nL 0 0 \nz\n\" style=\"fill:#f0f0f0;\"/>\n  </g>\n  <g id=\"axes_1\">\n   <g id=\"patch_2\">\n    <path d=\"M 53.223625 378.43845 \nL 679.623625 378.43845 \nL 679.623625 28.51845 \nL 53.223625 28.51845 \nz\n\" style=\"fill:#f0f0f0;\"/>\n   </g>\n   <g id=\"matplotlib.axis_1\">\n    <g id=\"xtick_1\">\n     <g id=\"line2d_1\">\n      <path clip-path=\"url(#p104794478c)\" d=\"M 81.696352 378.43845 \nL 81.696352 28.51845 \n\" style=\"fill:none;stroke:#cbcbcb;\"/>\n     </g>\n     <g id=\"line2d_2\"/>\n     <g id=\"text_1\">\n      <!-- 0 -->\n      <g transform=\"translate(77.242602 392.576263)scale(0.14 -0.14)\">\n       <defs>\n        <path d=\"M 31.78125 66.40625 \nQ 24.171875 66.40625 20.328125 58.90625 \nQ 16.5 51.421875 16.5 36.375 \nQ 16.5 21.390625 20.328125 13.890625 \nQ 24.171875 6.390625 31.78125 6.390625 \nQ 39.453125 6.390625 43.28125 13.890625 \nQ 47.125 21.390625 47.125 36.375 \nQ 47.125 51.421875 43.28125 58.90625 \nQ 39.453125 66.40625 31.78125 66.40625 \nz\nM 31.78125 74.21875 \nQ 44.046875 74.21875 50.515625 64.515625 \nQ 56.984375 54.828125 56.984375 36.375 \nQ 56.984375 17.96875 50.515625 8.265625 \nQ 44.046875 -1.421875 31.78125 -1.421875 \nQ 19.53125 -1.421875 13.0625 8.265625 \nQ 6.59375 17.96875 6.59375 36.375 \nQ 6.59375 54.828125 13.0625 64.515625 \nQ 19.53125 74.21875 31.78125 74.21875 \nz\n\" id=\"DejaVuSans-48\"/>\n       </defs>\n       <use xlink:href=\"#DejaVuSans-48\"/>\n      </g>\n     </g>\n    </g>\n    <g id=\"xtick_2\">\n     <g id=\"line2d_3\">\n      <path clip-path=\"url(#p104794478c)\" d=\"M 167.328615 378.43845 \nL 167.328615 28.51845 \n\" style=\"fill:none;stroke:#cbcbcb;\"/>\n     </g>\n     <g id=\"line2d_4\"/>\n     <g id=\"text_2\">\n      <!-- 20 -->\n      <g transform=\"translate(158.421115 392.576263)scale(0.14 -0.14)\">\n       <defs>\n        <path d=\"M 19.1875 8.296875 \nL 53.609375 8.296875 \nL 53.609375 0 \nL 7.328125 0 \nL 7.328125 8.296875 \nQ 12.9375 14.109375 22.625 23.890625 \nQ 32.328125 33.6875 34.8125 36.53125 \nQ 39.546875 41.84375 41.421875 45.53125 \nQ 43.3125 49.21875 43.3125 52.78125 \nQ 43.3125 58.59375 39.234375 62.25 \nQ 35.15625 65.921875 28.609375 65.921875 \nQ 23.96875 65.921875 18.8125 64.3125 \nQ 13.671875 62.703125 7.8125 59.421875 \nL 7.8125 69.390625 \nQ 13.765625 71.78125 18.9375 73 \nQ 24.125 74.21875 28.421875 74.21875 \nQ 39.75 74.21875 46.484375 68.546875 \nQ 53.21875 62.890625 53.21875 53.421875 \nQ 53.21875 48.921875 51.53125 44.890625 \nQ 49.859375 40.875 45.40625 35.40625 \nQ 44.1875 33.984375 37.640625 27.21875 \nQ 31.109375 20.453125 19.1875 8.296875 \nz\n\" id=\"DejaVuSans-50\"/>\n       </defs>\n       <use xlink:href=\"#DejaVuSans-50\"/>\n       <use x=\"63.623047\" xlink:href=\"#DejaVuSans-48\"/>\n      </g>\n     </g>\n    </g>\n    <g id=\"xtick_3\">\n     <g id=\"line2d_5\">\n      <path clip-path=\"url(#p104794478c)\" d=\"M 252.960877 378.43845 \nL 252.960877 28.51845 \n\" style=\"fill:none;stroke:#cbcbcb;\"/>\n     </g>\n     <g id=\"line2d_6\"/>\n     <g id=\"text_3\">\n      <!-- 40 -->\n      <g transform=\"translate(244.053377 392.576263)scale(0.14 -0.14)\">\n       <defs>\n        <path d=\"M 37.796875 64.3125 \nL 12.890625 25.390625 \nL 37.796875 25.390625 \nz\nM 35.203125 72.90625 \nL 47.609375 72.90625 \nL 47.609375 25.390625 \nL 58.015625 25.390625 \nL 58.015625 17.1875 \nL 47.609375 17.1875 \nL 47.609375 0 \nL 37.796875 0 \nL 37.796875 17.1875 \nL 4.890625 17.1875 \nL 4.890625 26.703125 \nz\n\" id=\"DejaVuSans-52\"/>\n       </defs>\n       <use xlink:href=\"#DejaVuSans-52\"/>\n       <use x=\"63.623047\" xlink:href=\"#DejaVuSans-48\"/>\n      </g>\n     </g>\n    </g>\n    <g id=\"xtick_4\">\n     <g id=\"line2d_7\">\n      <path clip-path=\"url(#p104794478c)\" d=\"M 338.59314 378.43845 \nL 338.59314 28.51845 \n\" style=\"fill:none;stroke:#cbcbcb;\"/>\n     </g>\n     <g id=\"line2d_8\"/>\n     <g id=\"text_4\">\n      <!-- 60 -->\n      <g transform=\"translate(329.68564 392.576263)scale(0.14 -0.14)\">\n       <defs>\n        <path d=\"M 33.015625 40.375 \nQ 26.375 40.375 22.484375 35.828125 \nQ 18.609375 31.296875 18.609375 23.390625 \nQ 18.609375 15.53125 22.484375 10.953125 \nQ 26.375 6.390625 33.015625 6.390625 \nQ 39.65625 6.390625 43.53125 10.953125 \nQ 47.40625 15.53125 47.40625 23.390625 \nQ 47.40625 31.296875 43.53125 35.828125 \nQ 39.65625 40.375 33.015625 40.375 \nz\nM 52.59375 71.296875 \nL 52.59375 62.3125 \nQ 48.875 64.0625 45.09375 64.984375 \nQ 41.3125 65.921875 37.59375 65.921875 \nQ 27.828125 65.921875 22.671875 59.328125 \nQ 17.53125 52.734375 16.796875 39.40625 \nQ 19.671875 43.65625 24.015625 45.921875 \nQ 28.375 48.1875 33.59375 48.1875 \nQ 44.578125 48.1875 50.953125 41.515625 \nQ 57.328125 34.859375 57.328125 23.390625 \nQ 57.328125 12.15625 50.6875 5.359375 \nQ 44.046875 -1.421875 33.015625 -1.421875 \nQ 20.359375 -1.421875 13.671875 8.265625 \nQ 6.984375 17.96875 6.984375 36.375 \nQ 6.984375 53.65625 15.1875 63.9375 \nQ 23.390625 74.21875 37.203125 74.21875 \nQ 40.921875 74.21875 44.703125 73.484375 \nQ 48.484375 72.75 52.59375 71.296875 \nz\n\" id=\"DejaVuSans-54\"/>\n       </defs>\n       <use xlink:href=\"#DejaVuSans-54\"/>\n       <use x=\"63.623047\" xlink:href=\"#DejaVuSans-48\"/>\n      </g>\n     </g>\n    </g>\n    <g id=\"xtick_5\">\n     <g id=\"line2d_9\">\n      <path clip-path=\"url(#p104794478c)\" d=\"M 424.225402 378.43845 \nL 424.225402 28.51845 \n\" style=\"fill:none;stroke:#cbcbcb;\"/>\n     </g>\n     <g id=\"line2d_10\"/>\n     <g id=\"text_5\">\n      <!-- 80 -->\n      <g transform=\"translate(415.317902 392.576263)scale(0.14 -0.14)\">\n       <defs>\n        <path d=\"M 31.78125 34.625 \nQ 24.75 34.625 20.71875 30.859375 \nQ 16.703125 27.09375 16.703125 20.515625 \nQ 16.703125 13.921875 20.71875 10.15625 \nQ 24.75 6.390625 31.78125 6.390625 \nQ 38.8125 6.390625 42.859375 10.171875 \nQ 46.921875 13.96875 46.921875 20.515625 \nQ 46.921875 27.09375 42.890625 30.859375 \nQ 38.875 34.625 31.78125 34.625 \nz\nM 21.921875 38.8125 \nQ 15.578125 40.375 12.03125 44.71875 \nQ 8.5 49.078125 8.5 55.328125 \nQ 8.5 64.0625 14.71875 69.140625 \nQ 20.953125 74.21875 31.78125 74.21875 \nQ 42.671875 74.21875 48.875 69.140625 \nQ 55.078125 64.0625 55.078125 55.328125 \nQ 55.078125 49.078125 51.53125 44.71875 \nQ 48 40.375 41.703125 38.8125 \nQ 48.828125 37.15625 52.796875 32.3125 \nQ 56.78125 27.484375 56.78125 20.515625 \nQ 56.78125 9.90625 50.3125 4.234375 \nQ 43.84375 -1.421875 31.78125 -1.421875 \nQ 19.734375 -1.421875 13.25 4.234375 \nQ 6.78125 9.90625 6.78125 20.515625 \nQ 6.78125 27.484375 10.78125 32.3125 \nQ 14.796875 37.15625 21.921875 38.8125 \nz\nM 18.3125 54.390625 \nQ 18.3125 48.734375 21.84375 45.5625 \nQ 25.390625 42.390625 31.78125 42.390625 \nQ 38.140625 42.390625 41.71875 45.5625 \nQ 45.3125 48.734375 45.3125 54.390625 \nQ 45.3125 60.0625 41.71875 63.234375 \nQ 38.140625 66.40625 31.78125 66.40625 \nQ 25.390625 66.40625 21.84375 63.234375 \nQ 18.3125 60.0625 18.3125 54.390625 \nz\n\" id=\"DejaVuSans-56\"/>\n       </defs>\n       <use xlink:href=\"#DejaVuSans-56\"/>\n       <use x=\"63.623047\" xlink:href=\"#DejaVuSans-48\"/>\n      </g>\n     </g>\n    </g>\n    <g id=\"xtick_6\">\n     <g id=\"line2d_11\">\n      <path clip-path=\"url(#p104794478c)\" d=\"M 509.857665 378.43845 \nL 509.857665 28.51845 \n\" style=\"fill:none;stroke:#cbcbcb;\"/>\n     </g>\n     <g id=\"line2d_12\"/>\n     <g id=\"text_6\">\n      <!-- 100 -->\n      <g transform=\"translate(496.496415 392.576263)scale(0.14 -0.14)\">\n       <defs>\n        <path d=\"M 12.40625 8.296875 \nL 28.515625 8.296875 \nL 28.515625 63.921875 \nL 10.984375 60.40625 \nL 10.984375 69.390625 \nL 28.421875 72.90625 \nL 38.28125 72.90625 \nL 38.28125 8.296875 \nL 54.390625 8.296875 \nL 54.390625 0 \nL 12.40625 0 \nz\n\" id=\"DejaVuSans-49\"/>\n       </defs>\n       <use xlink:href=\"#DejaVuSans-49\"/>\n       <use x=\"63.623047\" xlink:href=\"#DejaVuSans-48\"/>\n       <use x=\"127.246094\" xlink:href=\"#DejaVuSans-48\"/>\n      </g>\n     </g>\n    </g>\n    <g id=\"xtick_7\">\n     <g id=\"line2d_13\">\n      <path clip-path=\"url(#p104794478c)\" d=\"M 595.489927 378.43845 \nL 595.489927 28.51845 \n\" style=\"fill:none;stroke:#cbcbcb;\"/>\n     </g>\n     <g id=\"line2d_14\"/>\n     <g id=\"text_7\">\n      <!-- 120 -->\n      <g transform=\"translate(582.128677 392.576263)scale(0.14 -0.14)\">\n       <use xlink:href=\"#DejaVuSans-49\"/>\n       <use x=\"63.623047\" xlink:href=\"#DejaVuSans-50\"/>\n       <use x=\"127.246094\" xlink:href=\"#DejaVuSans-48\"/>\n      </g>\n     </g>\n    </g>\n    <g id=\"text_8\">\n     <!-- Dimensions -->\n     <g transform=\"translate(317.399125 412.2532)scale(0.168 -0.168)\">\n      <defs>\n       <path d=\"M 19.671875 64.796875 \nL 19.671875 8.109375 \nL 31.59375 8.109375 \nQ 46.6875 8.109375 53.6875 14.9375 \nQ 60.6875 21.78125 60.6875 36.53125 \nQ 60.6875 51.171875 53.6875 57.984375 \nQ 46.6875 64.796875 31.59375 64.796875 \nz\nM 9.8125 72.90625 \nL 30.078125 72.90625 \nQ 51.265625 72.90625 61.171875 64.09375 \nQ 71.09375 55.28125 71.09375 36.53125 \nQ 71.09375 17.671875 61.125 8.828125 \nQ 51.171875 0 30.078125 0 \nL 9.8125 0 \nz\n\" id=\"DejaVuSans-68\"/>\n       <path d=\"M 9.421875 54.6875 \nL 18.40625 54.6875 \nL 18.40625 0 \nL 9.421875 0 \nz\nM 9.421875 75.984375 \nL 18.40625 75.984375 \nL 18.40625 64.59375 \nL 9.421875 64.59375 \nz\n\" id=\"DejaVuSans-105\"/>\n       <path d=\"M 52 44.1875 \nQ 55.375 50.25 60.0625 53.125 \nQ 64.75 56 71.09375 56 \nQ 79.640625 56 84.28125 50.015625 \nQ 88.921875 44.046875 88.921875 33.015625 \nL 88.921875 0 \nL 79.890625 0 \nL 79.890625 32.71875 \nQ 79.890625 40.578125 77.09375 44.375 \nQ 74.3125 48.1875 68.609375 48.1875 \nQ 61.625 48.1875 57.5625 43.546875 \nQ 53.515625 38.921875 53.515625 30.90625 \nL 53.515625 0 \nL 44.484375 0 \nL 44.484375 32.71875 \nQ 44.484375 40.625 41.703125 44.40625 \nQ 38.921875 48.1875 33.109375 48.1875 \nQ 26.21875 48.1875 22.15625 43.53125 \nQ 18.109375 38.875 18.109375 30.90625 \nL 18.109375 0 \nL 9.078125 0 \nL 9.078125 54.6875 \nL 18.109375 54.6875 \nL 18.109375 46.1875 \nQ 21.1875 51.21875 25.484375 53.609375 \nQ 29.78125 56 35.6875 56 \nQ 41.65625 56 45.828125 52.96875 \nQ 50 49.953125 52 44.1875 \nz\n\" id=\"DejaVuSans-109\"/>\n       <path d=\"M 56.203125 29.59375 \nL 56.203125 25.203125 \nL 14.890625 25.203125 \nQ 15.484375 15.921875 20.484375 11.0625 \nQ 25.484375 6.203125 34.421875 6.203125 \nQ 39.59375 6.203125 44.453125 7.46875 \nQ 49.3125 8.734375 54.109375 11.28125 \nL 54.109375 2.78125 \nQ 49.265625 0.734375 44.1875 -0.34375 \nQ 39.109375 -1.421875 33.890625 -1.421875 \nQ 20.796875 -1.421875 13.15625 6.1875 \nQ 5.515625 13.8125 5.515625 26.8125 \nQ 5.515625 40.234375 12.765625 48.109375 \nQ 20.015625 56 32.328125 56 \nQ 43.359375 56 49.78125 48.890625 \nQ 56.203125 41.796875 56.203125 29.59375 \nz\nM 47.21875 32.234375 \nQ 47.125 39.59375 43.09375 43.984375 \nQ 39.0625 48.390625 32.421875 48.390625 \nQ 24.90625 48.390625 20.390625 44.140625 \nQ 15.875 39.890625 15.1875 32.171875 \nz\n\" id=\"DejaVuSans-101\"/>\n       <path d=\"M 54.890625 33.015625 \nL 54.890625 0 \nL 45.90625 0 \nL 45.90625 32.71875 \nQ 45.90625 40.484375 42.875 44.328125 \nQ 39.84375 48.1875 33.796875 48.1875 \nQ 26.515625 48.1875 22.3125 43.546875 \nQ 18.109375 38.921875 18.109375 30.90625 \nL 18.109375 0 \nL 9.078125 0 \nL 9.078125 54.6875 \nL 18.109375 54.6875 \nL 18.109375 46.1875 \nQ 21.34375 51.125 25.703125 53.5625 \nQ 30.078125 56 35.796875 56 \nQ 45.21875 56 50.046875 50.171875 \nQ 54.890625 44.34375 54.890625 33.015625 \nz\n\" id=\"DejaVuSans-110\"/>\n       <path d=\"M 44.28125 53.078125 \nL 44.28125 44.578125 \nQ 40.484375 46.53125 36.375 47.5 \nQ 32.28125 48.484375 27.875 48.484375 \nQ 21.1875 48.484375 17.84375 46.4375 \nQ 14.5 44.390625 14.5 40.28125 \nQ 14.5 37.15625 16.890625 35.375 \nQ 19.28125 33.59375 26.515625 31.984375 \nL 29.59375 31.296875 \nQ 39.15625 29.25 43.1875 25.515625 \nQ 47.21875 21.78125 47.21875 15.09375 \nQ 47.21875 7.46875 41.1875 3.015625 \nQ 35.15625 -1.421875 24.609375 -1.421875 \nQ 20.21875 -1.421875 15.453125 -0.5625 \nQ 10.6875 0.296875 5.421875 2 \nL 5.421875 11.28125 \nQ 10.40625 8.6875 15.234375 7.390625 \nQ 20.0625 6.109375 24.8125 6.109375 \nQ 31.15625 6.109375 34.5625 8.28125 \nQ 37.984375 10.453125 37.984375 14.40625 \nQ 37.984375 18.0625 35.515625 20.015625 \nQ 33.0625 21.96875 24.703125 23.78125 \nL 21.578125 24.515625 \nQ 13.234375 26.265625 9.515625 29.90625 \nQ 5.8125 33.546875 5.8125 39.890625 \nQ 5.8125 47.609375 11.28125 51.796875 \nQ 16.75 56 26.8125 56 \nQ 31.78125 56 36.171875 55.265625 \nQ 40.578125 54.546875 44.28125 53.078125 \nz\n\" id=\"DejaVuSans-115\"/>\n       <path d=\"M 30.609375 48.390625 \nQ 23.390625 48.390625 19.1875 42.75 \nQ 14.984375 37.109375 14.984375 27.296875 \nQ 14.984375 17.484375 19.15625 11.84375 \nQ 23.34375 6.203125 30.609375 6.203125 \nQ 37.796875 6.203125 41.984375 11.859375 \nQ 46.1875 17.53125 46.1875 27.296875 \nQ 46.1875 37.015625 41.984375 42.703125 \nQ 37.796875 48.390625 30.609375 48.390625 \nz\nM 30.609375 56 \nQ 42.328125 56 49.015625 48.375 \nQ 55.71875 40.765625 55.71875 27.296875 \nQ 55.71875 13.875 49.015625 6.21875 \nQ 42.328125 -1.421875 30.609375 -1.421875 \nQ 18.84375 -1.421875 12.171875 6.21875 \nQ 5.515625 13.875 5.515625 27.296875 \nQ 5.515625 40.765625 12.171875 48.375 \nQ 18.84375 56 30.609375 56 \nz\n\" id=\"DejaVuSans-111\"/>\n      </defs>\n      <use xlink:href=\"#DejaVuSans-68\"/>\n      <use x=\"77.001953\" xlink:href=\"#DejaVuSans-105\"/>\n      <use x=\"104.785156\" xlink:href=\"#DejaVuSans-109\"/>\n      <use x=\"202.197266\" xlink:href=\"#DejaVuSans-101\"/>\n      <use x=\"263.720703\" xlink:href=\"#DejaVuSans-110\"/>\n      <use x=\"327.099609\" xlink:href=\"#DejaVuSans-115\"/>\n      <use x=\"379.199219\" xlink:href=\"#DejaVuSans-105\"/>\n      <use x=\"406.982422\" xlink:href=\"#DejaVuSans-111\"/>\n      <use x=\"468.164062\" xlink:href=\"#DejaVuSans-110\"/>\n      <use x=\"531.542969\" xlink:href=\"#DejaVuSans-115\"/>\n     </g>\n    </g>\n   </g>\n   <g id=\"matplotlib.axis_2\">\n    <g id=\"ytick_1\">\n     <g id=\"line2d_15\">\n      <path clip-path=\"url(#p104794478c)\" d=\"M 53.223625 362.532995 \nL 679.623625 362.532995 \n\" style=\"fill:none;stroke:#cbcbcb;\"/>\n     </g>\n     <g id=\"line2d_16\"/>\n     <g id=\"text_9\">\n      <!-- 0.0 -->\n      <g transform=\"translate(27.45925 367.851902)scale(0.14 -0.14)\">\n       <defs>\n        <path d=\"M 10.6875 12.40625 \nL 21 12.40625 \nL 21 0 \nL 10.6875 0 \nz\n\" id=\"DejaVuSans-46\"/>\n       </defs>\n       <use xlink:href=\"#DejaVuSans-48\"/>\n       <use x=\"63.623047\" xlink:href=\"#DejaVuSans-46\"/>\n       <use x=\"95.410156\" xlink:href=\"#DejaVuSans-48\"/>\n      </g>\n     </g>\n    </g>\n    <g id=\"ytick_2\">\n     <g id=\"line2d_17\">\n      <path clip-path=\"url(#p104794478c)\" d=\"M 53.223625 298.911177 \nL 679.623625 298.911177 \n\" style=\"fill:none;stroke:#cbcbcb;\"/>\n     </g>\n     <g id=\"line2d_18\"/>\n     <g id=\"text_10\">\n      <!-- 0.2 -->\n      <g transform=\"translate(27.45925 304.230084)scale(0.14 -0.14)\">\n       <use xlink:href=\"#DejaVuSans-48\"/>\n       <use x=\"63.623047\" xlink:href=\"#DejaVuSans-46\"/>\n       <use x=\"95.410156\" xlink:href=\"#DejaVuSans-50\"/>\n      </g>\n     </g>\n    </g>\n    <g id=\"ytick_3\">\n     <g id=\"line2d_19\">\n      <path clip-path=\"url(#p104794478c)\" d=\"M 53.223625 235.289359 \nL 679.623625 235.289359 \n\" style=\"fill:none;stroke:#cbcbcb;\"/>\n     </g>\n     <g id=\"line2d_20\"/>\n     <g id=\"text_11\">\n      <!-- 0.4 -->\n      <g transform=\"translate(27.45925 240.608265)scale(0.14 -0.14)\">\n       <use xlink:href=\"#DejaVuSans-48\"/>\n       <use x=\"63.623047\" xlink:href=\"#DejaVuSans-46\"/>\n       <use x=\"95.410156\" xlink:href=\"#DejaVuSans-52\"/>\n      </g>\n     </g>\n    </g>\n    <g id=\"ytick_4\">\n     <g id=\"line2d_21\">\n      <path clip-path=\"url(#p104794478c)\" d=\"M 53.223625 171.667541 \nL 679.623625 171.667541 \n\" style=\"fill:none;stroke:#cbcbcb;\"/>\n     </g>\n     <g id=\"line2d_22\"/>\n     <g id=\"text_12\">\n      <!-- 0.6 -->\n      <g transform=\"translate(27.45925 176.986447)scale(0.14 -0.14)\">\n       <use xlink:href=\"#DejaVuSans-48\"/>\n       <use x=\"63.623047\" xlink:href=\"#DejaVuSans-46\"/>\n       <use x=\"95.410156\" xlink:href=\"#DejaVuSans-54\"/>\n      </g>\n     </g>\n    </g>\n    <g id=\"ytick_5\">\n     <g id=\"line2d_23\">\n      <path clip-path=\"url(#p104794478c)\" d=\"M 53.223625 108.045723 \nL 679.623625 108.045723 \n\" style=\"fill:none;stroke:#cbcbcb;\"/>\n     </g>\n     <g id=\"line2d_24\"/>\n     <g id=\"text_13\">\n      <!-- 0.8 -->\n      <g transform=\"translate(27.45925 113.364629)scale(0.14 -0.14)\">\n       <use xlink:href=\"#DejaVuSans-48\"/>\n       <use x=\"63.623047\" xlink:href=\"#DejaVuSans-46\"/>\n       <use x=\"95.410156\" xlink:href=\"#DejaVuSans-56\"/>\n      </g>\n     </g>\n    </g>\n    <g id=\"ytick_6\">\n     <g id=\"line2d_25\">\n      <path clip-path=\"url(#p104794478c)\" d=\"M 53.223625 44.423905 \nL 679.623625 44.423905 \n\" style=\"fill:none;stroke:#cbcbcb;\"/>\n     </g>\n     <g id=\"line2d_26\"/>\n     <g id=\"text_14\">\n      <!-- 1.0 -->\n      <g transform=\"translate(27.45925 49.742811)scale(0.14 -0.14)\">\n       <use xlink:href=\"#DejaVuSans-49\"/>\n       <use x=\"63.623047\" xlink:href=\"#DejaVuSans-46\"/>\n       <use x=\"95.410156\" xlink:href=\"#DejaVuSans-48\"/>\n      </g>\n     </g>\n    </g>\n    <g id=\"text_15\">\n     <!-- Explained Variance -->\n     <g transform=\"translate(19.965375 283.68795)rotate(-90)scale(0.168 -0.168)\">\n      <defs>\n       <path d=\"M 9.8125 72.90625 \nL 55.90625 72.90625 \nL 55.90625 64.59375 \nL 19.671875 64.59375 \nL 19.671875 43.015625 \nL 54.390625 43.015625 \nL 54.390625 34.71875 \nL 19.671875 34.71875 \nL 19.671875 8.296875 \nL 56.78125 8.296875 \nL 56.78125 0 \nL 9.8125 0 \nz\n\" id=\"DejaVuSans-69\"/>\n       <path d=\"M 54.890625 54.6875 \nL 35.109375 28.078125 \nL 55.90625 0 \nL 45.3125 0 \nL 29.390625 21.484375 \nL 13.484375 0 \nL 2.875 0 \nL 24.125 28.609375 \nL 4.6875 54.6875 \nL 15.28125 54.6875 \nL 29.78125 35.203125 \nL 44.28125 54.6875 \nz\n\" id=\"DejaVuSans-120\"/>\n       <path d=\"M 18.109375 8.203125 \nL 18.109375 -20.796875 \nL 9.078125 -20.796875 \nL 9.078125 54.6875 \nL 18.109375 54.6875 \nL 18.109375 46.390625 \nQ 20.953125 51.265625 25.265625 53.625 \nQ 29.59375 56 35.59375 56 \nQ 45.5625 56 51.78125 48.09375 \nQ 58.015625 40.1875 58.015625 27.296875 \nQ 58.015625 14.40625 51.78125 6.484375 \nQ 45.5625 -1.421875 35.59375 -1.421875 \nQ 29.59375 -1.421875 25.265625 0.953125 \nQ 20.953125 3.328125 18.109375 8.203125 \nz\nM 48.6875 27.296875 \nQ 48.6875 37.203125 44.609375 42.84375 \nQ 40.53125 48.484375 33.40625 48.484375 \nQ 26.265625 48.484375 22.1875 42.84375 \nQ 18.109375 37.203125 18.109375 27.296875 \nQ 18.109375 17.390625 22.1875 11.75 \nQ 26.265625 6.109375 33.40625 6.109375 \nQ 40.53125 6.109375 44.609375 11.75 \nQ 48.6875 17.390625 48.6875 27.296875 \nz\n\" id=\"DejaVuSans-112\"/>\n       <path d=\"M 9.421875 75.984375 \nL 18.40625 75.984375 \nL 18.40625 0 \nL 9.421875 0 \nz\n\" id=\"DejaVuSans-108\"/>\n       <path d=\"M 34.28125 27.484375 \nQ 23.390625 27.484375 19.1875 25 \nQ 14.984375 22.515625 14.984375 16.5 \nQ 14.984375 11.71875 18.140625 8.90625 \nQ 21.296875 6.109375 26.703125 6.109375 \nQ 34.1875 6.109375 38.703125 11.40625 \nQ 43.21875 16.703125 43.21875 25.484375 \nL 43.21875 27.484375 \nz\nM 52.203125 31.203125 \nL 52.203125 0 \nL 43.21875 0 \nL 43.21875 8.296875 \nQ 40.140625 3.328125 35.546875 0.953125 \nQ 30.953125 -1.421875 24.3125 -1.421875 \nQ 15.921875 -1.421875 10.953125 3.296875 \nQ 6 8.015625 6 15.921875 \nQ 6 25.140625 12.171875 29.828125 \nQ 18.359375 34.515625 30.609375 34.515625 \nL 43.21875 34.515625 \nL 43.21875 35.40625 \nQ 43.21875 41.609375 39.140625 45 \nQ 35.0625 48.390625 27.6875 48.390625 \nQ 23 48.390625 18.546875 47.265625 \nQ 14.109375 46.140625 10.015625 43.890625 \nL 10.015625 52.203125 \nQ 14.9375 54.109375 19.578125 55.046875 \nQ 24.21875 56 28.609375 56 \nQ 40.484375 56 46.34375 49.84375 \nQ 52.203125 43.703125 52.203125 31.203125 \nz\n\" id=\"DejaVuSans-97\"/>\n       <path d=\"M 45.40625 46.390625 \nL 45.40625 75.984375 \nL 54.390625 75.984375 \nL 54.390625 0 \nL 45.40625 0 \nL 45.40625 8.203125 \nQ 42.578125 3.328125 38.25 0.953125 \nQ 33.9375 -1.421875 27.875 -1.421875 \nQ 17.96875 -1.421875 11.734375 6.484375 \nQ 5.515625 14.40625 5.515625 27.296875 \nQ 5.515625 40.1875 11.734375 48.09375 \nQ 17.96875 56 27.875 56 \nQ 33.9375 56 38.25 53.625 \nQ 42.578125 51.265625 45.40625 46.390625 \nz\nM 14.796875 27.296875 \nQ 14.796875 17.390625 18.875 11.75 \nQ 22.953125 6.109375 30.078125 6.109375 \nQ 37.203125 6.109375 41.296875 11.75 \nQ 45.40625 17.390625 45.40625 27.296875 \nQ 45.40625 37.203125 41.296875 42.84375 \nQ 37.203125 48.484375 30.078125 48.484375 \nQ 22.953125 48.484375 18.875 42.84375 \nQ 14.796875 37.203125 14.796875 27.296875 \nz\n\" id=\"DejaVuSans-100\"/>\n       <path id=\"DejaVuSans-32\"/>\n       <path d=\"M 28.609375 0 \nL 0.78125 72.90625 \nL 11.078125 72.90625 \nL 34.1875 11.53125 \nL 57.328125 72.90625 \nL 67.578125 72.90625 \nL 39.796875 0 \nz\n\" id=\"DejaVuSans-86\"/>\n       <path d=\"M 41.109375 46.296875 \nQ 39.59375 47.171875 37.8125 47.578125 \nQ 36.03125 48 33.890625 48 \nQ 26.265625 48 22.1875 43.046875 \nQ 18.109375 38.09375 18.109375 28.8125 \nL 18.109375 0 \nL 9.078125 0 \nL 9.078125 54.6875 \nL 18.109375 54.6875 \nL 18.109375 46.1875 \nQ 20.953125 51.171875 25.484375 53.578125 \nQ 30.03125 56 36.53125 56 \nQ 37.453125 56 38.578125 55.875 \nQ 39.703125 55.765625 41.0625 55.515625 \nz\n\" id=\"DejaVuSans-114\"/>\n       <path d=\"M 48.78125 52.59375 \nL 48.78125 44.1875 \nQ 44.96875 46.296875 41.140625 47.34375 \nQ 37.3125 48.390625 33.40625 48.390625 \nQ 24.65625 48.390625 19.8125 42.84375 \nQ 14.984375 37.3125 14.984375 27.296875 \nQ 14.984375 17.28125 19.8125 11.734375 \nQ 24.65625 6.203125 33.40625 6.203125 \nQ 37.3125 6.203125 41.140625 7.25 \nQ 44.96875 8.296875 48.78125 10.40625 \nL 48.78125 2.09375 \nQ 45.015625 0.34375 40.984375 -0.53125 \nQ 36.96875 -1.421875 32.421875 -1.421875 \nQ 20.0625 -1.421875 12.78125 6.34375 \nQ 5.515625 14.109375 5.515625 27.296875 \nQ 5.515625 40.671875 12.859375 48.328125 \nQ 20.21875 56 33.015625 56 \nQ 37.15625 56 41.109375 55.140625 \nQ 45.0625 54.296875 48.78125 52.59375 \nz\n\" id=\"DejaVuSans-99\"/>\n      </defs>\n      <use xlink:href=\"#DejaVuSans-69\"/>\n      <use x=\"63.183594\" xlink:href=\"#DejaVuSans-120\"/>\n      <use x=\"122.363281\" xlink:href=\"#DejaVuSans-112\"/>\n      <use x=\"185.839844\" xlink:href=\"#DejaVuSans-108\"/>\n      <use x=\"213.623047\" xlink:href=\"#DejaVuSans-97\"/>\n      <use x=\"274.902344\" xlink:href=\"#DejaVuSans-105\"/>\n      <use x=\"302.685547\" xlink:href=\"#DejaVuSans-110\"/>\n      <use x=\"366.064453\" xlink:href=\"#DejaVuSans-101\"/>\n      <use x=\"427.587891\" xlink:href=\"#DejaVuSans-100\"/>\n      <use x=\"491.064453\" xlink:href=\"#DejaVuSans-32\"/>\n      <use x=\"522.851562\" xlink:href=\"#DejaVuSans-86\"/>\n      <use x=\"583.509766\" xlink:href=\"#DejaVuSans-97\"/>\n      <use x=\"644.789062\" xlink:href=\"#DejaVuSans-114\"/>\n      <use x=\"685.902344\" xlink:href=\"#DejaVuSans-105\"/>\n      <use x=\"713.685547\" xlink:href=\"#DejaVuSans-97\"/>\n      <use x=\"774.964844\" xlink:href=\"#DejaVuSans-110\"/>\n      <use x=\"838.34375\" xlink:href=\"#DejaVuSans-99\"/>\n      <use x=\"893.324219\" xlink:href=\"#DejaVuSans-101\"/>\n     </g>\n    </g>\n   </g>\n   <g id=\"line2d_27\">\n    <path clip-path=\"url(#p104794478c)\" d=\"M 81.696352 315.85803 \nL 85.977965 283.919276 \nL 90.259579 261.212023 \nL 94.541192 244.371296 \nL 98.822805 231.373573 \nL 103.104418 220.839218 \nL 107.386031 211.293577 \nL 111.667644 202.458587 \nL 120.23087 189.34395 \nL 124.512484 183.258963 \nL 133.07571 171.643949 \nL 137.357323 166.638047 \nL 145.920549 157.250894 \nL 154.483775 149.261589 \nL 158.765388 145.597215 \nL 167.328615 138.73735 \nL 175.891841 132.319956 \nL 184.455067 126.252114 \nL 193.018293 120.568669 \nL 201.58152 115.431771 \nL 210.144746 110.645991 \nL 218.707972 106.207818 \nL 231.552812 100.182052 \nL 244.397651 94.730419 \nL 252.960877 91.360556 \nL 261.524103 88.331629 \nL 274.368943 84.036156 \nL 282.932169 81.549206 \nL 295.777008 78.058854 \nL 308.621848 74.810416 \nL 321.466687 71.84514 \nL 330.029913 70.017256 \nL 342.874753 67.529439 \nL 355.719592 65.254879 \nL 372.846045 62.447818 \nL 385.690884 60.519336 \nL 394.25411 59.351716 \nL 419.943789 56.232349 \nL 441.351855 53.912758 \nL 458.478307 52.288173 \nL 479.886373 50.569463 \nL 497.012825 49.402582 \nL 522.702504 47.861293 \nL 539.828957 47.030311 \nL 574.081862 45.702657 \nL 604.053153 44.936469 \nL 629.742832 44.544783 \nL 651.150898 44.423905 \nL 651.150898 44.423905 \n\" style=\"fill:none;stroke:#008fd5;stroke-width:3;\"/>\n   </g>\n   <g id=\"line2d_28\">\n    <path clip-path=\"url(#p104794478c)\" d=\"M 115.949257 362.532995 \nL 115.949257 203.47845 \n\" style=\"fill:none;stroke:#000000;stroke-dasharray:2,3.3;stroke-dashoffset:0;stroke-width:2;\"/>\n   </g>\n   <g id=\"line2d_29\">\n    <path clip-path=\"url(#p104794478c)\" d=\"M 81.696352 203.47845 \nL 115.949257 203.47845 \n\" style=\"fill:none;stroke:#000000;stroke-dasharray:2,3.3;stroke-dashoffset:0;stroke-width:2;\"/>\n   </g>\n   <g id=\"line2d_30\">\n    <defs>\n     <path d=\"M 0 3 \nC 0.795609 3 1.55874 2.683901 2.12132 2.12132 \nC 2.683901 1.55874 3 0.795609 3 0 \nC 3 -0.795609 2.683901 -1.55874 2.12132 -2.12132 \nC 1.55874 -2.683901 0.795609 -3 0 -3 \nC -0.795609 -3 -1.55874 -2.683901 -2.12132 -2.12132 \nC -2.683901 -1.55874 -3 -0.795609 -3 0 \nC -3 0.795609 -2.683901 1.55874 -2.12132 2.12132 \nC -1.55874 2.683901 -0.795609 3 0 3 \nz\n\" id=\"m2399c018a4\" style=\"stroke:#000000;\"/>\n    </defs>\n    <g clip-path=\"url(#p104794478c)\">\n     <use style=\"stroke:#000000;\" x=\"115.949257\" xlink:href=\"#m2399c018a4\" y=\"203.47845\"/>\n    </g>\n   </g>\n   <g id=\"patch_3\">\n    <path d=\"M 53.223625 378.43845 \nL 53.223625 28.51845 \n\" style=\"fill:none;stroke:#f0f0f0;stroke-linecap:square;stroke-linejoin:miter;stroke-width:3;\"/>\n   </g>\n   <g id=\"patch_4\">\n    <path d=\"M 679.623625 378.43845 \nL 679.623625 28.51845 \n\" style=\"fill:none;stroke:#f0f0f0;stroke-linecap:square;stroke-linejoin:miter;stroke-width:3;\"/>\n   </g>\n   <g id=\"patch_5\">\n    <path d=\"M 53.223625 378.43845 \nL 679.623625 378.43845 \n\" style=\"fill:none;stroke:#f0f0f0;stroke-linecap:square;stroke-linejoin:miter;stroke-width:3;\"/>\n   </g>\n   <g id=\"patch_6\">\n    <path d=\"M 53.223625 28.51845 \nL 679.623625 28.51845 \n\" style=\"fill:none;stroke:#f0f0f0;stroke-linecap:square;stroke-linejoin:miter;stroke-width:3;\"/>\n   </g>\n   <g id=\"text_16\">\n    <!-- Elbow curve -->\n    <g transform=\"translate(304.99705 22.51845)scale(0.2016 -0.2016)\">\n     <defs>\n      <path d=\"M 48.6875 27.296875 \nQ 48.6875 37.203125 44.609375 42.84375 \nQ 40.53125 48.484375 33.40625 48.484375 \nQ 26.265625 48.484375 22.1875 42.84375 \nQ 18.109375 37.203125 18.109375 27.296875 \nQ 18.109375 17.390625 22.1875 11.75 \nQ 26.265625 6.109375 33.40625 6.109375 \nQ 40.53125 6.109375 44.609375 11.75 \nQ 48.6875 17.390625 48.6875 27.296875 \nz\nM 18.109375 46.390625 \nQ 20.953125 51.265625 25.265625 53.625 \nQ 29.59375 56 35.59375 56 \nQ 45.5625 56 51.78125 48.09375 \nQ 58.015625 40.1875 58.015625 27.296875 \nQ 58.015625 14.40625 51.78125 6.484375 \nQ 45.5625 -1.421875 35.59375 -1.421875 \nQ 29.59375 -1.421875 25.265625 0.953125 \nQ 20.953125 3.328125 18.109375 8.203125 \nL 18.109375 0 \nL 9.078125 0 \nL 9.078125 75.984375 \nL 18.109375 75.984375 \nz\n\" id=\"DejaVuSans-98\"/>\n      <path d=\"M 4.203125 54.6875 \nL 13.1875 54.6875 \nL 24.421875 12.015625 \nL 35.59375 54.6875 \nL 46.1875 54.6875 \nL 57.421875 12.015625 \nL 68.609375 54.6875 \nL 77.59375 54.6875 \nL 63.28125 0 \nL 52.6875 0 \nL 40.921875 44.828125 \nL 29.109375 0 \nL 18.5 0 \nz\n\" id=\"DejaVuSans-119\"/>\n      <path d=\"M 8.5 21.578125 \nL 8.5 54.6875 \nL 17.484375 54.6875 \nL 17.484375 21.921875 \nQ 17.484375 14.15625 20.5 10.265625 \nQ 23.53125 6.390625 29.59375 6.390625 \nQ 36.859375 6.390625 41.078125 11.03125 \nQ 45.3125 15.671875 45.3125 23.6875 \nL 45.3125 54.6875 \nL 54.296875 54.6875 \nL 54.296875 0 \nL 45.3125 0 \nL 45.3125 8.40625 \nQ 42.046875 3.421875 37.71875 1 \nQ 33.40625 -1.421875 27.6875 -1.421875 \nQ 18.265625 -1.421875 13.375 4.4375 \nQ 8.5 10.296875 8.5 21.578125 \nz\nM 31.109375 56 \nz\n\" id=\"DejaVuSans-117\"/>\n      <path d=\"M 2.984375 54.6875 \nL 12.5 54.6875 \nL 29.59375 8.796875 \nL 46.6875 54.6875 \nL 56.203125 54.6875 \nL 35.6875 0 \nL 23.484375 0 \nz\n\" id=\"DejaVuSans-118\"/>\n     </defs>\n     <use xlink:href=\"#DejaVuSans-69\"/>\n     <use x=\"63.183594\" xlink:href=\"#DejaVuSans-108\"/>\n     <use x=\"90.966797\" xlink:href=\"#DejaVuSans-98\"/>\n     <use x=\"154.443359\" xlink:href=\"#DejaVuSans-111\"/>\n     <use x=\"215.625\" xlink:href=\"#DejaVuSans-119\"/>\n     <use x=\"297.412109\" xlink:href=\"#DejaVuSans-32\"/>\n     <use x=\"329.199219\" xlink:href=\"#DejaVuSans-99\"/>\n     <use x=\"384.179688\" xlink:href=\"#DejaVuSans-117\"/>\n     <use x=\"447.558594\" xlink:href=\"#DejaVuSans-114\"/>\n     <use x=\"488.671875\" xlink:href=\"#DejaVuSans-118\"/>\n     <use x=\"547.851562\" xlink:href=\"#DejaVuSans-101\"/>\n    </g>\n   </g>\n  </g>\n </g>\n <defs>\n  <clipPath id=\"p104794478c\">\n   <rect height=\"349.92\" width=\"626.4\" x=\"53.223625\" y=\"28.51845\"/>\n  </clipPath>\n </defs>\n</svg>\n",
      "image/png": "[encoded data removed]"
     },
     "metadata": {}
    }
   ],
   "source": [
    "#graphically displaying the optimal components \n",
    "plt.style.use(\"fivethirtyeight\")\n",
    "plt.figure(figsize=(10,6))\n",
    "plt.plot(cumsum, linewidth=3)\n",
    "plt.title(\"Elbow curve\")\n",
    "plt.xlabel(\"Dimensions\")\n",
    "plt.ylabel(\"Explained Variance\")\n",
    "plt.plot([d, d], [0, threshold], \"k:\", linewidth=2)\n",
    "plt.plot([0, d], [threshold, threshold], \"k:\",linewidth=2)\n",
    "plt.plot(d, threshold, \"ko\")\n",
    "plt.grid(True)\n",
    "plt.show()"
   ]
  },
  {
   "cell_type": "code",
   "execution_count": 13,
   "metadata": {},
   "outputs": [
    {
     "output_type": "execute_result",
     "data": {
      "text/plain": [
       "8"
      ]
     },
     "metadata": {},
     "execution_count": 13
    }
   ],
   "source": [
    "d"
   ]
  },
  {
   "source": [
    "#creating a dataframe with d number of components. \n",
    "pca = PCA(n_components=d)\n",
    "prinicpalComponents = pca.fit_transform(aisle_share_pivot.fillna(0))\n",
    "\n",
    "PCA_components = pd.DataFrame(prinicpalComponents)"
   ],
   "cell_type": "code",
   "metadata": {},
   "execution_count": 14,
   "outputs": []
  },
  {
   "cell_type": "code",
   "execution_count": 15,
   "metadata": {},
   "outputs": [
    {
     "output_type": "execute_result",
     "data": {
      "text/plain": [
       "               0         1         2         3         4         5         6  \\\n",
       "0      -0.122382  0.028613 -0.047848  0.012768 -0.075263 -0.111772 -0.100692   \n",
       "1      -0.034421  0.111616 -0.064131 -0.109468  0.073278 -0.029577 -0.049194   \n",
       "2       0.063256  0.104112  0.000496 -0.014156 -0.047750  0.111110 -0.031761   \n",
       "3      -0.094301  0.052755  0.001040 -0.005060 -0.071585 -0.017791 -0.025108   \n",
       "4       0.089432 -0.031068 -0.022805 -0.011825  0.042324  0.111459 -0.015790   \n",
       "...          ...       ...       ...       ...       ...       ...       ...   \n",
       "206204  0.001716  0.084855 -0.065398 -0.068637  0.114986 -0.028527  0.020647   \n",
       "206205 -0.089658 -0.046734 -0.048290  0.012792 -0.059579 -0.000535 -0.013984   \n",
       "206206 -0.024827 -0.013520 -0.003968 -0.030921  0.032984  0.020697  0.037704   \n",
       "206207 -0.009310 -0.003375 -0.045594 -0.012232  0.013774  0.055663  0.008031   \n",
       "206208 -0.066755  0.044041 -0.049675 -0.005736 -0.045207 -0.019144 -0.009821   \n",
       "\n",
       "               7  \n",
       "0       0.088324  \n",
       "1      -0.058612  \n",
       "2       0.013051  \n",
       "3      -0.039075  \n",
       "4       0.100961  \n",
       "...          ...  \n",
       "206204  0.023932  \n",
       "206205 -0.042920  \n",
       "206206  0.032956  \n",
       "206207  0.029408  \n",
       "206208  0.040013  \n",
       "\n",
       "[206209 rows x 8 columns]"
      ],
      "text/html": "<div>\n<style scoped>\n    .dataframe tbody tr th:only-of-type {\n        vertical-align: middle;\n    }\n\n    .dataframe tbody tr th {\n        vertical-align: top;\n    }\n\n    .dataframe thead th {\n        text-align: right;\n    }\n</style>\n<table border=\"1\" class=\"dataframe\">\n  <thead>\n    <tr style=\"text-align: right;\">\n      <th></th>\n      <th>0</th>\n      <th>1</th>\n      <th>2</th>\n      <th>3</th>\n      <th>4</th>\n      <th>5</th>\n      <th>6</th>\n      <th>7</th>\n    </tr>\n  </thead>\n  <tbody>\n    <tr>\n      <th>0</th>\n      <td>-0.122382</td>\n      <td>0.028613</td>\n      <td>-0.047848</td>\n      <td>0.012768</td>\n      <td>-0.075263</td>\n      <td>-0.111772</td>\n      <td>-0.100692</td>\n      <td>0.088324</td>\n    </tr>\n    <tr>\n      <th>1</th>\n      <td>-0.034421</td>\n      <td>0.111616</td>\n      <td>-0.064131</td>\n      <td>-0.109468</td>\n      <td>0.073278</td>\n      <td>-0.029577</td>\n      <td>-0.049194</td>\n      <td>-0.058612</td>\n    </tr>\n    <tr>\n      <th>2</th>\n      <td>0.063256</td>\n      <td>0.104112</td>\n      <td>0.000496</td>\n      <td>-0.014156</td>\n      <td>-0.047750</td>\n      <td>0.111110</td>\n      <td>-0.031761</td>\n      <td>0.013051</td>\n    </tr>\n    <tr>\n      <th>3</th>\n      <td>-0.094301</td>\n      <td>0.052755</td>\n      <td>0.001040</td>\n      <td>-0.005060</td>\n      <td>-0.071585</td>\n      <td>-0.017791</td>\n      <td>-0.025108</td>\n      <td>-0.039075</td>\n    </tr>\n    <tr>\n      <th>4</th>\n      <td>0.089432</td>\n      <td>-0.031068</td>\n      <td>-0.022805</td>\n      <td>-0.011825</td>\n      <td>0.042324</td>\n      <td>0.111459</td>\n      <td>-0.015790</td>\n      <td>0.100961</td>\n    </tr>\n    <tr>\n      <th>...</th>\n      <td>...</td>\n      <td>...</td>\n      <td>...</td>\n      <td>...</td>\n      <td>...</td>\n      <td>...</td>\n      <td>...</td>\n      <td>...</td>\n    </tr>\n    <tr>\n      <th>206204</th>\n      <td>0.001716</td>\n      <td>0.084855</td>\n      <td>-0.065398</td>\n      <td>-0.068637</td>\n      <td>0.114986</td>\n      <td>-0.028527</td>\n      <td>0.020647</td>\n      <td>0.023932</td>\n    </tr>\n    <tr>\n      <th>206205</th>\n      <td>-0.089658</td>\n      <td>-0.046734</td>\n      <td>-0.048290</td>\n      <td>0.012792</td>\n      <td>-0.059579</td>\n      <td>-0.000535</td>\n      <td>-0.013984</td>\n      <td>-0.042920</td>\n    </tr>\n    <tr>\n      <th>206206</th>\n      <td>-0.024827</td>\n      <td>-0.013520</td>\n      <td>-0.003968</td>\n      <td>-0.030921</td>\n      <td>0.032984</td>\n      <td>0.020697</td>\n      <td>0.037704</td>\n      <td>0.032956</td>\n    </tr>\n    <tr>\n      <th>206207</th>\n      <td>-0.009310</td>\n      <td>-0.003375</td>\n      <td>-0.045594</td>\n      <td>-0.012232</td>\n      <td>0.013774</td>\n      <td>0.055663</td>\n      <td>0.008031</td>\n      <td>0.029408</td>\n    </tr>\n    <tr>\n      <th>206208</th>\n      <td>-0.066755</td>\n      <td>0.044041</td>\n      <td>-0.049675</td>\n      <td>-0.005736</td>\n      <td>-0.045207</td>\n      <td>-0.019144</td>\n      <td>-0.009821</td>\n      <td>0.040013</td>\n    </tr>\n  </tbody>\n</table>\n<p>206209 rows × 8 columns</p>\n</div>"
     },
     "metadata": {},
     "execution_count": 15
    }
   ],
   "source": [
    "PCA_components"
   ]
  },
  {
   "cell_type": "code",
   "execution_count": 16,
   "metadata": {},
   "outputs": [],
   "source": [
    "import seaborn as sns"
   ]
  },
  {
   "cell_type": "code",
   "execution_count": 17,
   "metadata": {},
   "outputs": [],
   "source": [
    "#sns.pairplot(PCA_components[range(d)])"
   ]
  },
  {
   "cell_type": "code",
   "execution_count": 18,
   "metadata": {},
   "outputs": [],
   "source": [
    "from sklearn.cluster import KMeans"
   ]
  },
  {
   "cell_type": "code",
   "execution_count": 19,
   "metadata": {},
   "outputs": [],
   "source": [
    "#Figuring out optimal n for epsilon\n",
    "from sklearn.neighbors import NearestNeighbors\n",
    "neigh = NearestNeighbors(n_neighbors=2)\n",
    "nbrs = neigh.fit(PCA_components[range(d)])\n",
    "distances, indices = nbrs.kneighbors(PCA_components[range(d)])"
   ]
  },
  {
   "cell_type": "code",
   "execution_count": 46,
   "metadata": {},
   "outputs": [
    {
     "output_type": "execute_result",
     "data": {
      "text/plain": [
       "[<matplotlib.lines.Line2D at 0x7f74f1bc7b50>]"
      ]
     },
     "metadata": {},
     "execution_count": 46
    },
    {
     "output_type": "display_data",
     "data": {
      "text/plain": "<Figure size 432x288 with 1 Axes>",
      "image/png": "[encoded data removed]"
     },
     "metadata": {}
    }
   ],
   "source": [
    "#elbow measuring the optimal epsilon for our DBSCAN\n",
    "distances = np.sort(distances, axis=0)\n",
    "distances = distances[:,1]\n",
    "plt.plot(distances)"
   ]
  },
  {
   "cell_type": "code",
   "execution_count": 21,
   "metadata": {},
   "outputs": [],
   "source": [
    "epsilon = 0.05\n",
    "ms = 5"
   ]
  },
  {
   "cell_type": "code",
   "execution_count": null,
   "metadata": {},
   "outputs": [],
   "source": [
    "#info https://stats.stackexchange.com/questions/79470/how-to-compare-dbscan-clusters-choose-epsilon-parameter"
   ]
  },
  {
   "cell_type": "code",
   "execution_count": 24,
   "metadata": {},
   "outputs": [
    {
     "output_type": "error",
     "ename": "AttributeError",
     "evalue": "type object 'DBSCAN' has no attribute 'inertia_'",
     "traceback": [
      "\u001b[0;31m---------------------------------------------------------------------------\u001b[0m",
      "\u001b[0;31mAttributeError\u001b[0m                            Traceback (most recent call last)",
      "\u001b[0;32m<ipython-input-24-b25df2e94e2a>\u001b[0m in \u001b[0;36m<module>\u001b[0;34m\u001b[0m\n\u001b[1;32m      5\u001b[0m \u001b[0;32mfor\u001b[0m \u001b[0mms\u001b[0m \u001b[0;32min\u001b[0m \u001b[0mrange\u001b[0m\u001b[0;34m(\u001b[0m\u001b[0;36m2\u001b[0m\u001b[0;34m,\u001b[0m\u001b[0;36m20\u001b[0m\u001b[0;34m)\u001b[0m\u001b[0;34m:\u001b[0m\u001b[0;34m\u001b[0m\u001b[0;34m\u001b[0m\u001b[0m\n\u001b[1;32m      6\u001b[0m     \u001b[0mdb_scan\u001b[0m \u001b[0;34m=\u001b[0m \u001b[0mDBSCAN\u001b[0m\u001b[0;34m(\u001b[0m\u001b[0mmin_samples\u001b[0m \u001b[0;34m=\u001b[0m \u001b[0mms\u001b[0m\u001b[0;34m,\u001b[0m \u001b[0meps\u001b[0m\u001b[0;34m=\u001b[0m\u001b[0mepsilon\u001b[0m\u001b[0;34m,\u001b[0m \u001b[0mn_jobs\u001b[0m\u001b[0;34m=\u001b[0m\u001b[0;34m-\u001b[0m\u001b[0;36m1\u001b[0m\u001b[0;34m)\u001b[0m\u001b[0;34m.\u001b[0m\u001b[0mfit\u001b[0m\u001b[0;34m(\u001b[0m\u001b[0mPCA_components\u001b[0m\u001b[0;34m[\u001b[0m\u001b[0mrange\u001b[0m\u001b[0;34m(\u001b[0m\u001b[0md\u001b[0m\u001b[0;34m)\u001b[0m\u001b[0;34m]\u001b[0m\u001b[0;34m)\u001b[0m\u001b[0;34m\u001b[0m\u001b[0;34m\u001b[0m\u001b[0m\n\u001b[0;32m----> 7\u001b[0;31m     \u001b[0msse\u001b[0m\u001b[0;34m[\u001b[0m\u001b[0mms\u001b[0m\u001b[0;34m]\u001b[0m \u001b[0;34m=\u001b[0m \u001b[0mDBSCAN\u001b[0m\u001b[0;34m.\u001b[0m\u001b[0minertia_\u001b[0m\u001b[0;34m\u001b[0m\u001b[0;34m\u001b[0m\u001b[0m\n\u001b[0m\u001b[1;32m      8\u001b[0m     \u001b[0mlabels\u001b[0m\u001b[0;34m[\u001b[0m\u001b[0mms\u001b[0m\u001b[0;34m]\u001b[0m \u001b[0;34m=\u001b[0m \u001b[0mDBSCAN\u001b[0m\u001b[0;34m.\u001b[0m\u001b[0mlabels_\u001b[0m\u001b[0;34m\u001b[0m\u001b[0;34m\u001b[0m\u001b[0m\n\u001b[1;32m      9\u001b[0m \u001b[0mplt\u001b[0m\u001b[0;34m.\u001b[0m\u001b[0mfigure\u001b[0m\u001b[0;34m(\u001b[0m\u001b[0;34m)\u001b[0m\u001b[0;34m\u001b[0m\u001b[0;34m\u001b[0m\u001b[0m\n",
      "\u001b[0;31mAttributeError\u001b[0m: type object 'DBSCAN' has no attribute 'inertia_'"
     ]
    }
   ],
   "source": [
    "#DBSCAN clustering\n",
    "from sklearn.cluster import DBSCAN\n",
    "sse = {}\n",
    "labels = {}\n",
    "for ms in range(2,20):\n",
    "    db_scan = DBSCAN(min_samples = ms, eps=epsilon, n_jobs=-1).fit(PCA_components[range(d)])\n",
    "    sse[ms] = DBSCAN.inertia_\n",
    "    labels[ms] = DBSCAN.labels_\n",
    "plt.figure()\n",
    "plt.plot(list(sse.keys()), list(sse.values()))\n",
    "plt.xlabel(\"Number of cluster\")\n",
    "plt.ylabel(\"SSE\")\n",
    "plt.show()"
   ]
  },
  {
   "cell_type": "code",
   "execution_count": 20,
   "metadata": {},
   "outputs": [],
   "source": [
    "#finding optimal number of clusters using kmeans\n",
    "sse = {}\n",
    "labels = {}\n",
    "for k in range(2,20):\n",
    "    kmeans = KMeans(n_clusters = k).fit(PCA_components[range(d)])\n",
    "    sse[k] = kmeans.inertia_\n",
    "    labels[k] = kmeans.labels_\n",
    "plt.figure()\n",
    "plt.plot(list(sse.keys()), list(sse.values()))\n",
    "plt.xlabel(\"Number of cluster\")\n",
    "plt.ylabel(\"SSE\")\n",
    "plt.show()"
   ]
  },
  {
   "cell_type": "code",
   "execution_count": 61,
   "metadata": {},
   "outputs": [],
   "source": [
    "aisle_share_pivot = aisle_share_pivot.fillna(0)"
   ]
  },
  {
   "cell_type": "code",
   "execution_count": 67,
   "metadata": {},
   "outputs": [],
   "source": [
    "#concatting cluster onto \n",
    "cluster_df = pd.concat([PCA_components[range(d)],pd.Series(labels[d]).rename('cluster')], axis = 1)\n",
    "\n",
    "cluster_df = pd.concat([pd.Series(aisle_share_pivot.index),cluster_df],axis = 1)"
   ]
  },
  {
   "cell_type": "code",
   "execution_count": 68,
   "metadata": {},
   "outputs": [
    {
     "output_type": "execute_result",
     "data": {
      "text/plain": [
       "        user_id         0         1         2         3         4         5  \\\n",
       "0             1 -0.122382  0.028613 -0.047848  0.012766 -0.075257 -0.111785   \n",
       "1             2 -0.034421  0.111616 -0.064131 -0.109468  0.073279 -0.029573   \n",
       "2             3  0.063256  0.104112  0.000496 -0.014155 -0.047741  0.111124   \n",
       "3             4 -0.094301  0.052755  0.001040 -0.005059 -0.071587 -0.017777   \n",
       "4             5  0.089432 -0.031068 -0.022805 -0.011826  0.042320  0.111463   \n",
       "...         ...       ...       ...       ...       ...       ...       ...   \n",
       "206204   206205  0.001716  0.084855 -0.065398 -0.068637  0.114987 -0.028526   \n",
       "206205   206206 -0.089658 -0.046734 -0.048290  0.012790 -0.059584 -0.000555   \n",
       "206206   206207 -0.024827 -0.013520 -0.003968 -0.030920  0.032991  0.020688   \n",
       "206207   206208 -0.009310 -0.003375 -0.045594 -0.012232  0.013767  0.055678   \n",
       "206208   206209 -0.066755  0.044041 -0.049676 -0.005734 -0.045205 -0.019118   \n",
       "\n",
       "               6         7  cluster  \n",
       "0      -0.100875  0.088398        6  \n",
       "1      -0.049181 -0.058611        2  \n",
       "2      -0.031866  0.013089        4  \n",
       "3      -0.025033 -0.039054        1  \n",
       "4      -0.015768  0.100988        0  \n",
       "...          ...       ...      ...  \n",
       "206204  0.020659  0.023901        2  \n",
       "206205 -0.013935 -0.042941        1  \n",
       "206206  0.037651  0.032849        0  \n",
       "206207  0.008144  0.029488        0  \n",
       "206208 -0.009830  0.040129        1  \n",
       "\n",
       "[206209 rows x 10 columns]"
      ],
      "text/html": "<div>\n<style scoped>\n    .dataframe tbody tr th:only-of-type {\n        vertical-align: middle;\n    }\n\n    .dataframe tbody tr th {\n        vertical-align: top;\n    }\n\n    .dataframe thead th {\n        text-align: right;\n    }\n</style>\n<table border=\"1\" class=\"dataframe\">\n  <thead>\n    <tr style=\"text-align: right;\">\n      <th></th>\n      <th>user_id</th>\n      <th>0</th>\n      <th>1</th>\n      <th>2</th>\n      <th>3</th>\n      <th>4</th>\n      <th>5</th>\n      <th>6</th>\n      <th>7</th>\n      <th>cluster</th>\n    </tr>\n  </thead>\n  <tbody>\n    <tr>\n      <th>0</th>\n      <td>1</td>\n      <td>-0.122382</td>\n      <td>0.028613</td>\n      <td>-0.047848</td>\n      <td>0.012766</td>\n      <td>-0.075257</td>\n      <td>-0.111785</td>\n      <td>-0.100875</td>\n      <td>0.088398</td>\n      <td>6</td>\n    </tr>\n    <tr>\n      <th>1</th>\n      <td>2</td>\n      <td>-0.034421</td>\n      <td>0.111616</td>\n      <td>-0.064131</td>\n      <td>-0.109468</td>\n      <td>0.073279</td>\n      <td>-0.029573</td>\n      <td>-0.049181</td>\n      <td>-0.058611</td>\n      <td>2</td>\n    </tr>\n    <tr>\n      <th>2</th>\n      <td>3</td>\n      <td>0.063256</td>\n      <td>0.104112</td>\n      <td>0.000496</td>\n      <td>-0.014155</td>\n      <td>-0.047741</td>\n      <td>0.111124</td>\n      <td>-0.031866</td>\n      <td>0.013089</td>\n      <td>4</td>\n    </tr>\n    <tr>\n      <th>3</th>\n      <td>4</td>\n      <td>-0.094301</td>\n      <td>0.052755</td>\n      <td>0.001040</td>\n      <td>-0.005059</td>\n      <td>-0.071587</td>\n      <td>-0.017777</td>\n      <td>-0.025033</td>\n      <td>-0.039054</td>\n      <td>1</td>\n    </tr>\n    <tr>\n      <th>4</th>\n      <td>5</td>\n      <td>0.089432</td>\n      <td>-0.031068</td>\n      <td>-0.022805</td>\n      <td>-0.011826</td>\n      <td>0.042320</td>\n      <td>0.111463</td>\n      <td>-0.015768</td>\n      <td>0.100988</td>\n      <td>0</td>\n    </tr>\n    <tr>\n      <th>...</th>\n      <td>...</td>\n      <td>...</td>\n      <td>...</td>\n      <td>...</td>\n      <td>...</td>\n      <td>...</td>\n      <td>...</td>\n      <td>...</td>\n      <td>...</td>\n      <td>...</td>\n    </tr>\n    <tr>\n      <th>206204</th>\n      <td>206205</td>\n      <td>0.001716</td>\n      <td>0.084855</td>\n      <td>-0.065398</td>\n      <td>-0.068637</td>\n      <td>0.114987</td>\n      <td>-0.028526</td>\n      <td>0.020659</td>\n      <td>0.023901</td>\n      <td>2</td>\n    </tr>\n    <tr>\n      <th>206205</th>\n      <td>206206</td>\n      <td>-0.089658</td>\n      <td>-0.046734</td>\n      <td>-0.048290</td>\n      <td>0.012790</td>\n      <td>-0.059584</td>\n      <td>-0.000555</td>\n      <td>-0.013935</td>\n      <td>-0.042941</td>\n      <td>1</td>\n    </tr>\n    <tr>\n      <th>206206</th>\n      <td>206207</td>\n      <td>-0.024827</td>\n      <td>-0.013520</td>\n      <td>-0.003968</td>\n      <td>-0.030920</td>\n      <td>0.032991</td>\n      <td>0.020688</td>\n      <td>0.037651</td>\n      <td>0.032849</td>\n      <td>0</td>\n    </tr>\n    <tr>\n      <th>206207</th>\n      <td>206208</td>\n      <td>-0.009310</td>\n      <td>-0.003375</td>\n      <td>-0.045594</td>\n      <td>-0.012232</td>\n      <td>0.013767</td>\n      <td>0.055678</td>\n      <td>0.008144</td>\n      <td>0.029488</td>\n      <td>0</td>\n    </tr>\n    <tr>\n      <th>206208</th>\n      <td>206209</td>\n      <td>-0.066755</td>\n      <td>0.044041</td>\n      <td>-0.049676</td>\n      <td>-0.005734</td>\n      <td>-0.045205</td>\n      <td>-0.019118</td>\n      <td>-0.009830</td>\n      <td>0.040129</td>\n      <td>1</td>\n    </tr>\n  </tbody>\n</table>\n<p>206209 rows × 10 columns</p>\n</div>"
     },
     "metadata": {},
     "execution_count": 68
    }
   ],
   "source": [
    "cluster_df"
   ]
  },
  {
   "cell_type": "code",
   "execution_count": 66,
   "metadata": {},
   "outputs": [
    {
     "output_type": "execute_result",
     "data": {
      "text/plain": [
       "        user_id  user_id         0         1         2         3         4  \\\n",
       "0             1        1 -0.122382  0.028613 -0.047848  0.012766 -0.075257   \n",
       "1             2        2 -0.034421  0.111616 -0.064131 -0.109468  0.073279   \n",
       "2             3        3  0.063256  0.104112  0.000496 -0.014155 -0.047741   \n",
       "3             4        4 -0.094301  0.052755  0.001040 -0.005059 -0.071587   \n",
       "4             5        5  0.089432 -0.031068 -0.022805 -0.011826  0.042320   \n",
       "...         ...      ...       ...       ...       ...       ...       ...   \n",
       "206204   206205   206205  0.001716  0.084855 -0.065398 -0.068637  0.114987   \n",
       "206205   206206   206206 -0.089658 -0.046734 -0.048290  0.012790 -0.059584   \n",
       "206206   206207   206207 -0.024827 -0.013520 -0.003968 -0.030920  0.032991   \n",
       "206207   206208   206208 -0.009310 -0.003375 -0.045594 -0.012232  0.013767   \n",
       "206208   206209   206209 -0.066755  0.044041 -0.049676 -0.005734 -0.045205   \n",
       "\n",
       "               5         6         7  cluster  \n",
       "0      -0.111785 -0.100875  0.088398        6  \n",
       "1      -0.029573 -0.049181 -0.058611        2  \n",
       "2       0.111124 -0.031866  0.013089        4  \n",
       "3      -0.017777 -0.025033 -0.039054        1  \n",
       "4       0.111463 -0.015768  0.100988        0  \n",
       "...          ...       ...       ...      ...  \n",
       "206204 -0.028526  0.020659  0.023901        2  \n",
       "206205 -0.000555 -0.013935 -0.042941        1  \n",
       "206206  0.020688  0.037651  0.032849        0  \n",
       "206207  0.055678  0.008144  0.029488        0  \n",
       "206208 -0.019118 -0.009830  0.040129        1  \n",
       "\n",
       "[206209 rows x 11 columns]"
      ],
      "text/html": "<div>\n<style scoped>\n    .dataframe tbody tr th:only-of-type {\n        vertical-align: middle;\n    }\n\n    .dataframe tbody tr th {\n        vertical-align: top;\n    }\n\n    .dataframe thead th {\n        text-align: right;\n    }\n</style>\n<table border=\"1\" class=\"dataframe\">\n  <thead>\n    <tr style=\"text-align: right;\">\n      <th></th>\n      <th>user_id</th>\n      <th>user_id</th>\n      <th>0</th>\n      <th>1</th>\n      <th>2</th>\n      <th>3</th>\n      <th>4</th>\n      <th>5</th>\n      <th>6</th>\n      <th>7</th>\n      <th>cluster</th>\n    </tr>\n  </thead>\n  <tbody>\n    <tr>\n      <th>0</th>\n      <td>1</td>\n      <td>1</td>\n      <td>-0.122382</td>\n      <td>0.028613</td>\n      <td>-0.047848</td>\n      <td>0.012766</td>\n      <td>-0.075257</td>\n      <td>-0.111785</td>\n      <td>-0.100875</td>\n      <td>0.088398</td>\n      <td>6</td>\n    </tr>\n    <tr>\n      <th>1</th>\n      <td>2</td>\n      <td>2</td>\n      <td>-0.034421</td>\n      <td>0.111616</td>\n      <td>-0.064131</td>\n      <td>-0.109468</td>\n      <td>0.073279</td>\n      <td>-0.029573</td>\n      <td>-0.049181</td>\n      <td>-0.058611</td>\n      <td>2</td>\n    </tr>\n    <tr>\n      <th>2</th>\n      <td>3</td>\n      <td>3</td>\n      <td>0.063256</td>\n      <td>0.104112</td>\n      <td>0.000496</td>\n      <td>-0.014155</td>\n      <td>-0.047741</td>\n      <td>0.111124</td>\n      <td>-0.031866</td>\n      <td>0.013089</td>\n      <td>4</td>\n    </tr>\n    <tr>\n      <th>3</th>\n      <td>4</td>\n      <td>4</td>\n      <td>-0.094301</td>\n      <td>0.052755</td>\n      <td>0.001040</td>\n      <td>-0.005059</td>\n      <td>-0.071587</td>\n      <td>-0.017777</td>\n      <td>-0.025033</td>\n      <td>-0.039054</td>\n      <td>1</td>\n    </tr>\n    <tr>\n      <th>4</th>\n      <td>5</td>\n      <td>5</td>\n      <td>0.089432</td>\n      <td>-0.031068</td>\n      <td>-0.022805</td>\n      <td>-0.011826</td>\n      <td>0.042320</td>\n      <td>0.111463</td>\n      <td>-0.015768</td>\n      <td>0.100988</td>\n      <td>0</td>\n    </tr>\n    <tr>\n      <th>...</th>\n      <td>...</td>\n      <td>...</td>\n      <td>...</td>\n      <td>...</td>\n      <td>...</td>\n      <td>...</td>\n      <td>...</td>\n      <td>...</td>\n      <td>...</td>\n      <td>...</td>\n      <td>...</td>\n    </tr>\n    <tr>\n      <th>206204</th>\n      <td>206205</td>\n      <td>206205</td>\n      <td>0.001716</td>\n      <td>0.084855</td>\n      <td>-0.065398</td>\n      <td>-0.068637</td>\n      <td>0.114987</td>\n      <td>-0.028526</td>\n      <td>0.020659</td>\n      <td>0.023901</td>\n      <td>2</td>\n    </tr>\n    <tr>\n      <th>206205</th>\n      <td>206206</td>\n      <td>206206</td>\n      <td>-0.089658</td>\n      <td>-0.046734</td>\n      <td>-0.048290</td>\n      <td>0.012790</td>\n      <td>-0.059584</td>\n      <td>-0.000555</td>\n      <td>-0.013935</td>\n      <td>-0.042941</td>\n      <td>1</td>\n    </tr>\n    <tr>\n      <th>206206</th>\n      <td>206207</td>\n      <td>206207</td>\n      <td>-0.024827</td>\n      <td>-0.013520</td>\n      <td>-0.003968</td>\n      <td>-0.030920</td>\n      <td>0.032991</td>\n      <td>0.020688</td>\n      <td>0.037651</td>\n      <td>0.032849</td>\n      <td>0</td>\n    </tr>\n    <tr>\n      <th>206207</th>\n      <td>206208</td>\n      <td>206208</td>\n      <td>-0.009310</td>\n      <td>-0.003375</td>\n      <td>-0.045594</td>\n      <td>-0.012232</td>\n      <td>0.013767</td>\n      <td>0.055678</td>\n      <td>0.008144</td>\n      <td>0.029488</td>\n      <td>0</td>\n    </tr>\n    <tr>\n      <th>206208</th>\n      <td>206209</td>\n      <td>206209</td>\n      <td>-0.066755</td>\n      <td>0.044041</td>\n      <td>-0.049676</td>\n      <td>-0.005734</td>\n      <td>-0.045205</td>\n      <td>-0.019118</td>\n      <td>-0.009830</td>\n      <td>0.040129</td>\n      <td>1</td>\n    </tr>\n  </tbody>\n</table>\n<p>206209 rows × 11 columns</p>\n</div>"
     },
     "metadata": {},
     "execution_count": 66
    }
   ],
   "source": [
    "cluster_df"
   ]
  },
  {
   "cell_type": "code",
   "execution_count": 70,
   "metadata": {},
   "outputs": [],
   "source": [
    "#Adding cluster number to our asile share per user dataframe \n",
    "cluster_aisle_br = aisle_share_per_user.merge(cluster_df[['user_id','cluster']], on = 'user_id')"
   ]
  },
  {
   "cell_type": "code",
   "execution_count": 71,
   "metadata": {},
   "outputs": [
    {
     "output_type": "execute_result",
     "data": {
      "text/plain": [
       "         user_id              aisle  aisle_share  cluster\n",
       "0              1    candy chocolate     0.028571        6\n",
       "1              1             cereal     0.057143        6\n",
       "2              1              cream     0.042857        6\n",
       "3              1       fresh fruits     0.071429        6\n",
       "4              1               milk     0.014286        6\n",
       "...          ...                ...          ...      ...\n",
       "5919835   206209        soft drinks     0.080292        1\n",
       "5919836   206209    soy lactosefree     0.072993        1\n",
       "5919837   206209  spices seasonings     0.007299        1\n",
       "5919838   206209  trash bags liners     0.007299        1\n",
       "5919839   206209             yogurt     0.021898        1\n",
       "\n",
       "[5919840 rows x 4 columns]"
      ],
      "text/html": "<div>\n<style scoped>\n    .dataframe tbody tr th:only-of-type {\n        vertical-align: middle;\n    }\n\n    .dataframe tbody tr th {\n        vertical-align: top;\n    }\n\n    .dataframe thead th {\n        text-align: right;\n    }\n</style>\n<table border=\"1\" class=\"dataframe\">\n  <thead>\n    <tr style=\"text-align: right;\">\n      <th></th>\n      <th>user_id</th>\n      <th>aisle</th>\n      <th>aisle_share</th>\n      <th>cluster</th>\n    </tr>\n  </thead>\n  <tbody>\n    <tr>\n      <th>0</th>\n      <td>1</td>\n      <td>candy chocolate</td>\n      <td>0.028571</td>\n      <td>6</td>\n    </tr>\n    <tr>\n      <th>1</th>\n      <td>1</td>\n      <td>cereal</td>\n      <td>0.057143</td>\n      <td>6</td>\n    </tr>\n    <tr>\n      <th>2</th>\n      <td>1</td>\n      <td>cream</td>\n      <td>0.042857</td>\n      <td>6</td>\n    </tr>\n    <tr>\n      <th>3</th>\n      <td>1</td>\n      <td>fresh fruits</td>\n      <td>0.071429</td>\n      <td>6</td>\n    </tr>\n    <tr>\n      <th>4</th>\n      <td>1</td>\n      <td>milk</td>\n      <td>0.014286</td>\n      <td>6</td>\n    </tr>\n    <tr>\n      <th>...</th>\n      <td>...</td>\n      <td>...</td>\n      <td>...</td>\n      <td>...</td>\n    </tr>\n    <tr>\n      <th>5919835</th>\n      <td>206209</td>\n      <td>soft drinks</td>\n      <td>0.080292</td>\n      <td>1</td>\n    </tr>\n    <tr>\n      <th>5919836</th>\n      <td>206209</td>\n      <td>soy lactosefree</td>\n      <td>0.072993</td>\n      <td>1</td>\n    </tr>\n    <tr>\n      <th>5919837</th>\n      <td>206209</td>\n      <td>spices seasonings</td>\n      <td>0.007299</td>\n      <td>1</td>\n    </tr>\n    <tr>\n      <th>5919838</th>\n      <td>206209</td>\n      <td>trash bags liners</td>\n      <td>0.007299</td>\n      <td>1</td>\n    </tr>\n    <tr>\n      <th>5919839</th>\n      <td>206209</td>\n      <td>yogurt</td>\n      <td>0.021898</td>\n      <td>1</td>\n    </tr>\n  </tbody>\n</table>\n<p>5919840 rows × 4 columns</p>\n</div>"
     },
     "metadata": {},
     "execution_count": 71
    }
   ],
   "source": [
    "cluster_aisle_br"
   ]
  },
  {
   "cell_type": "code",
   "execution_count": 72,
   "metadata": {},
   "outputs": [],
   "source": [
    "all_orders_cluster = all_orders.merge(cluster_df[['user_id','cluster']], on = 'user_id')"
   ]
  },
  {
   "cell_type": "code",
   "execution_count": 73,
   "metadata": {},
   "outputs": [
    {
     "output_type": "execute_result",
     "data": {
      "text/plain": [
       "          order_id  product_id  add_to_cart_order  reordered  user_id  \\\n",
       "0                2       33120                  1          1   202279   \n",
       "1           104690       33120                  2          1   202279   \n",
       "2           132412       33120                  1          1   202279   \n",
       "3          2808715       33120                  1          1   202279   \n",
       "4          2894949       33120                  5          0   202279   \n",
       "...            ...         ...                ...        ...      ...   \n",
       "33819101   2942910       36885                  1          1    95228   \n",
       "33819102     77392       47713                  1          1    95228   \n",
       "33819103    679020       47713                  1          1    95228   \n",
       "33819104   1264096       47713                  1          1    95228   \n",
       "33819105   1751525       47713                  1          0    95228   \n",
       "\n",
       "                product_name  aisle_id  department_id  department  \\\n",
       "0         Organic Egg Whites        86             16  dairy eggs   \n",
       "1         Organic Egg Whites        86             16  dairy eggs   \n",
       "2         Organic Egg Whites        86             16  dairy eggs   \n",
       "3         Organic Egg Whites        86             16  dairy eggs   \n",
       "4         Organic Egg Whites        86             16  dairy eggs   \n",
       "...                      ...       ...            ...         ...   \n",
       "33819101                Rose       134              5     alcohol   \n",
       "33819102      Sparkling Rose       134              5     alcohol   \n",
       "33819103      Sparkling Rose       134              5     alcohol   \n",
       "33819104      Sparkling Rose       134              5     alcohol   \n",
       "33819105      Sparkling Rose       134              5     alcohol   \n",
       "\n",
       "                               aisle  cluster  \n",
       "0                               eggs        0  \n",
       "1                               eggs        0  \n",
       "2                               eggs        0  \n",
       "3                               eggs        0  \n",
       "4                               eggs        0  \n",
       "...                              ...      ...  \n",
       "33819101  specialty wines champagnes        1  \n",
       "33819102  specialty wines champagnes        1  \n",
       "33819103  specialty wines champagnes        1  \n",
       "33819104  specialty wines champagnes        1  \n",
       "33819105  specialty wines champagnes        1  \n",
       "\n",
       "[33819106 rows x 11 columns]"
      ],
      "text/html": "<div>\n<style scoped>\n    .dataframe tbody tr th:only-of-type {\n        vertical-align: middle;\n    }\n\n    .dataframe tbody tr th {\n        vertical-align: top;\n    }\n\n    .dataframe thead th {\n        text-align: right;\n    }\n</style>\n<table border=\"1\" class=\"dataframe\">\n  <thead>\n    <tr style=\"text-align: right;\">\n      <th></th>\n      <th>order_id</th>\n      <th>product_id</th>\n      <th>add_to_cart_order</th>\n      <th>reordered</th>\n      <th>user_id</th>\n      <th>product_name</th>\n      <th>aisle_id</th>\n      <th>department_id</th>\n      <th>department</th>\n      <th>aisle</th>\n      <th>cluster</th>\n    </tr>\n  </thead>\n  <tbody>\n    <tr>\n      <th>0</th>\n      <td>2</td>\n      <td>33120</td>\n      <td>1</td>\n      <td>1</td>\n      <td>202279</td>\n      <td>Organic Egg Whites</td>\n      <td>86</td>\n      <td>16</td>\n      <td>dairy eggs</td>\n      <td>eggs</td>\n      <td>0</td>\n    </tr>\n    <tr>\n      <th>1</th>\n      <td>104690</td>\n      <td>33120</td>\n      <td>2</td>\n      <td>1</td>\n      <td>202279</td>\n      <td>Organic Egg Whites</td>\n      <td>86</td>\n      <td>16</td>\n      <td>dairy eggs</td>\n      <td>eggs</td>\n      <td>0</td>\n    </tr>\n    <tr>\n      <th>2</th>\n      <td>132412</td>\n      <td>33120</td>\n      <td>1</td>\n      <td>1</td>\n      <td>202279</td>\n      <td>Organic Egg Whites</td>\n      <td>86</td>\n      <td>16</td>\n      <td>dairy eggs</td>\n      <td>eggs</td>\n      <td>0</td>\n    </tr>\n    <tr>\n      <th>3</th>\n      <td>2808715</td>\n      <td>33120</td>\n      <td>1</td>\n      <td>1</td>\n      <td>202279</td>\n      <td>Organic Egg Whites</td>\n      <td>86</td>\n      <td>16</td>\n      <td>dairy eggs</td>\n      <td>eggs</td>\n      <td>0</td>\n    </tr>\n    <tr>\n      <th>4</th>\n      <td>2894949</td>\n      <td>33120</td>\n      <td>5</td>\n      <td>0</td>\n      <td>202279</td>\n      <td>Organic Egg Whites</td>\n      <td>86</td>\n      <td>16</td>\n      <td>dairy eggs</td>\n      <td>eggs</td>\n      <td>0</td>\n    </tr>\n    <tr>\n      <th>...</th>\n      <td>...</td>\n      <td>...</td>\n      <td>...</td>\n      <td>...</td>\n      <td>...</td>\n      <td>...</td>\n      <td>...</td>\n      <td>...</td>\n      <td>...</td>\n      <td>...</td>\n      <td>...</td>\n    </tr>\n    <tr>\n      <th>33819101</th>\n      <td>2942910</td>\n      <td>36885</td>\n      <td>1</td>\n      <td>1</td>\n      <td>95228</td>\n      <td>Rose</td>\n      <td>134</td>\n      <td>5</td>\n      <td>alcohol</td>\n      <td>specialty wines champagnes</td>\n      <td>1</td>\n    </tr>\n    <tr>\n      <th>33819102</th>\n      <td>77392</td>\n      <td>47713</td>\n      <td>1</td>\n      <td>1</td>\n      <td>95228</td>\n      <td>Sparkling Rose</td>\n      <td>134</td>\n      <td>5</td>\n      <td>alcohol</td>\n      <td>specialty wines champagnes</td>\n      <td>1</td>\n    </tr>\n    <tr>\n      <th>33819103</th>\n      <td>679020</td>\n      <td>47713</td>\n      <td>1</td>\n      <td>1</td>\n      <td>95228</td>\n      <td>Sparkling Rose</td>\n      <td>134</td>\n      <td>5</td>\n      <td>alcohol</td>\n      <td>specialty wines champagnes</td>\n      <td>1</td>\n    </tr>\n    <tr>\n      <th>33819104</th>\n      <td>1264096</td>\n      <td>47713</td>\n      <td>1</td>\n      <td>1</td>\n      <td>95228</td>\n      <td>Sparkling Rose</td>\n      <td>134</td>\n      <td>5</td>\n      <td>alcohol</td>\n      <td>specialty wines champagnes</td>\n      <td>1</td>\n    </tr>\n    <tr>\n      <th>33819105</th>\n      <td>1751525</td>\n      <td>47713</td>\n      <td>1</td>\n      <td>0</td>\n      <td>95228</td>\n      <td>Sparkling Rose</td>\n      <td>134</td>\n      <td>5</td>\n      <td>alcohol</td>\n      <td>specialty wines champagnes</td>\n      <td>1</td>\n    </tr>\n  </tbody>\n</table>\n<p>33819106 rows × 11 columns</p>\n</div>"
     },
     "metadata": {},
     "execution_count": 73
    }
   ],
   "source": [
    "all_orders_cluster"
   ]
  },
  {
   "cell_type": "code",
   "execution_count": null,
   "metadata": {},
   "outputs": [],
   "source": []
  }
 ]
}