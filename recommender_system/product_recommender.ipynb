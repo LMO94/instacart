{
 "metadata": {
  "language_info": {
   "codemirror_mode": {
    "name": "ipython",
    "version": 3
   },
   "file_extension": ".py",
   "mimetype": "text/x-python",
   "name": "python",
   "nbconvert_exporter": "python",
   "pygments_lexer": "ipython3",
   "version": "3.8.3"
  },
  "orig_nbformat": 2,
  "kernelspec": {
   "name": "python383jvsc74a57bd0ba7a46ee6710be22c1d8551e12ff7ed3ba252625d60466d682d3a38f8b5abd71",
   "display_name": "Python 3.8.3 64-bit ('py38': conda)"
  }
 },
 "nbformat": 4,
 "nbformat_minor": 2,
 "cells": [
  {
   "cell_type": "code",
   "execution_count": 15,
   "metadata": {},
   "outputs": [],
   "source": [
    "import pickle\n",
    "from gensim.models import KeyedVectors"
   ]
  },
  {
   "cell_type": "code",
   "execution_count": 16,
   "metadata": {},
   "outputs": [],
   "source": [
    "cluster_product_vectors = [KeyedVectors.load(f\"../item_vectors/item_vectors_cluster_{id}.kv\") for id in range(0, 12)]"
   ]
  },
  {
   "cell_type": "code",
   "execution_count": 17,
   "metadata": {},
   "outputs": [],
   "source": [
    "with open('product_lookup.pkl', 'rb') as file:\n",
    "    product_lookup = pickle.load(file)"
   ]
  },
  {
   "cell_type": "code",
   "execution_count": 42,
   "metadata": {},
   "outputs": [],
   "source": [
    "def retrieve_most_similar_products(cluster_product_vector, product_lookup, item_number, n_matches):\n",
    "    \n",
    "    similar_products = cluster_product_vector.most_similar(item_number)[:n_matches+1]\n",
    "    similar_products_id = [similar[0] for similar in similar_products]\n",
    "    recommendations = [product_lookup[item_number] for item_number in similar_products_id]\n",
    "        \n",
    "    return recommendations   "
   ]
  },
  {
   "cell_type": "code",
   "execution_count": 43,
   "metadata": {},
   "outputs": [
    {
     "output_type": "execute_result",
     "data": {
      "text/plain": [
       "['Coarse Sea Salt',\n",
       " 'Chopped Organic Garlic',\n",
       " 'Organic Chopped Roasted Garlic',\n",
       " 'Organic Ketchup']"
      ]
     },
     "metadata": {},
     "execution_count": 43
    }
   ],
   "source": [
    "retrieve_most_similar_products(cluster_product_vectors[0], product_lookup, item_number='5692', n_matches=3)"
   ]
  },
  {
   "cell_type": "code",
   "execution_count": null,
   "metadata": {},
   "outputs": [],
   "source": []
  }
 ]
}