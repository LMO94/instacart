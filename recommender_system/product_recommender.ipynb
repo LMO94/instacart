{
 "metadata": {
  "language_info": {
   "codemirror_mode": {
    "name": "ipython",
    "version": 3
   },
   "file_extension": ".py",
   "mimetype": "text/x-python",
   "name": "python",
   "nbconvert_exporter": "python",
   "pygments_lexer": "ipython3",
   "version": "3.8.3"
  },
  "orig_nbformat": 2,
  "kernelspec": {
   "name": "python383jvsc74a57bd0ba7a46ee6710be22c1d8551e12ff7ed3ba252625d60466d682d3a38f8b5abd71",
   "display_name": "Python 3.8.3 64-bit ('py38': conda)"
  }
 },
 "nbformat": 4,
 "nbformat_minor": 2,
 "cells": [
  {
   "cell_type": "code",
   "execution_count": 1,
   "metadata": {},
   "outputs": [],
   "source": [
    "import re\n",
    "import pickle\n",
    "import numpy as np\n",
    "from itertools import chain, product\n",
    "from difflib import get_close_matches, SequenceMatcher\n",
    "from gensim.models import Word2Vec"
   ]
  },
  {
   "cell_type": "code",
   "execution_count": 2,
   "metadata": {},
   "outputs": [],
   "source": [
    "cluster_item_models = [Word2Vec.load(f\"../cluster_models/model_cluster_{id}.model\") for id in range(0, 12)]"
   ]
  },
  {
   "cell_type": "code",
   "execution_count": 3,
   "metadata": {},
   "outputs": [],
   "source": [
    "with open('product_lookup.pkl', 'rb') as file:\n",
    "    product_lookup = pickle.load(file)"
   ]
  },
  {
   "cell_type": "code",
   "execution_count": 4,
   "metadata": {},
   "outputs": [],
   "source": [
    "product_id_lookup = dict(map(reversed, product_lookup.items()))"
   ]
  },
  {
   "cell_type": "code",
   "execution_count": 16,
   "metadata": {},
   "outputs": [],
   "source": [
    "basket_items = ['Oregano', 'Avocado', 'Orange']"
   ]
  },
  {
   "cell_type": "code",
   "execution_count": 17,
   "metadata": {},
   "outputs": [],
   "source": [
    "matches = list(chain.from_iterable([get_close_matches(item, product_lookup.values()) for item in basket_items]))"
   ]
  },
  {
   "cell_type": "code",
   "execution_count": 18,
   "metadata": {},
   "outputs": [],
   "source": [
    "product_ids_matches = [product_id_lookup[item] for item in matches]"
   ]
  },
  {
   "cell_type": "code",
   "execution_count": 19,
   "metadata": {},
   "outputs": [],
   "source": [
    "def filter_matches(cluster_model, product_ids_matches):\n",
    "    return [product_id for product_id in product_ids_matches if cluster_model.wv.__contains__(product_id)]\n",
    "\n",
    "filtered_matches = filter_matches(cluster_item_models[0], product_ids_matches)"
   ]
  },
  {
   "cell_type": "code",
   "execution_count": 20,
   "metadata": {},
   "outputs": [],
   "source": [
    "product_names = [product_lookup[product] for product in filtered_matches]"
   ]
  },
  {
   "cell_type": "code",
   "execution_count": 21,
   "metadata": {},
   "outputs": [],
   "source": [
    "cross_product_names = [product for product in list(product(product_names, product_names)) if product[0] != product[1]]"
   ]
  },
  {
   "cell_type": "code",
   "execution_count": 22,
   "metadata": {},
   "outputs": [],
   "source": [
    "if np.mean([SequenceMatcher(None, cross[0], cross[1]).ratio() for cross in cross_product_names]) > 0.5:\n",
    "    filtered_matches_cleared = [filtered_matches[0]]\n",
    "else:\n",
    "    filtered_matches_cleared = filtered_matches"
   ]
  },
  {
   "cell_type": "code",
   "execution_count": 34,
   "metadata": {},
   "outputs": [],
   "source": [
    "def average_item_vectors(cluster_model, product_ids_matches):\n",
    "    if len(product_ids_matches) == 1:\n",
    "        return cluster_model.wv[product_ids_matches[0]]\n",
    "    else:    \n",
    "        embeddings = [cluster_model.wv[product_id] for product_id in product_ids_matches]\n",
    "    return np.mean(embeddings, axis=0)"
   ]
  },
  {
   "cell_type": "code",
   "execution_count": 35,
   "metadata": {},
   "outputs": [],
   "source": [
    "basket_vector = average_item_vectors(cluster_item_models[0], filtered_matches_cleared)"
   ]
  },
  {
   "cell_type": "code",
   "execution_count": 36,
   "metadata": {},
   "outputs": [],
   "source": [
    "def retrieve_most_similar_products(cluster_model, product_lookup, basket_vector, n_matches):\n",
    "    similar_products = cluster_model.wv.similar_by_vector(basket_vector, topn=n_matches)[1:n_matches]\n",
    "    similar_products_id = [similar[0] for similar in similar_products]\n",
    "    recommendations = [product_lookup[item_number] for item_number in similar_products_id]\n",
    "        \n",
    "    return recommendations   "
   ]
  },
  {
   "cell_type": "code",
   "execution_count": 37,
   "metadata": {},
   "outputs": [
    {
     "output_type": "execute_result",
     "data": {
      "text/plain": [
       "['San Francisco Potato Salad',\n",
       " 'Natural Swiss Cheese Slices',\n",
       " 'Pet-Ritz Regular Pie Crusts',\n",
       " 'Pepproni Pockets']"
      ]
     },
     "metadata": {},
     "execution_count": 37
    }
   ],
   "source": [
    "retrieve_most_similar_products(cluster_item_models[0], product_lookup, basket_vector, n_matches=5)"
   ]
  },
  {
   "cell_type": "code",
   "execution_count": null,
   "metadata": {},
   "outputs": [],
   "source": []
  }
 ]
}